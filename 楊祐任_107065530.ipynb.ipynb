{
 "cells": [
  {
   "cell_type": "markdown",
   "metadata": {},
   "source": [
    "# Part 1: Take home exercises"
   ]
  },
  {
   "cell_type": "code",
   "execution_count": 21,
   "metadata": {},
   "outputs": [],
   "source": [
    "categories = ['alt.atheism', 'soc.religion.christian', 'comp.graphics', 'sci.med']"
   ]
  },
  {
   "cell_type": "code",
   "execution_count": 2,
   "metadata": {},
   "outputs": [],
   "source": [
    "from sklearn.datasets import fetch_20newsgroups\n",
    "\n",
    "twenty_train = fetch_20newsgroups(subset='train', categories=categories, \\\n",
    "                                  shuffle=True, random_state=42)"
   ]
  },
  {
   "cell_type": "code",
   "execution_count": 3,
   "metadata": {},
   "outputs": [],
   "source": [
    "import pandas as pd\n",
    "\n",
    "# my functions\n",
    "import data_mining_helpers as dmh\n",
    "\n",
    "# construct dataframe from a list\n",
    "X = pd.DataFrame.from_records(dmh.format_rows(twenty_train), columns= ['text'])"
   ]
  },
  {
   "cell_type": "code",
   "execution_count": 4,
   "metadata": {},
   "outputs": [
    {
     "name": "stdout",
     "output_type": "stream",
     "text": [
      "From: sd345@city.ac.uk (Michael Collier) Subject: Converting images to HP LaserJet III? Nntp-Posting-Host: hampton Organization: The City University Lines: 14  Does anyone know of a good way (standard PC application/PD utility) to convert tif/img/tga files into LaserJet III format.  We would also like to do the same, converting to HPGL (HP plotter) files.  Please email any response.  Is this the correct group?  Thanks in advance.  Michael. --  Michael Collier (Programmer)                 The Computer Unit, Email: M.P.Collier@uk.ac.city                The City University, Tel: 071 477-8000 x3769                      London, Fax: 071 477-8565                            EC1V 0HB. \n",
      "From: ani@ms.uky.edu (Aniruddha B. Deglurkar) Subject: help: Splitting a trimming region along a mesh  Organization: University Of Kentucky, Dept. of Math Sciences Lines: 28    \tHi,  \tI have a problem, I hope some of the 'gurus' can help me solve.  \tBackground of the problem: \tI have a rectangular mesh in the uv domain, i.e  the mesh is a  \tmapping of a 3d Bezier patch into 2d. The area in this domain \twhich is inside a trimming loop had to be rendered. The trimming \tloop is a set of 2d Bezier curve segments. \tFor the sake of notation: the mesh is made up of cells.  \tMy problem is this : \tThe trimming area has to be split up into individual smaller \tcells bounded by the trimming curve segments. If a cell \tis wholly inside the area...then it is output as a whole , \telse it is trivially rejected.   \tDoes any body know how thiss can be done, or is there any algo.  \tsomewhere for doing this.  \tAny help would be appreciated.  \tThanks,  \tAni. --  To get irritated is human, to stay cool, divine. \n"
     ]
    }
   ],
   "source": [
    "\n",
    "for t in X['text'][:2]:\n",
    "    print(t)"
   ]
  },
  {
   "cell_type": "code",
   "execution_count": 5,
   "metadata": {},
   "outputs": [],
   "source": [
    "X['category'] = twenty_train.target"
   ]
  },
  {
   "cell_type": "code",
   "execution_count": 6,
   "metadata": {},
   "outputs": [],
   "source": [
    "X['category_name'] = X.category.apply(lambda t: dmh.format_labels(t, twenty_train))"
   ]
  },
  {
   "cell_type": "code",
   "execution_count": 7,
   "metadata": {},
   "outputs": [
    {
     "data": {
      "text/html": [
       "<div>\n",
       "<style scoped>\n",
       "    .dataframe tbody tr th:only-of-type {\n",
       "        vertical-align: middle;\n",
       "    }\n",
       "\n",
       "    .dataframe tbody tr th {\n",
       "        vertical-align: top;\n",
       "    }\n",
       "\n",
       "    .dataframe thead th {\n",
       "        text-align: right;\n",
       "    }\n",
       "</style>\n",
       "<table border=\"1\" class=\"dataframe\">\n",
       "  <thead>\n",
       "    <tr style=\"text-align: right;\">\n",
       "      <th></th>\n",
       "      <th>text</th>\n",
       "      <th>category</th>\n",
       "      <th>category_name</th>\n",
       "    </tr>\n",
       "  </thead>\n",
       "  <tbody>\n",
       "    <tr>\n",
       "      <th>0</th>\n",
       "      <td>From: sd345@city.ac.uk (Michael Collier) Subje...</td>\n",
       "      <td>1</td>\n",
       "      <td>comp.graphics</td>\n",
       "    </tr>\n",
       "    <tr>\n",
       "      <th>1</th>\n",
       "      <td>From: ani@ms.uky.edu (Aniruddha B. Deglurkar) ...</td>\n",
       "      <td>1</td>\n",
       "      <td>comp.graphics</td>\n",
       "    </tr>\n",
       "    <tr>\n",
       "      <th>2</th>\n",
       "      <td>From: djohnson@cs.ucsd.edu (Darin Johnson) Sub...</td>\n",
       "      <td>3</td>\n",
       "      <td>soc.religion.christian</td>\n",
       "    </tr>\n",
       "    <tr>\n",
       "      <th>3</th>\n",
       "      <td>From: s0612596@let.rug.nl (M.M. Zwart) Subject...</td>\n",
       "      <td>3</td>\n",
       "      <td>soc.religion.christian</td>\n",
       "    </tr>\n",
       "    <tr>\n",
       "      <th>4</th>\n",
       "      <td>From: stanly@grok11.columbiasc.ncr.com (stanly...</td>\n",
       "      <td>3</td>\n",
       "      <td>soc.religion.christian</td>\n",
       "    </tr>\n",
       "    <tr>\n",
       "      <th>5</th>\n",
       "      <td>From: vbv@lor.eeap.cwru.edu (Virgilio (Dean) B...</td>\n",
       "      <td>3</td>\n",
       "      <td>soc.religion.christian</td>\n",
       "    </tr>\n",
       "    <tr>\n",
       "      <th>6</th>\n",
       "      <td>From: jodfishe@silver.ucs.indiana.edu (joseph ...</td>\n",
       "      <td>3</td>\n",
       "      <td>soc.religion.christian</td>\n",
       "    </tr>\n",
       "    <tr>\n",
       "      <th>7</th>\n",
       "      <td>From: aldridge@netcom.com (Jacquelin Aldridge)...</td>\n",
       "      <td>2</td>\n",
       "      <td>sci.med</td>\n",
       "    </tr>\n",
       "    <tr>\n",
       "      <th>8</th>\n",
       "      <td>From: geb@cs.pitt.edu (Gordon Banks) Subject: ...</td>\n",
       "      <td>2</td>\n",
       "      <td>sci.med</td>\n",
       "    </tr>\n",
       "    <tr>\n",
       "      <th>9</th>\n",
       "      <td>From: libman@hsc.usc.edu (Marlena Libman) Subj...</td>\n",
       "      <td>2</td>\n",
       "      <td>sci.med</td>\n",
       "    </tr>\n",
       "  </tbody>\n",
       "</table>\n",
       "</div>"
      ],
      "text/plain": [
       "                                                text  category  \\\n",
       "0  From: sd345@city.ac.uk (Michael Collier) Subje...         1   \n",
       "1  From: ani@ms.uky.edu (Aniruddha B. Deglurkar) ...         1   \n",
       "2  From: djohnson@cs.ucsd.edu (Darin Johnson) Sub...         3   \n",
       "3  From: s0612596@let.rug.nl (M.M. Zwart) Subject...         3   \n",
       "4  From: stanly@grok11.columbiasc.ncr.com (stanly...         3   \n",
       "5  From: vbv@lor.eeap.cwru.edu (Virgilio (Dean) B...         3   \n",
       "6  From: jodfishe@silver.ucs.indiana.edu (joseph ...         3   \n",
       "7  From: aldridge@netcom.com (Jacquelin Aldridge)...         2   \n",
       "8  From: geb@cs.pitt.edu (Gordon Banks) Subject: ...         2   \n",
       "9  From: libman@hsc.usc.edu (Marlena Libman) Subj...         2   \n",
       "\n",
       "            category_name  \n",
       "0           comp.graphics  \n",
       "1           comp.graphics  \n",
       "2  soc.religion.christian  \n",
       "3  soc.religion.christian  \n",
       "4  soc.religion.christian  \n",
       "5  soc.religion.christian  \n",
       "6  soc.religion.christian  \n",
       "7                 sci.med  \n",
       "8                 sci.med  \n",
       "9                 sci.med  "
      ]
     },
     "execution_count": 7,
     "metadata": {},
     "output_type": "execute_result"
    }
   ],
   "source": [
    "X[0:10]"
   ]
  },
  {
   "cell_type": "markdown",
   "metadata": {},
   "source": []
  },
  {
   "cell_type": "markdown",
   "metadata": {},
   "source": [
    "## Exercise 2"
   ]
  },
  {
   "cell_type": "code",
   "execution_count": 8,
   "metadata": {},
   "outputs": [
    {
     "data": {
      "text/html": [
       "<div>\n",
       "<style scoped>\n",
       "    .dataframe tbody tr th:only-of-type {\n",
       "        vertical-align: middle;\n",
       "    }\n",
       "\n",
       "    .dataframe tbody tr th {\n",
       "        vertical-align: top;\n",
       "    }\n",
       "\n",
       "    .dataframe thead th {\n",
       "        text-align: right;\n",
       "    }\n",
       "</style>\n",
       "<table border=\"1\" class=\"dataframe\">\n",
       "  <thead>\n",
       "    <tr style=\"text-align: right;\">\n",
       "      <th></th>\n",
       "      <th>text</th>\n",
       "      <th>category</th>\n",
       "      <th>category_name</th>\n",
       "    </tr>\n",
       "  </thead>\n",
       "  <tbody>\n",
       "    <tr>\n",
       "      <th>7</th>\n",
       "      <td>From: aldridge@netcom.com (Jacquelin Aldridge)...</td>\n",
       "      <td>2</td>\n",
       "      <td>sci.med</td>\n",
       "    </tr>\n",
       "    <tr>\n",
       "      <th>8</th>\n",
       "      <td>From: geb@cs.pitt.edu (Gordon Banks) Subject: ...</td>\n",
       "      <td>2</td>\n",
       "      <td>sci.med</td>\n",
       "    </tr>\n",
       "    <tr>\n",
       "      <th>9</th>\n",
       "      <td>From: libman@hsc.usc.edu (Marlena Libman) Subj...</td>\n",
       "      <td>2</td>\n",
       "      <td>sci.med</td>\n",
       "    </tr>\n",
       "    <tr>\n",
       "      <th>16</th>\n",
       "      <td>From: texx@ossi.com (Robert \"Texx\" Woodworth) ...</td>\n",
       "      <td>2</td>\n",
       "      <td>sci.med</td>\n",
       "    </tr>\n",
       "    <tr>\n",
       "      <th>28</th>\n",
       "      <td>From: rind@enterprise.bih.harvard.edu (David R...</td>\n",
       "      <td>2</td>\n",
       "      <td>sci.med</td>\n",
       "    </tr>\n",
       "    <tr>\n",
       "      <th>29</th>\n",
       "      <td>From: spp@zabriskie.berkeley.edu (Steve Pope) ...</td>\n",
       "      <td>2</td>\n",
       "      <td>sci.med</td>\n",
       "    </tr>\n",
       "    <tr>\n",
       "      <th>30</th>\n",
       "      <td>From: vgwlu@dunsell.calgary.chevron.com (greg ...</td>\n",
       "      <td>2</td>\n",
       "      <td>sci.med</td>\n",
       "    </tr>\n",
       "    <tr>\n",
       "      <th>32</th>\n",
       "      <td>From: doyle+@pitt.edu (Howard R Doyle) Subject...</td>\n",
       "      <td>2</td>\n",
       "      <td>sci.med</td>\n",
       "    </tr>\n",
       "    <tr>\n",
       "      <th>34</th>\n",
       "      <td>From: geb@cs.pitt.edu (Gordon Banks) Subject: ...</td>\n",
       "      <td>2</td>\n",
       "      <td>sci.med</td>\n",
       "    </tr>\n",
       "    <tr>\n",
       "      <th>44</th>\n",
       "      <td>From: rgasch@nl.oracle.com (Robert Gasch) Subj...</td>\n",
       "      <td>2</td>\n",
       "      <td>sci.med</td>\n",
       "    </tr>\n",
       "    <tr>\n",
       "      <th>49</th>\n",
       "      <td>From: jimj@contractor.EBay.Sun.COM (Jim Jones)...</td>\n",
       "      <td>2</td>\n",
       "      <td>sci.med</td>\n",
       "    </tr>\n",
       "    <tr>\n",
       "      <th>51</th>\n",
       "      <td>From: noring@netcom.com (Jon Noring) Subject: ...</td>\n",
       "      <td>2</td>\n",
       "      <td>sci.med</td>\n",
       "    </tr>\n",
       "    <tr>\n",
       "      <th>54</th>\n",
       "      <td>From: ls8139@albnyvms.bitnet (larry silverberg...</td>\n",
       "      <td>2</td>\n",
       "      <td>sci.med</td>\n",
       "    </tr>\n",
       "    <tr>\n",
       "      <th>56</th>\n",
       "      <td>From: kaminski@netcom.com (Peter Kaminski) Sub...</td>\n",
       "      <td>2</td>\n",
       "      <td>sci.med</td>\n",
       "    </tr>\n",
       "    <tr>\n",
       "      <th>63</th>\n",
       "      <td>From: carl@SOL1.GPS.CALTECH.EDU (Carl J Lydick...</td>\n",
       "      <td>2</td>\n",
       "      <td>sci.med</td>\n",
       "    </tr>\n",
       "    <tr>\n",
       "      <th>66</th>\n",
       "      <td>From: paj@uk.co.gec-mrc (Paul Johnson) Subject...</td>\n",
       "      <td>2</td>\n",
       "      <td>sci.med</td>\n",
       "    </tr>\n",
       "    <tr>\n",
       "      <th>71</th>\n",
       "      <td>From: Daniel.Prince@f129.n102.z1.calcom.socal....</td>\n",
       "      <td>2</td>\n",
       "      <td>sci.med</td>\n",
       "    </tr>\n",
       "    <tr>\n",
       "      <th>77</th>\n",
       "      <td>From: dmp1@ukc.ac.uk (D.M.Procida) Subject: Re...</td>\n",
       "      <td>2</td>\n",
       "      <td>sci.med</td>\n",
       "    </tr>\n",
       "    <tr>\n",
       "      <th>80</th>\n",
       "      <td>From: annick@cortex.physiol.su.oz.au (Annick A...</td>\n",
       "      <td>2</td>\n",
       "      <td>sci.med</td>\n",
       "    </tr>\n",
       "    <tr>\n",
       "      <th>81</th>\n",
       "      <td>From: kelley@vet.vet.purdue.edu (Stephen Kelle...</td>\n",
       "      <td>2</td>\n",
       "      <td>sci.med</td>\n",
       "    </tr>\n",
       "    <tr>\n",
       "      <th>82</th>\n",
       "      <td>From: jason@ab20.larc.nasa.gov (Jason Austin) ...</td>\n",
       "      <td>2</td>\n",
       "      <td>sci.med</td>\n",
       "    </tr>\n",
       "    <tr>\n",
       "      <th>83</th>\n",
       "      <td>From: sbishop@desire.wright.edu Subject: Re: H...</td>\n",
       "      <td>2</td>\n",
       "      <td>sci.med</td>\n",
       "    </tr>\n",
       "    <tr>\n",
       "      <th>87</th>\n",
       "      <td>From: nyeda@cnsvax.uwec.edu (David Nye) Subjec...</td>\n",
       "      <td>2</td>\n",
       "      <td>sci.med</td>\n",
       "    </tr>\n",
       "    <tr>\n",
       "      <th>89</th>\n",
       "      <td>Subject: Need Help in Steroid Research From: t...</td>\n",
       "      <td>2</td>\n",
       "      <td>sci.med</td>\n",
       "    </tr>\n",
       "    <tr>\n",
       "      <th>97</th>\n",
       "      <td>From: dyer@spdcc.com (Steve Dyer) Subject: Re:...</td>\n",
       "      <td>2</td>\n",
       "      <td>sci.med</td>\n",
       "    </tr>\n",
       "    <tr>\n",
       "      <th>103</th>\n",
       "      <td>From: mrb@cbnewsj.cb.att.com (m..bruncati) Sub...</td>\n",
       "      <td>2</td>\n",
       "      <td>sci.med</td>\n",
       "    </tr>\n",
       "    <tr>\n",
       "      <th>109</th>\n",
       "      <td>From: nyeda@cnsvax.uwec.edu (David Nye) Subjec...</td>\n",
       "      <td>2</td>\n",
       "      <td>sci.med</td>\n",
       "    </tr>\n",
       "    <tr>\n",
       "      <th>111</th>\n",
       "      <td>From: geb@cs.pitt.edu (Gordon Banks) Subject: ...</td>\n",
       "      <td>2</td>\n",
       "      <td>sci.med</td>\n",
       "    </tr>\n",
       "    <tr>\n",
       "      <th>115</th>\n",
       "      <td>Subject: \"STAR GARTDS\" &lt;sp?&gt; Info wanted From:...</td>\n",
       "      <td>2</td>\n",
       "      <td>sci.med</td>\n",
       "    </tr>\n",
       "    <tr>\n",
       "      <th>117</th>\n",
       "      <td>From: geb@cs.pitt.edu (Gordon Banks) Subject: ...</td>\n",
       "      <td>2</td>\n",
       "      <td>sci.med</td>\n",
       "    </tr>\n",
       "    <tr>\n",
       "      <th>...</th>\n",
       "      <td>...</td>\n",
       "      <td>...</td>\n",
       "      <td>...</td>\n",
       "    </tr>\n",
       "    <tr>\n",
       "      <th>2145</th>\n",
       "      <td>From: koreth@spud.Hyperion.COM (Steven Grimm) ...</td>\n",
       "      <td>2</td>\n",
       "      <td>sci.med</td>\n",
       "    </tr>\n",
       "    <tr>\n",
       "      <th>2152</th>\n",
       "      <td>From: jgd@dixie.com (John De Armond) Subject: ...</td>\n",
       "      <td>2</td>\n",
       "      <td>sci.med</td>\n",
       "    </tr>\n",
       "    <tr>\n",
       "      <th>2154</th>\n",
       "      <td>From: kxgst1@pitt.edu (Kenneth Gilbert) Subjec...</td>\n",
       "      <td>2</td>\n",
       "      <td>sci.med</td>\n",
       "    </tr>\n",
       "    <tr>\n",
       "      <th>2174</th>\n",
       "      <td>From: jec@watson.ibm.com Subject: Contraceptiv...</td>\n",
       "      <td>2</td>\n",
       "      <td>sci.med</td>\n",
       "    </tr>\n",
       "    <tr>\n",
       "      <th>2177</th>\n",
       "      <td>From: cerulean@access.digex.com (Bill Christen...</td>\n",
       "      <td>2</td>\n",
       "      <td>sci.med</td>\n",
       "    </tr>\n",
       "    <tr>\n",
       "      <th>2178</th>\n",
       "      <td>From: caf@omen.UUCP (Chuck Forsberg WA7KGX) Su...</td>\n",
       "      <td>2</td>\n",
       "      <td>sci.med</td>\n",
       "    </tr>\n",
       "    <tr>\n",
       "      <th>2186</th>\n",
       "      <td>Subject: Re: Can't Breathe -- Update From: RGI...</td>\n",
       "      <td>2</td>\n",
       "      <td>sci.med</td>\n",
       "    </tr>\n",
       "    <tr>\n",
       "      <th>2194</th>\n",
       "      <td>From: rind@enterprise.bih.harvard.edu (David R...</td>\n",
       "      <td>2</td>\n",
       "      <td>sci.med</td>\n",
       "    </tr>\n",
       "    <tr>\n",
       "      <th>2198</th>\n",
       "      <td>From: geb@cs.pitt.edu (Gordon Banks) Subject: ...</td>\n",
       "      <td>2</td>\n",
       "      <td>sci.med</td>\n",
       "    </tr>\n",
       "    <tr>\n",
       "      <th>2199</th>\n",
       "      <td>From: romdas@uclink.berkeley.edu (Ella I Baff)...</td>\n",
       "      <td>2</td>\n",
       "      <td>sci.med</td>\n",
       "    </tr>\n",
       "    <tr>\n",
       "      <th>2202</th>\n",
       "      <td>From: dyer@spdcc.com (Steve Dyer) Subject: Re:...</td>\n",
       "      <td>2</td>\n",
       "      <td>sci.med</td>\n",
       "    </tr>\n",
       "    <tr>\n",
       "      <th>2209</th>\n",
       "      <td>From: bbenowit@telesciences.com (Barry D Benow...</td>\n",
       "      <td>2</td>\n",
       "      <td>sci.med</td>\n",
       "    </tr>\n",
       "    <tr>\n",
       "      <th>2212</th>\n",
       "      <td>From: nyeda@cnsvax.uwec.edu (David Nye) Subjec...</td>\n",
       "      <td>2</td>\n",
       "      <td>sci.med</td>\n",
       "    </tr>\n",
       "    <tr>\n",
       "      <th>2213</th>\n",
       "      <td>From: tas@pegasus.com (Len Howard) Subject: Re...</td>\n",
       "      <td>2</td>\n",
       "      <td>sci.med</td>\n",
       "    </tr>\n",
       "    <tr>\n",
       "      <th>2215</th>\n",
       "      <td>From: michael@iastate.edu (Michael M. Huang) S...</td>\n",
       "      <td>2</td>\n",
       "      <td>sci.med</td>\n",
       "    </tr>\n",
       "    <tr>\n",
       "      <th>2218</th>\n",
       "      <td>From: bennett@kuhub.cc.ukans.edu Subject: Smok...</td>\n",
       "      <td>2</td>\n",
       "      <td>sci.med</td>\n",
       "    </tr>\n",
       "    <tr>\n",
       "      <th>2219</th>\n",
       "      <td>From: pk115050@wvnvms.wvnet.edu Subject: HELP ...</td>\n",
       "      <td>2</td>\n",
       "      <td>sci.med</td>\n",
       "    </tr>\n",
       "    <tr>\n",
       "      <th>2235</th>\n",
       "      <td>From: dougb@comm.mot.com (Doug Bank) Subject: ...</td>\n",
       "      <td>2</td>\n",
       "      <td>sci.med</td>\n",
       "    </tr>\n",
       "    <tr>\n",
       "      <th>2238</th>\n",
       "      <td>From: jim.zisfein@factory.com (Jim Zisfein)  S...</td>\n",
       "      <td>2</td>\n",
       "      <td>sci.med</td>\n",
       "    </tr>\n",
       "    <tr>\n",
       "      <th>2239</th>\n",
       "      <td>From: paj@uk.co.gec-mrc (Paul Johnson) Subject...</td>\n",
       "      <td>2</td>\n",
       "      <td>sci.med</td>\n",
       "    </tr>\n",
       "    <tr>\n",
       "      <th>2240</th>\n",
       "      <td>From: balick@nynexst.com (Daphne Balick) Subje...</td>\n",
       "      <td>2</td>\n",
       "      <td>sci.med</td>\n",
       "    </tr>\n",
       "    <tr>\n",
       "      <th>2243</th>\n",
       "      <td>From: turpin@cs.utexas.edu (Russell Turpin) Su...</td>\n",
       "      <td>2</td>\n",
       "      <td>sci.med</td>\n",
       "    </tr>\n",
       "    <tr>\n",
       "      <th>2244</th>\n",
       "      <td>From: jim.zisfein@factory.com (Jim Zisfein)  S...</td>\n",
       "      <td>2</td>\n",
       "      <td>sci.med</td>\n",
       "    </tr>\n",
       "    <tr>\n",
       "      <th>2245</th>\n",
       "      <td>From: nyeda@cnsvax.uwec.edu (David Nye) Subjec...</td>\n",
       "      <td>2</td>\n",
       "      <td>sci.med</td>\n",
       "    </tr>\n",
       "    <tr>\n",
       "      <th>2251</th>\n",
       "      <td>From: Mark-Tarbell@suite.com Subject: Amniocen...</td>\n",
       "      <td>2</td>\n",
       "      <td>sci.med</td>\n",
       "    </tr>\n",
       "    <tr>\n",
       "      <th>2252</th>\n",
       "      <td>From: roos@Operoni.Helsinki.FI (Christophe Roo...</td>\n",
       "      <td>2</td>\n",
       "      <td>sci.med</td>\n",
       "    </tr>\n",
       "    <tr>\n",
       "      <th>2253</th>\n",
       "      <td>From: mhollowa@ic.sunysb.edu (Michael Holloway...</td>\n",
       "      <td>2</td>\n",
       "      <td>sci.med</td>\n",
       "    </tr>\n",
       "    <tr>\n",
       "      <th>2254</th>\n",
       "      <td>From: sasghm@theseus.unx.sas.com (Gary Merrill...</td>\n",
       "      <td>2</td>\n",
       "      <td>sci.med</td>\n",
       "    </tr>\n",
       "    <tr>\n",
       "      <th>2255</th>\n",
       "      <td>From: Dan Wallach &lt;dwallach@cs.berkeley.edu&gt; S...</td>\n",
       "      <td>2</td>\n",
       "      <td>sci.med</td>\n",
       "    </tr>\n",
       "    <tr>\n",
       "      <th>2256</th>\n",
       "      <td>From: dyer@spdcc.com (Steve Dyer) Subject: Re:...</td>\n",
       "      <td>2</td>\n",
       "      <td>sci.med</td>\n",
       "    </tr>\n",
       "  </tbody>\n",
       "</table>\n",
       "<p>594 rows × 3 columns</p>\n",
       "</div>"
      ],
      "text/plain": [
       "                                                   text  category  \\\n",
       "7     From: aldridge@netcom.com (Jacquelin Aldridge)...         2   \n",
       "8     From: geb@cs.pitt.edu (Gordon Banks) Subject: ...         2   \n",
       "9     From: libman@hsc.usc.edu (Marlena Libman) Subj...         2   \n",
       "16    From: texx@ossi.com (Robert \"Texx\" Woodworth) ...         2   \n",
       "28    From: rind@enterprise.bih.harvard.edu (David R...         2   \n",
       "29    From: spp@zabriskie.berkeley.edu (Steve Pope) ...         2   \n",
       "30    From: vgwlu@dunsell.calgary.chevron.com (greg ...         2   \n",
       "32    From: doyle+@pitt.edu (Howard R Doyle) Subject...         2   \n",
       "34    From: geb@cs.pitt.edu (Gordon Banks) Subject: ...         2   \n",
       "44    From: rgasch@nl.oracle.com (Robert Gasch) Subj...         2   \n",
       "49    From: jimj@contractor.EBay.Sun.COM (Jim Jones)...         2   \n",
       "51    From: noring@netcom.com (Jon Noring) Subject: ...         2   \n",
       "54    From: ls8139@albnyvms.bitnet (larry silverberg...         2   \n",
       "56    From: kaminski@netcom.com (Peter Kaminski) Sub...         2   \n",
       "63    From: carl@SOL1.GPS.CALTECH.EDU (Carl J Lydick...         2   \n",
       "66    From: paj@uk.co.gec-mrc (Paul Johnson) Subject...         2   \n",
       "71    From: Daniel.Prince@f129.n102.z1.calcom.socal....         2   \n",
       "77    From: dmp1@ukc.ac.uk (D.M.Procida) Subject: Re...         2   \n",
       "80    From: annick@cortex.physiol.su.oz.au (Annick A...         2   \n",
       "81    From: kelley@vet.vet.purdue.edu (Stephen Kelle...         2   \n",
       "82    From: jason@ab20.larc.nasa.gov (Jason Austin) ...         2   \n",
       "83    From: sbishop@desire.wright.edu Subject: Re: H...         2   \n",
       "87    From: nyeda@cnsvax.uwec.edu (David Nye) Subjec...         2   \n",
       "89    Subject: Need Help in Steroid Research From: t...         2   \n",
       "97    From: dyer@spdcc.com (Steve Dyer) Subject: Re:...         2   \n",
       "103   From: mrb@cbnewsj.cb.att.com (m..bruncati) Sub...         2   \n",
       "109   From: nyeda@cnsvax.uwec.edu (David Nye) Subjec...         2   \n",
       "111   From: geb@cs.pitt.edu (Gordon Banks) Subject: ...         2   \n",
       "115   Subject: \"STAR GARTDS\" <sp?> Info wanted From:...         2   \n",
       "117   From: geb@cs.pitt.edu (Gordon Banks) Subject: ...         2   \n",
       "...                                                 ...       ...   \n",
       "2145  From: koreth@spud.Hyperion.COM (Steven Grimm) ...         2   \n",
       "2152  From: jgd@dixie.com (John De Armond) Subject: ...         2   \n",
       "2154  From: kxgst1@pitt.edu (Kenneth Gilbert) Subjec...         2   \n",
       "2174  From: jec@watson.ibm.com Subject: Contraceptiv...         2   \n",
       "2177  From: cerulean@access.digex.com (Bill Christen...         2   \n",
       "2178  From: caf@omen.UUCP (Chuck Forsberg WA7KGX) Su...         2   \n",
       "2186  Subject: Re: Can't Breathe -- Update From: RGI...         2   \n",
       "2194  From: rind@enterprise.bih.harvard.edu (David R...         2   \n",
       "2198  From: geb@cs.pitt.edu (Gordon Banks) Subject: ...         2   \n",
       "2199  From: romdas@uclink.berkeley.edu (Ella I Baff)...         2   \n",
       "2202  From: dyer@spdcc.com (Steve Dyer) Subject: Re:...         2   \n",
       "2209  From: bbenowit@telesciences.com (Barry D Benow...         2   \n",
       "2212  From: nyeda@cnsvax.uwec.edu (David Nye) Subjec...         2   \n",
       "2213  From: tas@pegasus.com (Len Howard) Subject: Re...         2   \n",
       "2215  From: michael@iastate.edu (Michael M. Huang) S...         2   \n",
       "2218  From: bennett@kuhub.cc.ukans.edu Subject: Smok...         2   \n",
       "2219  From: pk115050@wvnvms.wvnet.edu Subject: HELP ...         2   \n",
       "2235  From: dougb@comm.mot.com (Doug Bank) Subject: ...         2   \n",
       "2238  From: jim.zisfein@factory.com (Jim Zisfein)  S...         2   \n",
       "2239  From: paj@uk.co.gec-mrc (Paul Johnson) Subject...         2   \n",
       "2240  From: balick@nynexst.com (Daphne Balick) Subje...         2   \n",
       "2243  From: turpin@cs.utexas.edu (Russell Turpin) Su...         2   \n",
       "2244  From: jim.zisfein@factory.com (Jim Zisfein)  S...         2   \n",
       "2245  From: nyeda@cnsvax.uwec.edu (David Nye) Subjec...         2   \n",
       "2251  From: Mark-Tarbell@suite.com Subject: Amniocen...         2   \n",
       "2252  From: roos@Operoni.Helsinki.FI (Christophe Roo...         2   \n",
       "2253  From: mhollowa@ic.sunysb.edu (Michael Holloway...         2   \n",
       "2254  From: sasghm@theseus.unx.sas.com (Gary Merrill...         2   \n",
       "2255  From: Dan Wallach <dwallach@cs.berkeley.edu> S...         2   \n",
       "2256  From: dyer@spdcc.com (Steve Dyer) Subject: Re:...         2   \n",
       "\n",
       "     category_name  \n",
       "7          sci.med  \n",
       "8          sci.med  \n",
       "9          sci.med  \n",
       "16         sci.med  \n",
       "28         sci.med  \n",
       "29         sci.med  \n",
       "30         sci.med  \n",
       "32         sci.med  \n",
       "34         sci.med  \n",
       "44         sci.med  \n",
       "49         sci.med  \n",
       "51         sci.med  \n",
       "54         sci.med  \n",
       "56         sci.med  \n",
       "63         sci.med  \n",
       "66         sci.med  \n",
       "71         sci.med  \n",
       "77         sci.med  \n",
       "80         sci.med  \n",
       "81         sci.med  \n",
       "82         sci.med  \n",
       "83         sci.med  \n",
       "87         sci.med  \n",
       "89         sci.med  \n",
       "97         sci.med  \n",
       "103        sci.med  \n",
       "109        sci.med  \n",
       "111        sci.med  \n",
       "115        sci.med  \n",
       "117        sci.med  \n",
       "...            ...  \n",
       "2145       sci.med  \n",
       "2152       sci.med  \n",
       "2154       sci.med  \n",
       "2174       sci.med  \n",
       "2177       sci.med  \n",
       "2178       sci.med  \n",
       "2186       sci.med  \n",
       "2194       sci.med  \n",
       "2198       sci.med  \n",
       "2199       sci.med  \n",
       "2202       sci.med  \n",
       "2209       sci.med  \n",
       "2212       sci.med  \n",
       "2213       sci.med  \n",
       "2215       sci.med  \n",
       "2218       sci.med  \n",
       "2219       sci.med  \n",
       "2235       sci.med  \n",
       "2238       sci.med  \n",
       "2239       sci.med  \n",
       "2240       sci.med  \n",
       "2243       sci.med  \n",
       "2244       sci.med  \n",
       "2245       sci.med  \n",
       "2251       sci.med  \n",
       "2252       sci.med  \n",
       "2253       sci.med  \n",
       "2254       sci.med  \n",
       "2255       sci.med  \n",
       "2256       sci.med  \n",
       "\n",
       "[594 rows x 3 columns]"
      ]
     },
     "execution_count": 8,
     "metadata": {},
     "output_type": "execute_result"
    }
   ],
   "source": [
    "X.loc[lambda f: f.category_name == 'sci.med']"
   ]
  },
  {
   "cell_type": "markdown",
   "metadata": {},
   "source": [
    "## Exercise 5"
   ]
  },
  {
   "cell_type": "markdown",
   "metadata": {},
   "source": [
    "Answer : 資料沒有''會被判斷為True，因為沒加''無法被視為字串"
   ]
  },
  {
   "cell_type": "markdown",
   "metadata": {},
   "source": [
    "## Exercise 6"
   ]
  },
  {
   "cell_type": "markdown",
   "metadata": {},
   "source": [
    "Answer : query後index沒有像之前一樣由小到大，因為random sample"
   ]
  },
  {
   "cell_type": "code",
   "execution_count": 9,
   "metadata": {},
   "outputs": [],
   "source": [
    "X_sample = X.sample(n=1000) #random state"
   ]
  },
  {
   "cell_type": "code",
   "execution_count": 10,
   "metadata": {},
   "outputs": [
    {
     "data": {
      "text/html": [
       "<div>\n",
       "<style scoped>\n",
       "    .dataframe tbody tr th:only-of-type {\n",
       "        vertical-align: middle;\n",
       "    }\n",
       "\n",
       "    .dataframe tbody tr th {\n",
       "        vertical-align: top;\n",
       "    }\n",
       "\n",
       "    .dataframe thead th {\n",
       "        text-align: right;\n",
       "    }\n",
       "</style>\n",
       "<table border=\"1\" class=\"dataframe\">\n",
       "  <thead>\n",
       "    <tr style=\"text-align: right;\">\n",
       "      <th></th>\n",
       "      <th>text</th>\n",
       "      <th>category</th>\n",
       "      <th>category_name</th>\n",
       "    </tr>\n",
       "  </thead>\n",
       "  <tbody>\n",
       "    <tr>\n",
       "      <th>1087</th>\n",
       "      <td>From: emm@tamarack202.cray.com (Mike McConnell...</td>\n",
       "      <td>1</td>\n",
       "      <td>comp.graphics</td>\n",
       "    </tr>\n",
       "    <tr>\n",
       "      <th>943</th>\n",
       "      <td>Subject: A word of advice From: jcopelan@nyx.c...</td>\n",
       "      <td>0</td>\n",
       "      <td>alt.atheism</td>\n",
       "    </tr>\n",
       "    <tr>\n",
       "      <th>19</th>\n",
       "      <td>Subject: Re: Don't more innocents die without ...</td>\n",
       "      <td>0</td>\n",
       "      <td>alt.atheism</td>\n",
       "    </tr>\n",
       "    <tr>\n",
       "      <th>1404</th>\n",
       "      <td>From: livesey@solntze.wpd.sgi.com (Jon Livesey...</td>\n",
       "      <td>0</td>\n",
       "      <td>alt.atheism</td>\n",
       "    </tr>\n",
       "    <tr>\n",
       "      <th>1461</th>\n",
       "      <td>From: keith@cco.caltech.edu (Keith Allan Schne...</td>\n",
       "      <td>0</td>\n",
       "      <td>alt.atheism</td>\n",
       "    </tr>\n",
       "    <tr>\n",
       "      <th>30</th>\n",
       "      <td>From: vgwlu@dunsell.calgary.chevron.com (greg ...</td>\n",
       "      <td>2</td>\n",
       "      <td>sci.med</td>\n",
       "    </tr>\n",
       "    <tr>\n",
       "      <th>16</th>\n",
       "      <td>From: texx@ossi.com (Robert \"Texx\" Woodworth) ...</td>\n",
       "      <td>2</td>\n",
       "      <td>sci.med</td>\n",
       "    </tr>\n",
       "    <tr>\n",
       "      <th>694</th>\n",
       "      <td>From: greg@cs.uct.ac.za (Gregory Torrance) Sub...</td>\n",
       "      <td>1</td>\n",
       "      <td>comp.graphics</td>\n",
       "    </tr>\n",
       "  </tbody>\n",
       "</table>\n",
       "</div>"
      ],
      "text/plain": [
       "                                                   text  category  \\\n",
       "1087  From: emm@tamarack202.cray.com (Mike McConnell...         1   \n",
       "943   Subject: A word of advice From: jcopelan@nyx.c...         0   \n",
       "19    Subject: Re: Don't more innocents die without ...         0   \n",
       "1404  From: livesey@solntze.wpd.sgi.com (Jon Livesey...         0   \n",
       "1461  From: keith@cco.caltech.edu (Keith Allan Schne...         0   \n",
       "30    From: vgwlu@dunsell.calgary.chevron.com (greg ...         2   \n",
       "16    From: texx@ossi.com (Robert \"Texx\" Woodworth) ...         2   \n",
       "694   From: greg@cs.uct.ac.za (Gregory Torrance) Sub...         1   \n",
       "\n",
       "      category_name  \n",
       "1087  comp.graphics  \n",
       "943     alt.atheism  \n",
       "19      alt.atheism  \n",
       "1404    alt.atheism  \n",
       "1461    alt.atheism  \n",
       "30          sci.med  \n",
       "16          sci.med  \n",
       "694   comp.graphics  "
      ]
     },
     "execution_count": 10,
     "metadata": {},
     "output_type": "execute_result"
    }
   ],
   "source": [
    "X_sample[0:8]"
   ]
  },
  {
   "cell_type": "code",
   "execution_count": 32,
   "metadata": {},
   "outputs": [],
   "source": [
    "import matplotlib.pyplot as plt"
   ]
  },
  {
   "cell_type": "markdown",
   "metadata": {},
   "source": [
    "##  Exercise 8 "
   ]
  },
  {
   "cell_type": "code",
   "execution_count": 14,
   "metadata": {},
   "outputs": [
    {
     "data": {
      "image/png": "[encoded data removed]",
      "text/plain": [
       "<Figure size 432x288 with 1 Axes>"
      ]
     },
     "metadata": {
      "needs_background": "light"
     },
     "output_type": "display_data"
    }
   ],
   "source": [
    "a=X.category_name.value_counts()\n",
    "b=X_sample.category_name.value_counts()\n",
    "df =pd.DataFrame({'category_name':a,'category_name2':b})\n",
    "ax = df.plot.bar(rot=0)"
   ]
  },
  {
   "cell_type": "code",
   "execution_count": 13,
   "metadata": {},
   "outputs": [],
   "source": [
    "import nltk\n",
    "X['unigrams'] = X['text'].apply(lambda x: dmh.tokenize_text(x))"
   ]
  },
  {
   "cell_type": "code",
   "execution_count": 12,
   "metadata": {},
   "outputs": [],
   "source": [
    "from sklearn.feature_extraction.text import CountVectorizer\n",
    "\n",
    "count_vect = CountVectorizer()\n",
    "X_counts = count_vect.fit_transform(X.text)"
   ]
  },
  {
   "cell_type": "code",
   "execution_count": 15,
   "metadata": {},
   "outputs": [
    {
     "data": {
      "text/plain": [
       "0"
      ]
     },
     "execution_count": 15,
     "metadata": {},
     "output_type": "execute_result"
    }
   ],
   "source": [
    "X_counts[5,37]\n"
   ]
  },
  {
   "cell_type": "markdown",
   "metadata": {},
   "source": [
    "## Exercise 10 "
   ]
  },
  {
   "cell_type": "markdown",
   "metadata": {},
   "source": [
    "Answer:another 1 represents '01'"
   ]
  },
  {
   "cell_type": "code",
   "execution_count": 16,
   "metadata": {},
   "outputs": [
    {
     "name": "stdout",
     "output_type": "stream",
     "text": [
      "01\n"
     ]
    }
   ],
   "source": [
    "arrayX=X_counts[0:5, 0:100].toarray()\n",
    "for i in range(1,100):\n",
    "    if arrayX[4][i] == 1:\n",
    "        print(count_vect.get_feature_names()[i])"
   ]
  },
  {
   "cell_type": "markdown",
   "metadata": {},
   "source": []
  },
  {
   "cell_type": "code",
   "execution_count": 31,
   "metadata": {},
   "outputs": [],
   "source": [
    "plot_x = [\"term_\"+str(i) for i in count_vect.get_feature_names()]"
   ]
  },
  {
   "cell_type": "code",
   "execution_count": null,
   "metadata": {
    "scrolled": false
   },
   "outputs": [],
   "source": []
  },
  {
   "cell_type": "code",
   "execution_count": 33,
   "metadata": {},
   "outputs": [],
   "source": [
    "plot_y = [\"doc_\"+ str(i) for i in list(X.index)[0:20]]"
   ]
  },
  {
   "cell_type": "code",
   "execution_count": 38,
   "metadata": {},
   "outputs": [],
   "source": [
    "plot_z = X_counts[0:20,0:35788].toarray()"
   ]
  },
  {
   "cell_type": "code",
   "execution_count": null,
   "metadata": {},
   "outputs": [],
   "source": [
    "import seaborn as sns\n",
    "\n",
    "df_todraw = pd.DataFrame(plot_z, columns = plot_x, index = plot_y)\n",
    "plt.subplots(figsize=(9, 7))\n",
    "ax = sns.heatmap(df_todraw,\n",
    "                 cmap=\"PuRd\",\n",
    "                 vmin=0, vmax=1, annot=True)"
   ]
  },
  {
   "cell_type": "code",
   "execution_count": 17,
   "metadata": {},
   "outputs": [],
   "source": []
  },
  {
   "cell_type": "code",
   "execution_count": 18,
   "metadata": {},
   "outputs": [],
   "source": []
  },
  {
   "cell_type": "markdown",
   "metadata": {},
   "source": [
    "## Exercise 12 "
   ]
  },
  {
   "cell_type": "code",
   "execution_count": 26,
   "metadata": {},
   "outputs": [],
   "source": [
    "from sklearn.decomposition import PCA"
   ]
  },
  {
   "cell_type": "code",
   "execution_count": 28,
   "metadata": {},
   "outputs": [],
   "source": [
    "X_reduced = PCA(n_components = 3).fit_transform(X_counts.toarray())"
   ]
  },
  {
   "cell_type": "code",
   "execution_count": 29,
   "metadata": {},
   "outputs": [
    {
     "data": {
      "text/plain": [
       "array([-17.01172954,   0.45016637,  -1.31226077])"
      ]
     },
     "execution_count": 29,
     "metadata": {},
     "output_type": "execute_result"
    }
   ],
   "source": [
    "X_reduced[0]"
   ]
  },
  {
   "cell_type": "code",
   "execution_count": 30,
   "metadata": {},
   "outputs": [],
   "source": [
    "from mpl_toolkits.mplot3d import Axes3D"
   ]
  },
  {
   "cell_type": "code",
   "execution_count": 66,
   "metadata": {},
   "outputs": [
    {
     "data": {
      "text/plain": [
       "<function matplotlib.pyplot.show(*args, **kw)>"
      ]
     },
     "execution_count": 66,
     "metadata": {},
     "output_type": "execute_result"
    },
    {
     "data": {
      "image/png": "[encoded data removed]",
      "text/plain": [
       "<Figure size 432x288 with 1 Axes>"
      ]
     },
     "metadata": {
      "needs_background": "light"
     },
     "output_type": "display_data"
    }
   ],
   "source": [
    "\n",
    "fig = plt.figure()\n",
    "ax = Axes3D(fig)\n",
    "\n",
    "for x in X_reduce\n",
    "    xs = x.T[0]\n",
    "    ys = x.T[1]\n",
    "    zs = x.T[2]\n",
    "    \n",
    "    ax.scatter(xs, ys, zs, c='blue')\n",
    "ax.set_xlabel('\\nX Label')\n",
    "ax.set_ylabel('\\nY Label')\n",
    "ax.set_zlabel('\\nz Label')\n",
    "plt.show"
   ]
  },
  {
   "cell_type": "markdown",
   "metadata": {},
   "source": []
  },
  {
   "cell_type": "code",
   "execution_count": 74,
   "metadata": {},
   "outputs": [
    {
     "data": {
      "image/png": "[encoded data removed]",
      "text/plain": [
       "<Figure size 432x288 with 1 Axes>"
      ]
     },
     "metadata": {
      "needs_background": "light"
     },
     "output_type": "display_data"
    }
   ],
   "source": [
    "fig = plt.figure()\n",
    "ax = Axes3D(fig)\n",
    "\n",
    "for x in X_reduced:\n",
    "    xs = x.T[0]\n",
    "    ys = x.T[1]\n",
    "    zs = x.T[2]\n",
    "    \n",
    "    ax.scatter(xs, ys, zs, c='blue')\n",
    "ax.view_init(0, 180)\n",
    "ax.set_xlabel('\\nX Label')\n",
    "ax.set_ylabel('\\nY Label')\n",
    "ax.set_zlabel('\\nz Label')\n",
    "plt.show()"
   ]
  },
  {
   "cell_type": "code",
   "execution_count": 76,
   "metadata": {},
   "outputs": [
    {
     "data": {
      "image/png": "[encoded data removed]",
      "text/plain": [
       "<Figure size 432x288 with 1 Axes>"
      ]
     },
     "metadata": {
      "needs_background": "light"
     },
     "output_type": "display_data"
    }
   ],
   "source": [
    "fig = plt.figure()\n",
    "ax = Axes3D(fig)\n",
    "\n",
    "for x in X_reduced:\n",
    "    xs = x.T[0]\n",
    "    ys = x.T[1]\n",
    "    zs = x.T[2]\n",
    "    \n",
    "    ax.scatter(xs, ys, zs, c='blue')\n",
    "ax.view_init(0, 270)\n",
    "ax.set_xlabel('\\nX Label')\n",
    "ax.set_ylabel('\\nY Label')\n",
    "ax.set_zlabel('\\nz Label')\n",
    "plt.show()"
   ]
  },
  {
   "cell_type": "code",
   "execution_count": 80,
   "metadata": {},
   "outputs": [
    {
     "data": {
      "image/png": "[encoded data removed]",
      "text/plain": [
       "<Figure size 432x288 with 1 Axes>"
      ]
     },
     "metadata": {
      "needs_background": "light"
     },
     "output_type": "display_data"
    }
   ],
   "source": [
    "fig = plt.figure()\n",
    "ax = Axes3D(fig)\n",
    "\n",
    "for x in X_reduced:\n",
    "    xs = x.T[0]\n",
    "    ys = x.T[1]\n",
    "    zs = x.T[2]\n",
    "    \n",
    "    ax.scatter(xs, ys, zs, c='blue')\n",
    "ax.view_init(270, 0)\n",
    "ax.set_xlabel('\\nX Label')\n",
    "ax.set_ylabel('\\nY Label')\n",
    "ax.set_zlabel('\\nz Label')\n",
    "plt.show()"
   ]
  },
  {
   "cell_type": "markdown",
   "metadata": {},
   "source": [
    "Answer : when the points be projected to YZ plane are more discrete"
   ]
  },
  {
   "cell_type": "markdown",
   "metadata": {},
   "source": [
    "## Exercise 13 "
   ]
  },
  {
   "cell_type": "code",
   "execution_count": 103,
   "metadata": {},
   "outputs": [
    {
     "data": {
      "text/html": [
       "<script>requirejs.config({paths: { 'plotly': ['https://cdn.plot.ly/plotly-latest.min']},});if(!window.Plotly) {{require(['plotly'],function(plotly) {window.Plotly=plotly;});}}</script>"
      ],
      "text/vnd.plotly.v1+html": [
       "<script>requirejs.config({paths: { 'plotly': ['https://cdn.plot.ly/plotly-latest.min']},});if(!window.Plotly) {{require(['plotly'],function(plotly) {window.Plotly=plotly;});}}</script>"
      ]
     },
     "metadata": {},
     "output_type": "display_data"
    }
   ],
   "source": [
    "import plotly\n",
    "from plotly.graph_objs import Scatter, Layout\n",
    "\n",
    "plotly.offline.init_notebook_mode(connected=True)"
   ]
  },
  {
   "cell_type": "code",
   "execution_count": 82,
   "metadata": {},
   "outputs": [
    {
     "data": {
      "text/plain": [
       "'3.3.0'"
      ]
     },
     "execution_count": 82,
     "metadata": {},
     "output_type": "execute_result"
    }
   ],
   "source": [
    "plotly.__version__"
   ]
  },
  {
   "cell_type": "code",
   "execution_count": 83,
   "metadata": {},
   "outputs": [],
   "source": [
    "term_frequencies = []\n",
    "for j in range(0,X_counts.shape[1]):\n",
    "    term_frequencies.append(sum(X_counts[:,j].toarray()))"
   ]
  },
  {
   "cell_type": "code",
   "execution_count": 89,
   "metadata": {},
   "outputs": [],
   "source": [
    "import numpy as np\n",
    "term_frequencies = np.asarray(X_counts.sum(axis=0))[0]"
   ]
  },
  {
   "cell_type": "code",
   "execution_count": 119,
   "metadata": {},
   "outputs": [
    {
     "name": "stdout",
     "output_type": "stream",
     "text": [
      "The draw time for this plot will be slow for clients without much RAM.\n"
     ]
    },
    {
     "name": "stderr",
     "output_type": "stream",
     "text": [
      "/Library/Frameworks/Python.framework/Versions/3.7/lib/python3.7/site-packages/plotly/api/v1/clientresp.py:40: UserWarning:\n",
      "\n",
      "Estimated Draw Time Slow\n",
      "\n"
     ]
    },
    {
     "data": {
      "text/html": [
       "<iframe id=\"igraph\" scrolling=\"no\" style=\"border:none;\" seamless=\"seamless\" src=\"https://plot.ly/~aren9564056/16.embed\" height=\"525px\" width=\"100%\"></iframe>"
      ],
      "text/plain": [
       "<plotly.tools.PlotlyDisplay object>"
      ]
     },
     "execution_count": 119,
     "metadata": {},
     "output_type": "execute_result"
    }
   ],
   "source": [
    "import plotly.plotly as py\n",
    "import plotly.graph_objs as gph\n",
    "data = [gph.Bar(x=count_vect.get_feature_names(),y=term_frequencies)]\n",
    "py.iplot(data)"
   ]
  },
  {
   "cell_type": "code",
   "execution_count": 107,
   "metadata": {},
   "outputs": [],
   "source": [
    "import plotly\n",
    "\n",
    "#设置用户名和API-Key\n",
    "plotly.tools.set_credentials_file(username='aren9564056', api_key='KJY7meTAHgc1FVQBdW5D')\n",
    "\n",
    "\n",
    "\n"
   ]
  },
  {
   "cell_type": "markdown",
   "metadata": {},
   "source": [
    "## Exercise 14"
   ]
  },
  {
   "cell_type": "code",
   "execution_count": 127,
   "metadata": {},
   "outputs": [
    {
     "data": {
      "text/html": [
       "<iframe id=\"igraph\" scrolling=\"no\" style=\"border:none;\" seamless=\"seamless\" src=\"https://plot.ly/~aren9564056/26.embed\" height=\"525px\" width=\"100%\"></iframe>"
      ],
      "text/plain": [
       "<plotly.tools.PlotlyDisplay object>"
      ]
     },
     "execution_count": 127,
     "metadata": {},
     "output_type": "execute_result"
    }
   ],
   "source": [
    "data = [gph.Bar(x=count_vect.get_feature_names()[-100:],y=term_frequencies[-100:])]\n",
    "py.iplot(data)"
   ]
  },
  {
   "cell_type": "code",
   "execution_count": 125,
   "metadata": {},
   "outputs": [
    {
     "data": {
      "text/plain": [
       "['zvi',\n",
       " 'zvonko',\n",
       " 'zwart',\n",
       " 'zyeh',\n",
       " 'zyklon',\n",
       " 'zyxel',\n",
       " 'zz',\n",
       " 'zzz',\n",
       " 'ªl',\n",
       " 'íålittin']"
      ]
     },
     "execution_count": 125,
     "metadata": {},
     "output_type": "execute_result"
    }
   ],
   "source": [
    "count_vect.get_feature_names()[-10:]"
   ]
  },
  {
   "cell_type": "code",
   "execution_count": 124,
   "metadata": {},
   "outputs": [
    {
     "data": {
      "text/plain": [
       "array([134,  92,   1, ...,   5,   1,   1], dtype=int64)"
      ]
     },
     "execution_count": 124,
     "metadata": {},
     "output_type": "execute_result"
    }
   ],
   "source": [
    "term_frequencies[:-20]"
   ]
  },
  {
   "cell_type": "markdown",
   "metadata": {},
   "source": [
    "## Exercise 15"
   ]
  },
  {
   "cell_type": "code",
   "execution_count": 133,
   "metadata": {},
   "outputs": [],
   "source": [
    "term_frequencies.sort()"
   ]
  },
  {
   "cell_type": "code",
   "execution_count": 167,
   "metadata": {},
   "outputs": [
    {
     "data": {
      "text/html": [
       "<iframe id=\"igraph\" scrolling=\"no\" style=\"border:none;\" seamless=\"seamless\" src=\"https://plot.ly/~aren9564056/50.embed\" height=\"525px\" width=\"100%\"></iframe>"
      ],
      "text/plain": [
       "<plotly.tools.PlotlyDisplay object>"
      ]
     },
     "execution_count": 167,
     "metadata": {},
     "output_type": "execute_result"
    }
   ],
   "source": [
    "data = [gph.Bar(y=term_frequencies[-3500:])]\n",
    "py.iplot(data)"
   ]
  },
  {
   "cell_type": "markdown",
   "metadata": {},
   "source": [
    "## Exercise 16"
   ]
  },
  {
   "cell_type": "code",
   "execution_count": 168,
   "metadata": {},
   "outputs": [],
   "source": [
    "from sklearn import preprocessing, metrics, decomposition, pipeline, dummy"
   ]
  },
  {
   "cell_type": "code",
   "execution_count": 169,
   "metadata": {},
   "outputs": [],
   "source": [
    "mlb = preprocessing.LabelBinarizer()"
   ]
  },
  {
   "cell_type": "code",
   "execution_count": 170,
   "metadata": {},
   "outputs": [
    {
     "data": {
      "text/plain": [
       "LabelBinarizer(neg_label=0, pos_label=1, sparse_output=False)"
      ]
     },
     "execution_count": 170,
     "metadata": {},
     "output_type": "execute_result"
    }
   ],
   "source": [
    "mlb.fit(X.category)"
   ]
  },
  {
   "cell_type": "code",
   "execution_count": 174,
   "metadata": {},
   "outputs": [
    {
     "data": {
      "text/plain": [
       "0       1\n",
       "1       1\n",
       "2       3\n",
       "3       3\n",
       "4       3\n",
       "5       3\n",
       "6       3\n",
       "7       2\n",
       "8       2\n",
       "9       2\n",
       "10      3\n",
       "11      1\n",
       "12      0\n",
       "13      0\n",
       "14      1\n",
       "15      1\n",
       "16      2\n",
       "17      0\n",
       "18      3\n",
       "19      0\n",
       "20      3\n",
       "21      0\n",
       "22      3\n",
       "23      1\n",
       "24      1\n",
       "25      1\n",
       "26      3\n",
       "27      3\n",
       "28      2\n",
       "29      2\n",
       "       ..\n",
       "2227    0\n",
       "2228    0\n",
       "2229    3\n",
       "2230    3\n",
       "2231    0\n",
       "2232    1\n",
       "2233    0\n",
       "2234    0\n",
       "2235    2\n",
       "2236    1\n",
       "2237    0\n",
       "2238    2\n",
       "2239    2\n",
       "2240    2\n",
       "2241    1\n",
       "2242    1\n",
       "2243    2\n",
       "2244    2\n",
       "2245    2\n",
       "2246    3\n",
       "2247    3\n",
       "2248    1\n",
       "2249    3\n",
       "2250    0\n",
       "2251    2\n",
       "2252    2\n",
       "2253    2\n",
       "2254    2\n",
       "2255    2\n",
       "2256    2\n",
       "Name: category, Length: 2257, dtype: int64"
      ]
     },
     "execution_count": 174,
     "metadata": {},
     "output_type": "execute_result"
    }
   ],
   "source": [
    "X.category"
   ]
  },
  {
   "cell_type": "code",
   "execution_count": 172,
   "metadata": {},
   "outputs": [],
   "source": [
    "X['bin_category'] = mlb.transform(X['category']).tolist()"
   ]
  },
  {
   "cell_type": "code",
   "execution_count": 173,
   "metadata": {},
   "outputs": [],
   "source": [
    "exercise = preprocessing.LabelBinarizer()"
   ]
  },
  {
   "cell_type": "code",
   "execution_count": 175,
   "metadata": {},
   "outputs": [
    {
     "data": {
      "text/plain": [
       "LabelBinarizer(neg_label=0, pos_label=1, sparse_output=False)"
      ]
     },
     "execution_count": 175,
     "metadata": {},
     "output_type": "execute_result"
    }
   ],
   "source": [
    "exercise.fit(X.category_name)"
   ]
  },
  {
   "cell_type": "code",
   "execution_count": 177,
   "metadata": {},
   "outputs": [
    {
     "data": {
      "text/html": [
       "<div>\n",
       "<style scoped>\n",
       "    .dataframe tbody tr th:only-of-type {\n",
       "        vertical-align: middle;\n",
       "    }\n",
       "\n",
       "    .dataframe tbody tr th {\n",
       "        vertical-align: top;\n",
       "    }\n",
       "\n",
       "    .dataframe thead th {\n",
       "        text-align: right;\n",
       "    }\n",
       "</style>\n",
       "<table border=\"1\" class=\"dataframe\">\n",
       "  <thead>\n",
       "    <tr style=\"text-align: right;\">\n",
       "      <th></th>\n",
       "      <th>text</th>\n",
       "      <th>category</th>\n",
       "      <th>category_name</th>\n",
       "      <th>unigrams</th>\n",
       "      <th>bin_category</th>\n",
       "    </tr>\n",
       "  </thead>\n",
       "  <tbody>\n",
       "    <tr>\n",
       "      <th>0</th>\n",
       "      <td>From: sd345@city.ac.uk (Michael Collier) Subje...</td>\n",
       "      <td>1</td>\n",
       "      <td>comp.graphics</td>\n",
       "      <td>[From, :, sd345, @, city.ac.uk, (, Michael, Co...</td>\n",
       "      <td>[0, 1, 0, 0]</td>\n",
       "    </tr>\n",
       "    <tr>\n",
       "      <th>1</th>\n",
       "      <td>From: ani@ms.uky.edu (Aniruddha B. Deglurkar) ...</td>\n",
       "      <td>1</td>\n",
       "      <td>comp.graphics</td>\n",
       "      <td>[From, :, ani, @, ms.uky.edu, (, Aniruddha, B....</td>\n",
       "      <td>[0, 1, 0, 0]</td>\n",
       "    </tr>\n",
       "    <tr>\n",
       "      <th>2</th>\n",
       "      <td>From: djohnson@cs.ucsd.edu (Darin Johnson) Sub...</td>\n",
       "      <td>3</td>\n",
       "      <td>soc.religion.christian</td>\n",
       "      <td>[From, :, djohnson, @, cs.ucsd.edu, (, Darin, ...</td>\n",
       "      <td>[0, 0, 0, 1]</td>\n",
       "    </tr>\n",
       "    <tr>\n",
       "      <th>3</th>\n",
       "      <td>From: s0612596@let.rug.nl (M.M. Zwart) Subject...</td>\n",
       "      <td>3</td>\n",
       "      <td>soc.religion.christian</td>\n",
       "      <td>[From, :, s0612596, @, let.rug.nl, (, M.M, ., ...</td>\n",
       "      <td>[0, 0, 0, 1]</td>\n",
       "    </tr>\n",
       "    <tr>\n",
       "      <th>4</th>\n",
       "      <td>From: stanly@grok11.columbiasc.ncr.com (stanly...</td>\n",
       "      <td>3</td>\n",
       "      <td>soc.religion.christian</td>\n",
       "      <td>[From, :, stanly, @, grok11.columbiasc.ncr.com...</td>\n",
       "      <td>[0, 0, 0, 1]</td>\n",
       "    </tr>\n",
       "    <tr>\n",
       "      <th>5</th>\n",
       "      <td>From: vbv@lor.eeap.cwru.edu (Virgilio (Dean) B...</td>\n",
       "      <td>3</td>\n",
       "      <td>soc.religion.christian</td>\n",
       "      <td>[From, :, vbv, @, lor.eeap.cwru.edu, (, Virgil...</td>\n",
       "      <td>[0, 0, 0, 1]</td>\n",
       "    </tr>\n",
       "    <tr>\n",
       "      <th>6</th>\n",
       "      <td>From: jodfishe@silver.ucs.indiana.edu (joseph ...</td>\n",
       "      <td>3</td>\n",
       "      <td>soc.religion.christian</td>\n",
       "      <td>[From, :, jodfishe, @, silver.ucs.indiana.edu,...</td>\n",
       "      <td>[0, 0, 0, 1]</td>\n",
       "    </tr>\n",
       "    <tr>\n",
       "      <th>7</th>\n",
       "      <td>From: aldridge@netcom.com (Jacquelin Aldridge)...</td>\n",
       "      <td>2</td>\n",
       "      <td>sci.med</td>\n",
       "      <td>[From, :, aldridge, @, netcom.com, (, Jacqueli...</td>\n",
       "      <td>[0, 0, 1, 0]</td>\n",
       "    </tr>\n",
       "    <tr>\n",
       "      <th>8</th>\n",
       "      <td>From: geb@cs.pitt.edu (Gordon Banks) Subject: ...</td>\n",
       "      <td>2</td>\n",
       "      <td>sci.med</td>\n",
       "      <td>[From, :, geb, @, cs.pitt.edu, (, Gordon, Bank...</td>\n",
       "      <td>[0, 0, 1, 0]</td>\n",
       "    </tr>\n",
       "  </tbody>\n",
       "</table>\n",
       "</div>"
      ],
      "text/plain": [
       "                                                text  category  \\\n",
       "0  From: sd345@city.ac.uk (Michael Collier) Subje...         1   \n",
       "1  From: ani@ms.uky.edu (Aniruddha B. Deglurkar) ...         1   \n",
       "2  From: djohnson@cs.ucsd.edu (Darin Johnson) Sub...         3   \n",
       "3  From: s0612596@let.rug.nl (M.M. Zwart) Subject...         3   \n",
       "4  From: stanly@grok11.columbiasc.ncr.com (stanly...         3   \n",
       "5  From: vbv@lor.eeap.cwru.edu (Virgilio (Dean) B...         3   \n",
       "6  From: jodfishe@silver.ucs.indiana.edu (joseph ...         3   \n",
       "7  From: aldridge@netcom.com (Jacquelin Aldridge)...         2   \n",
       "8  From: geb@cs.pitt.edu (Gordon Banks) Subject: ...         2   \n",
       "\n",
       "            category_name                                           unigrams  \\\n",
       "0           comp.graphics  [From, :, sd345, @, city.ac.uk, (, Michael, Co...   \n",
       "1           comp.graphics  [From, :, ani, @, ms.uky.edu, (, Aniruddha, B....   \n",
       "2  soc.religion.christian  [From, :, djohnson, @, cs.ucsd.edu, (, Darin, ...   \n",
       "3  soc.religion.christian  [From, :, s0612596, @, let.rug.nl, (, M.M, ., ...   \n",
       "4  soc.religion.christian  [From, :, stanly, @, grok11.columbiasc.ncr.com...   \n",
       "5  soc.religion.christian  [From, :, vbv, @, lor.eeap.cwru.edu, (, Virgil...   \n",
       "6  soc.religion.christian  [From, :, jodfishe, @, silver.ucs.indiana.edu,...   \n",
       "7                 sci.med  [From, :, aldridge, @, netcom.com, (, Jacqueli...   \n",
       "8                 sci.med  [From, :, geb, @, cs.pitt.edu, (, Gordon, Bank...   \n",
       "\n",
       "   bin_category  \n",
       "0  [0, 1, 0, 0]  \n",
       "1  [0, 1, 0, 0]  \n",
       "2  [0, 0, 0, 1]  \n",
       "3  [0, 0, 0, 1]  \n",
       "4  [0, 0, 0, 1]  \n",
       "5  [0, 0, 0, 1]  \n",
       "6  [0, 0, 0, 1]  \n",
       "7  [0, 0, 1, 0]  \n",
       "8  [0, 0, 1, 0]  "
      ]
     },
     "execution_count": 177,
     "metadata": {},
     "output_type": "execute_result"
    }
   ],
   "source": [
    "X['bin_category'] = exercise.transform(X['category_name']).tolist()\n",
    "X[0:9]"
   ]
  },
  {
   "cell_type": "markdown",
   "metadata": {},
   "source": [
    "Answer : it work"
   ]
  },
  {
   "cell_type": "markdown",
   "metadata": {},
   "source": [
    "# Part 2"
   ]
  },
  {
   "cell_type": "markdown",
   "metadata": {},
   "source": [
    "## Data Preparation, Data Transformation,   Data Mining using Pandas"
   ]
  },
  {
   "cell_type": "code",
   "execution_count": 301,
   "metadata": {},
   "outputs": [],
   "source": [
    "import os\n",
    "def read_data(PATH):\n",
    "    all_data = []\n",
    "    for path, dirs, files in os.walk(PATH):\n",
    "        temp = []\n",
    "        for filename in files:\n",
    "            if filename.startswith(\".\"):\n",
    "                continue\n",
    "            filePath = path + '/' + filename\n",
    "            f = open( filePath, 'r' ).readlines()\n",
    "            \n",
    "            temp=temp+f\n",
    "            \n",
    "\n",
    "        if temp:\n",
    "            all_data=all_data+temp\n",
    "    for i in range(len(all_data)-1):\n",
    "        all_data[i]=all_data[i].replace('\\n','')\n",
    "    return all_data"
   ]
  },
  {
   "cell_type": "code",
   "execution_count": 302,
   "metadata": {},
   "outputs": [
    {
     "data": {
      "text/plain": [
       "3000"
      ]
     },
     "execution_count": 302,
     "metadata": {},
     "output_type": "execute_result"
    }
   ],
   "source": [
    "path =  '/Users/aren/Desktop/Jupyter_workplace/sentiment labelled sentences'\n",
    "\n",
    "all_data = read_data(path)\n",
    "len(all_data)"
   ]
  },
  {
   "cell_type": "code",
   "execution_count": 303,
   "metadata": {},
   "outputs": [
    {
     "data": {
      "text/plain": [
       "['So there is no way for me to plug it in here in the US unless I go by a converter.',\n",
       " '0']"
      ]
     },
     "execution_count": 303,
     "metadata": {},
     "output_type": "execute_result"
    }
   ],
   "source": [
    "all_data[0].split('\\t')\n"
   ]
  },
  {
   "cell_type": "code",
   "execution_count": 280,
   "metadata": {},
   "outputs": [
    {
     "name": "stdout",
     "output_type": "stream",
     "text": [
      "['So there is no way for me to plug it in here in the US unless I go by a converter.0', 'Good case, Excellent value.1', 'Great for the jawbone.1', 'Tied to charger for conversations lasting more than 45 minutes.MAJOR PROBLEMS!!0', 'The mic is great.1', 'I have to jiggle the plug to get it to line up right to get decent volume.0', 'If you have several dozen or several hundred contacts, then imagine the fun of sending each of them one by one.0', 'If you are Razr owner...you must have this!1', 'Needless to say, I wasted my money.0', 'What a waste of money and time!.0', 'And the sound quality is great.1', 'He was very impressed when going from the original battery to the extended battery.1', 'If the two were seperated by a mere 5+ ft I started to notice excessive static and garbled sound from the headset.0', 'Very good quality though1', 'The design is very odd, as the ear \"clip\" is not very comfortable at all.0', 'Highly recommend for any one who has a blue tooth phone.1', 'I advise EVERYONE DO NOT BE FOOLED!0', 'So Far So Good!.1', 'Works great!.1', 'It clicks into place in a way that makes you wonder how long that mechanism would last.0', \"I went on Motorola's website and followed all directions, but could not get it to pair again.0\", 'I bought this to use with my Kindle Fire and absolutely loved it!1', 'The commercials are the most misleading.0', \"I have yet to run this new battery below two bars and that's three days without charging.1\", 'I bought it for my mother and she had a problem with the battery.0', 'Great Pocket PC / phone combination.1', \"I've owned this phone for 7 months now and can say that it's the best mobile phone I've had.1\", \"I didn't think that the instructions provided were helpful to me.0\", 'People couldnt hear me talk and I had to pull out the earphone and talk on the phone.0', \"Doesn't hold charge.0\", 'This is a simple little phone to use, but the breakage is unacceptible.0', 'This product is ideal for people like me whose ears are very sensitive.1', 'It is unusable in a moving car at freeway speed.0', 'I have two more years left in this contract and I hate this phone.0', 'Car charger as well as AC charger are included to make sure you never run out of juice.Highy recommended1', 'You need at least 3 mins to get to your phone book from the time you first turn on the phone.Battery life is short.0', 'It has kept up very well.1', 'Poor Talk Time Performance.0', 'The case is great and works fine with the 680.1', 'worthless product.0', 'It has a great camera thats 2MP, and the pics are nice and clear with great picture quality.1', 'I was not impressed by this product.0', 'Nice headset priced right.1', 'I only hear garbage for audio.0', 'Excellent bluetooth headset.1', 'It has all the features I want1', 'Who in their right mind is gonna buy this battery?.0', 'AFTER ARGUING WITH VERIZON REGARDING THE DROPPED CALLS WE RETURNED THE PHONES AFTER TWO DAYS.0', 'This case seems well made.1', 'Disappointed with battery.0', \"Not loud enough and doesn't turn on like it should.0\", 'good protection and does not make phone too bulky.1', 'A usable keyboard actually turns a PDA into a real-world useful machine instead of just a neat gadget.1', \"This phone is pretty sturdy and I've never had any large problems with it.1\", 'I love this thing!1', 'Everything about it is fine and reasonable for the price i.e.1', 'VERY DISAPPOINTED.0', 'I even dropped this phone into a stream and it was submerged for 15 seconds and it still works great!1', 'I have been very happy with the 510 and have had NO complaints from any one regarding my sound quality on their end.1', 'The buttons for on and off are bad.0', \"Essentially you can forget Microsoft's tech support.0\", 'I really recommend this faceplates since it looks very nice, elegant and cool.1', \"These headphones were a great find - and I think they are perhaps the best purchase I've made in the last several years - seriously.1\", 'Buy a different phone - but not this.0', 'You have to hold the phone at a particular angle for the other party to hear you clearly.0', \"The one big drawback of the MP3 player is that the buttons on the phone's front cover that let you pause and skip songs lock out after a few seconds.0\", 'A week later after I activated it, it suddenly died.0', 'It feels more comfortable than most headsets because I wear glasses and that gets in the way sometimes.1', 'Great for iPODs too.1', 'This device is great in several situations:1.)1', \"Mic Doesn't work.0\", 'Even in my BMW 3 series which is fairly quiet, I have trouble hearing what the other person is saying.0', 'Great choice!1', 'Nice docking station for home or work.1', 'This is a beautiful phone.1', 'Love this product.1', 'Do Not Buy for D807...wrongly advertised for D807.0', 'This is a great little item.1', 'I love this phone , It is very handy and has a lot of features .1', 'I purchased this and within 2 days it was no longer working!!!!!!!!!0', 'I wear it everyday and it holds up very well.1', 'Not a good bargain.0', 'Well packaged, arrived on time, and works as intended.1', 'The battery runs down quickly.0', 'This item worked great, but it broke after 6 months of use.0', 'The headsets are easy to use and everyone loves them.1', 'This phone works great.1', 'The construction of the headsets is poor.0', 'Product was excellent and works better than the verizon one and Boy was it cheaper!1', 'The phone loads super!1', 'For a product that costs as much as this one does, I expect it to work far better and with greater ease than this thing does.0', 'Made very sturdy.1', 'Worked great!.1', 'The ear buds only play music in one ear.0', 'Dont waste your money...0', 'Will order from them again!1', 'If you plan to use this in a car forget about it.0', 'I found this product to be waaay too big.0', \"Best I've found so far .... I've tried 2 other bluetooths and this one has the best quality (for both me and the listener) as well as ease of using.1\", \"I'm very disappointed with my decision.0\", 'Integrated seamlessly with the Motorola RAZR phone.1', 'Buyer Beware, you could flush money right down the toilet.0', 'Definitely a bargain.1', 'The price was very good and with the free shipping and all it was a good purchase.1', 'I received my supposedly new motorola 375 and apparently there was not a match between the phone and the charger.0', 'Pros:-Good camera - very nice pictures , also has cool styles like black and white, and more.1', \"That's a huge design flaw (unless I'm not using it correctly, which I don't think is the case).0\", 'I love my 350 headset.. My Jabra350 bluetooth headset is great, the reception is very good and the ear piece is a comfortable fit.1', 'The camera, although rated at an impressive 1.3 megapixels, renders images that fall well below expectations of such a relatively high resolution.0', 'I purcashed this for the car charger and it does not work.0', 'Sound quality on both end is excellent, I use headset to call my wife and ask my wife to use headset to call me !2.1', 'This phone is slim and light and the display is beautiful.1', 'its a little geeky but i think thats its sex on toast and it rocks and oozes sex right down to its battery embedded sleek stylish leather case.1', 'Great product, fast shipping!.1', 'Absolutely great.1', 'The keyboard is a nice compromise between a full QWERTY and the basic cell phone number keypad.1', \"i got this phone around the end of may and i'm completely unhappy with it.0\", 'It is very comfortable on the ear.1', 'It has been a winner for us.1', \")Setup couldn't have been simpler.1\", \"I've tried several different earpieces for my cell phone and this Jabra one is the first one I've found that fits my ear comfortably.1\", 'Could not get strong enough signal.0', 'Iam very pleased with my purchase.1', 'Bad Quality.0', 'Gets the job done.1', 'Great audio!.1', 'Basically the service was very bad.0', 'it did not work in my cell phone plug i am very up set with the charger!.0', \"I've only had my bluetooth for a few weeks, but I really like it.1\", 'The BT headset was such a disapoinment.0', \"It is so small and you don't even realize that it is there after a while of getting used to it.1\", 'The accompanied software is almost brilliant.1', 'Headset works great & was packaged nicely to avoid any damage.1', '!I definitly recommend!!1', 'Buyer--Be Very Careful!!!!!.0', 'The majority of the Logitech earbud headsets failed.0', 'Very good stuff for the price.1', 'My headset works just peachy-keen.1', 'In my house I was getting dropped coverage upstairs and no coverage in my basement.0', 'Voice recognition is tremendous!1', 'What a waste.0', 'During several different 2 minute calls, I experienced 5 drops and it was in an area that had 5 bars.0', 'I was not happy with this item.0', 'very disappointed.0', 'The phone takes FOREVER to charge like 2 to 5 hours literally.0', \"I got this phone on reccomendation from a relative and I'm glad I did.1\", 'What a waste of time!0', 'Its reception is very very poor.0', 'Items stated as included from the description ARE NOT INCLUDED.0', 'After 3 months, screen just went black all of a sudden.0', 'I Was Hoping for More.0', 'Audio Quality is poor, very poor.0', 'I had absolutely no problem with this headset linking to my 8530 Blackberry Curve!1', \"I know that sounds funny, but to me it seemed like sketchy technology that wouldn't work well.Well, this one works great.1\", \"I've bought $5 wired headphones that sound better than these.0\", 'This phone is very fast with sending any kind of messages and web browsing is significantly faster than previous phones i have used.1', 'Nice quality build, unlike some cheap s*** out there.1', 'This item is fantastic and works perfectly!1', 'And I just love the colors!1', 'W810i is just SUPERB.1', 'All I can do is whine on the Internet, so here it goes.The more I use the thing the less I like it.0', 'Great charger.1', 'This is essentially a communications tool that does not communicate.0', 'Works like a charm; it work the same as the one I got with the phone.1', \"I still maintain that monkeys shouldn't make headphones, we just obviously don't share enough DNA to copy the design over to humans.0\", 'Great Value.1', \"Doesn't work at all.. I bougth it for my L7c and its not working.0\", 'The look of it is very sharp and the screen is nice and clear, with great graphics.1', \"doesn't last long.0\", 'One thing I hate is the mode set button at the side.0', 'EXCELLENT SERVICE!!!!!!!!.1', 'Thank you for wasting my money.0', 'How can that be?The audio quality is poor.0', 'The iGo chargers and tips are really great.1', 'The file browser offers all the options that one needs.Handsfree is great.1', 'Superb Phone on a Great Network.1', \"I connected my wife's bluetooth,(Motorola HS850) to my phone and it worked like a charm whether the phone was in my pocket or the case.1\", 'I put the latest OS on it (v1.15g), and it now likes to slow to a crawl and lock up every once in a while.0', 'It only recognizes the Phone as its storage device.0', 'If you like a loud buzzing to override all your conversations, then this phone is for you!0', \"Don't buy this product.0\", \"I've had this bluetoooth headset for some time now and still not comfortable with the way it fits on the ear.0\", 'The sound quality is good and functionality is awesome.1', 'I have this phone and it is a thorn in my side, I really abhor it.0', 'I recently had problems where I could not stay connected for more than 10 minutes before being disconnected.0', 'Incredible!.1', 'Design Flaw?.0', 'Great phone!.1', 'Waste of 13 bucks.0', \"But when I check voice mail at night, the keypad backlight turns off a few seconds into the first message, and then I'm lost.0\", 'The replacement died in a few weeks.0', 'Any ring tone..Overall good phone to buy..1', 'Lately they have been extremely nice and helpful on the phone.1', 'I have had problems wit hit dropping signal and more.0', 'Not impressed.0', 'Light weight, I hardly notice it is there.1', \"You'll love how thin it is.1\", 'Bad Choice.0', \"The pleather case doesn't fit.0\", 'useless phone, simply deaf.0', 'The color is even prettier than I thought it would be, and the graphics are incredibly sharp.1', 'All in all I think it was a good investment.1', 'It makes very strange ticking noises before it ends the call.0', 'The best electronics of the available FM Transmitters.1', 'Battery lasts only a few hours.0', 'great headset, very impressed - H500.1', 'The \"1.2\" mega pixel camera, being a part of a phone, is reasonably good7.1', \"I've had this for nearly 2 years and it has worked great for me.1\", 'Good transmit audio.1', 'We are sending it back.0', 'I did not bother contacting the company for few dollar product but I learned the lesson that I should not have bought this form online anyway.0', 'If you hate earbugs, avoid this phone by all means.0', 'Great price also!1', \"The range is very decent, I've been able to roam around my house with the phone in the living room with no reception/sound quality issues.1\", 'fast service.1', 'I would highly recommend this.1', 'I would recommend this.1', 'I also didn\\'t like the \"on\" button, it felt like it would crack with use.0', 'WORST PHONE EVER.0', \"I'm still infatuated with this phone.1\", 'Freezes frequently4.0', \"It's kind of embarrassing to use because of how it looks and mostly it's embarrassing how child-like the company is.0\", 'Simple, lightweight and great fit.1', \"All in all, I'd expected a better consumer experience from Motorola.0\", \"There's a horrible tick sound in the background on all my calls that I have never experienced before.0\", 'These are certainly very comfortable and functionality is decent.1', \"I usually don't like headbands but this one is very lightweight & doesn't mess up my hair.1\", \"I'm a bit disappointed.0\", 'I have had this phone for over a year now, and I will tell you, its not that great.0', 'I ordered this for sony Ericsson W810i but I think it only worked once (thats when I first used it).0', 'The battery is completely useless to me.0', 'What a big waste of time.0', \"Don't waste your $$$ on this one.0\", 'Great sound and service.1', 'Really pleased with this product so far.1', 'One of my favorite purchases ever.1', 'best bluetooth on the market.1', 'Authentic leather with nice shine and comfort .I recommend you this case !!1', 'I was very excited to get this headset because I thought it was really cute.1', 'Do not make the same mistake as me.0', 'Big Disappointment with calendar sync.0', 'the phone was unusable and was not new.0', 'Worst Customer Service Ever.0', 'No additional ear gels provided, and no instructions whatsoever.0', 'It defeats the purpose of a bluetooth headset.0', 'Worth every penny.1', 'Excellent wallet type phone case.1', 'Nice headphones for the price and they work great!1', 'Internet is excrutiatingly slow.0', 'It is very comfortable to wear as well, which is probably the most important aspect about using a case.1', \"It's fits like a glove and is strong, secure, and durable.1\", 'O my gosh the best phone I have ever had.1', \"It's very attractive and appears to be of good quality.1\", 'I love all the features and form factor.1', 'This product had a strong rubber/petroleum smell that was unbearable after a while and caused me to return it0', 'poor quality and service.0', 'The cable looks so thin and flimsy, it is scary.0', 'Great Earpiece.1', 'Excellent hands free tool.1', 'Great for using with your home stereo.1', 'Good product - incredible value.1', \"Only had this a month but it's worked flawlessly so far.1\", 'Works great.1', 'Absolutel junk.0', \"THAT one didn't work either.0\", 'Battery life is real good.1', 'Returned 8 hours later.0', \"It's a great item.1\", \"Don't waste your money!.0\", 'Love this headset!1', 'Not only will it drain your player, but may also potentially fry it.0', 'Worked perfectly!1', \"Unreliable - I'm giving up.0\", 'I gave it 5 stars because of the sound quality.1', 'Avoid this one if you can.0', 'Reversible plug works great.1', 'I wasted my little money with this earpiece.0', 'Very good phone.1', 'Best of all is the rotating feature, very helpful.1', 'Comfort for our whole family.1', 'Good product, good seller.1', 'I love this bluetooth!1', \"First of all, it doesn't wear well.0\", 'I am very impressed with this headset from Plantronics.1', 'I got it because it was so small and adorable.1', 'Great phone!.1', \"I wouldn't recommend buying this product.0\", 'Piece of Junk.0', 'Poorly contstruct hinge.0', 'This item is great, installed it, let it charged up overnite and it has been working good every since with no problems1', 'Great Phone.1', \"Don't buy it.0\", 'Excellent Phone.1', 'DO NOT PURCHASE THIS PHONE.0', 'The voice recognition thru the handset is excellent.1', \"This is hands down the best phone I've ever had.1\", 'Works great, when my cat attacked the phone he scratched the protective strip instead of destroying the screen.1', 'This one works and was priced right.1', 'Customer service was terrible.0', 'Battery life still not long enough in Motorola Razor V3i.0', 'Sending it back.0', 'Now I know that I made a wise decision.1', 'Someone shouldve invented this sooner.1', 'Good price.1', 'Everything worked on the first try.The device was certainly engineered in a clever way and the construction feels good.1', 'I received it quickly and it works great!!1', 'Has been working great.1', \"As many people complained, I found this headset's microphone was very weak.0\", 'My 5-year old Nokia 2160 from Tracfone holds the charge a lot better than this.0', 'They do not care about the consumer one bit.0', 'This is a good battery, and it got here really fast.1', 'The instruction manual is lacking.0', 'Also its slim enough to fit into my alarm clock docking station without removing the case.1', 'Phone now holds charge like it did when it was new.1', 'The battery is unreliable as well as the service use antena.0', \"It's uncomfortable and the sound quality is quite poor compared with the phone (Razr) or with my previous wired headset (that plugged into an LG).0\", 'We have gotten a lot of compliments on it.1', 'This is definitely a must have if your state does not allow cell phone usage while driving.1', 'I want my money back.0', 'I love this device.1', 'I am also very happy with the price.1', 'I ordered this product first and was unhappy with it immediately.0', 'The Ngage is still lacking in earbuds.0', 'I was able to do voice dialing in the car with no problem.1', 'I have 2-3 bars on my cell phone when I am home, but you cant not hear anything.0', 'good item, low price.1', 'However-the riingtones are not the best, and neither are the games.0', 'The plug did not work very well.0', 'AMAZON SUCKS.0', 'Rip off---- Over charge shipping.0', 'VERY comfortable.1', 'The battery is working well as a replacement for the original that came with the phone over 2 years ago.1', 'The reception is excellent!1', 'It fits comfortably in either ear, the sound is clear and loud, and the charge lasts a couple of days.1', \"very clear, quality sound and you don't have to mess with the sound on your iPod since you have the sound buttons on the headset.1\", \"1. long lasting battery (you don't have to recharge it as frequentyly as some of the flip phones)2.0\", 'Obviously there is a problem with the adhesive.0', 'Very disappointing.0', 'It was an inexpensive piece, but I would still have expected better quality.0', 'It is practically useless and did not add any kind of boost to my reception after I bought it.0', 'Excellent sound quality.1', 'Was not happy.0', 'A PIECE OF JUNK THAT BROKE AFTER BEING ON MY PHONE FOR 2 DAYS!!!0', 'New Battery works great in phone.1', 'Worst customer service.0', \"I've dropped my phone more times than I can say, even on concrete and my phone is still great (knock on wood!).1\", 'Reception is terrible and full of static.0', 'Good audio quality.1', 'This little device has transformed my organizational capability and made my life a whole lot easier.1', 'I was sitting in my vehicle, with the cradle on my belt, and the headset lost signal.0', 'Were JERKS on the phone.0', 'Works like a charm.. Works as advertised.1', 'Comfortable, Nice Range, Good Battery Life.1', 'Their network coverage in Los Angeles is horrible.0', 'Excellent starter wireless headset.0', 'The loudspeaker option is great, the bumpers with the lights is very ... appealing.0', 'The only thing that I think could improve is the sound leaks out from the headset.0', 'First off the reception sucks, I have never had more than 2 bars, ever.0', 'The phone gets EXTREMELY HOT!0', 'The microphone also works well, but (according to people I have called) it applifies everything.1', 'Nice design and quality.1', 'Also, if your phone is dropped, this case is not going to save it, specially when dropped face down.0', 'It is light, easy to use, and has very clear reception and transmission.1', 'bad fit, way too big.0', 'It definitely was not as good as my S11.1', 'awesome device.1', 'Waste of money.0', 'I had ordered a motorola data cable, got a very well finished and working product.1', 'Love This Phone.1', \"I was looking for this headset for a long time and now that I've got it I couldn't be happier.1\", \"I'll be drivng along, and my headset starts ringing for no reason.0\", 'Display is excellent and camera is as good as any from that year.1', 'Battery life is also great!1', \"The worst phone I've ever had.... Only had it for a few months.0\", 'Not a good item.. It worked for a while then started having problems in my auto reverse tape player.0', 'This is so embarassing and also my ears hurt if I try to push the ear plug into my ear.0', 'Protects the phone on all sides.1', 'This is a VERY average phone with bad battery life that operates on a weak network.0', 'Clear Skype Calls, Long Battery Life, Long Range.1', 'Soyo technology sucks.0', 'Great Hands Free Device.1', 'you can even take self portraits with the outside (exterior) display, very cool.1', 'Same problem as others have mentioned.0', 'After trying many many handsfree gadgets this is the one that finally works well.1', 'Magical Help.1', 'The worst piece of crap ever along with the Verizon customer service.0', 'Poor sound quality.0', 'The best phone in market :).1', 'It worked very well.1', 'The company shipped my product very promptly and it works well.1', 'Exactly what I wanted.1', 'The picture resolution is far below what other comparably-priced phones are offering today.0', 'This is a great deal.1', 'Excellent product, I am very satisfied with the purchase.1', 'I highly recommend these and encourage people to give them a try.1', \"Better than you'd expect.1\", 'Using all earpieces, left or right, this thing will not stay on my ear.0', 'Great product and price.1', 'Sounds good reasonably priced and effective, Its that simple !1', \"Still Waiting...... I'm sure this item would work well.. if I ever recieve it!0\", 'what a disappointment0', 'Very prompt service.1', 'Excellent product for the price.1', 'Very pleased with this headset.1', \"don't waste your money and time.0\", 'I especially love the long battery life.1', \"It's so stupid to have to keep buying new chargers, car chargers, cradles, headphones and car kits every time a new phone comes out.0\", 'Works great.1', 'Plantronics Bluetooth Excelent Buy.1', 'I came over from Verizon because cingulair has nicer cell phones.... the first thing I noticed was the really bad service.0', \"I'll be looking for a new earpiece.0\", 'I highly recommend this device to everyone!1', 'Jawbone Era is awesome too!1', 'We received a WHITE colored battery that goes DEAD after a couple hoursTHe original used to last a week - but still lasts longer than thereplacement0', 'After a year the battery went completely dead on my headset.0', 'I have used several phone in two years, but this one is the best.1', 'An Awesome New Look For Fall 2000!.1', \"This is the first phone I've had that has been so cheaply made.0\", 'Att is not clear, sound is very distorted and you have to yell when you talk.0', 'The plastic breaks really easy on this clip.0', 'Price is good too.1', \"Don't make the same mistake I did.0\", 'Oh and I forgot to also mention the weird color effect it has on your phone.0', \"I'm using it with an iriver SPINN (with case) and it fits fine.1\", \"Also the area where my unit broke).- I'm not too fond of the magnetic strap.0\", 'Overall, I am psyched to have a phone which has all my appointments and contacts in and gets great reception.1', 'every thing on phone work perfectly, she like it.1', \"Another note about this phone's appearance is that it really looks rather bland, especially in the all black model.0\", \"IT'S REALLY EASY.1\", 'My Sanyo has survived dozens of drops on blacktop without ill effect.1', 'Fantastic earphones.1', 'It finds my cell phone right away when I enter the car.1', 'Low Quality.0', 'I highly recommend this modest priced cellular phone.1', \"But it does get better reception and clarity than any phone I've had before.1\", 'Warning - Stay away.0', 'I wish I could return the unit and get back my money.0', 'Awsome Device Works Great!!.1', 'I used to talk on it for 1 - 1 1/2 hours and the battery would be literally drained and dying.0', \"If you don't find it, too bad, as again the unit comes with one earpad only.I would not recommend this to anyone.0\", 'Very Displeased.0', 'I might have gotten a defect, but I would not risk buying it again because of the built quality alone.0', 'They made this case too small and is very difficult to install.0', 'Restored my phone to like new performance.1', 'I would recommend purchasing the Jabra JX-10 series 2 which works flawlessly with my Moto Q, go figure.1', 'I searched the Internet, and found this one to be the best value.1', 'Does not fit.0', 'Very happy with this product.1', 'The screen size is big, key pad lit well enough, and the camera quality is excellent for a camera phone.1', \"There's really nothing bad I can say about this headset.0\", \"i'm glad i found this product on amazon it is hard to find, it wasn't high priced.1\", 'Portable and it works.1', 'My colleague & I now get great reception.A little expensive, but performance is great.1', 'I even fully charged it before I went to bed and turned off blue tooth and wi-fi and noticed that it only had 20 % left in the morning.0', \"I've also had problems with the phone reading the memory card in which I always turn it on and then off again.0\", 'Not good when wearing a hat or sunglasses.0', 'Timely shipment and quality product.1', 'Nice solid keyboard.1', 'Very well made and fits my Surefire GX2 perfectly.1', 'Horrible phone.0', 'BT50 battery junk!.0', 'We would recommend these to others.1', 'Cant get the software to work with my computer.0', 'Disappointed!.0', 'poor voice clarity.0', 'The battery works great!1', 'No buyers remorse on this one!.0', 'Very disappointed in AccessoryOne.0', 'I find this inexcusable and so will probably be returning this phone and perhaps changing carriers.0', 'Looks great and is strong.\"1', 'I have had TMobile service for 2 or 3 years now, and I am pretty happy with it.1', 'The update procedure is difficult and cumbersome.0', 'Disappointment.. I hate anything that goes in my ear.0', 'Great software for Motorolas.1', 'The delivery was on time.1', 'Very easy to use.1', \"Uncomfortable In the Ear, Don't use with LG VX9900 (EnV).0\", 'The volume switch rocketed out of the unit to a destination unknown.0', 'It holds a charge for a long time, is reasonably comfortable under long-wearing conditions and the quality of sound is tremendous.1', \"I'd like to return it.0\", \"The keyboard is really worthwhile in usefulness and is sturdy enough I don't expect any problems.1\", \"Verizon's bills, however, are difficult to understand even though their pricing plans are simple.0\", 'After charging overnight, these batteries work great.1', \"You won't regret it!1\", 'I love this phone!.1', 'A Disappointment.0', 'Its not user friendly.0', 'Unfortunately the ability to actually know you are receiving a call is a rather important feature and this phone is pitiful in that respect.0', 'Then I exchanged for the same phone, even that had the same problem.0', 'This results in the phone being either stuck at max volume or mute.0', 'This PDA rocks.1', 'It is super charged up for use as a small hybrid palmtop/camera/cellphone, and excels in those roles.1', 'I would definitely recommend the Jabra BT250v for those who are looking for comfort, clarity and a great price!1', 'I had Verizon 2 years ago and really liked their service.1', 'Pretty piece of junk.0', 'Plug was the wrong size.0', 'Works as described.1', \"Save your money.... I've had this item for 11 months now.0\", 'Bad Purchase.0', 'WELL IM SATISFIED.1', 'The bose noise cancelling is amazing, which is very important for a NYC commuter.1', 'This battery is an excellent bargain!1', 'Defective crap.0', 'I would have given no star if I was able.0', 'I wear glasses and it fits fine with them.1', 'The sound quality for the device is unacceptable.Unless you are in a really quiet area, you almost hear nothing.0', 'I would not recommend this item to anyone.0', 'The holster that arrived did not match the photo in the ad.0', 'great...no problems at all!.1', 'As an earlier review noted, plug in this charger and nothing happens.0', 'This frog phone charm is adorable and very eye catching.1', 'You never know if you pushed it hard enough or the right number of times for the function you want or not.0', 'The sound is clear and the people I talk to on it are amazed at the quality too.1', 'I got the aluminum case for my new Palm VX and it worked really well--it has protected my handheld perfectly so far.1', 'very good product, well made.1', 'Mobile Phone Tools are a must have.1', 'I am very impressed with the job that Motorola did on the sturdiness of this phone.1', 'I received my orders well within the shipping timeframe, everything was in good working order and overall, I am very excited to have this source.1', 'The phone is sturdy and waterproof.1', 'I am not impressed with this and i would not recommend this item to anyone.0', 'My only complaint is the standard sound volume is a little low even when turned up to 5(of 5)0', 'Thanks again to Amazon for having the things I need for a good price!1', 'I ended up sliding it on the edge of my pants or back pockets instead.1', 'I had to go to a store and bought a new NOKIA phone which is working great.1', 'Works great!.1', 'REALLY UGLY.0', 'horrible, had to switch 3 times.0', 'The noise shield is incrediable.1', 'No real improvement.0', 'Razr Battery - Good buy.1', 'Keep up the good work Amazon!!1', 'They refuse to refund or replace.0', \"Unfortunately it's easy to accidentally activate them with the gentle-touch buttons if you accidentally touch the phone to your face while listening.0\", 'So I basically threw my money out the window for nothing.0', 'Great case and price!1', 'All it took was one drop from about 6 inches above the kitchen counter and it was cracked.I am not impressed and I am not laughing.0', 'Bluetooth range is good - a few days ago I left my phone in the trunk, got a call, and carried the conversation without a hitch.1', 'Small, sleek, impressive looking, practical setup with ample storage in place.1', 'The eargels channel the sound directly into your ear and seem to increase the sound volume and clarity.1', 'none of the new ones have ever quite worked properly.0', 'I am glad I purchased it.1', \"I've missed numerous calls because of this reason.0\", 'Perhaps my phone is defective, but people cannot hear me when I use this.0', \"Don't buy this product.0\", 'sucked, most of the stuff does not work with my phone.0', \"No shifting, no bubbling, no peeling, not even a scratch, NOTHING!I couldn't be more happier with my new one for the Droid.1\", 'Worst software ever used.... If I could give this zero stars I would.0', 'Trying to make a call on these is an exercise in frustration.0', 'The case is a flimsy piece of plastic and has no front or side protection whatsoever.0', 'I own a Jabra Earset and was very happy with it, but the sound quality, especially outgoing, on this is better.1', \"I love the camera, it's really pretty good quality.1\", 'Thank you for such great service.1', 'Its a total package.1', 'The seller is very understanding and patient, I would definitely buy from them again.1', 'I give Wirefly 1 star.I will contact Cingular/AT&T; and inform them of this practice.0', \"It's AGGRAVATING!0\", 'Great product for the price!.1', 'I have purchased these for both family and friends, and all enjoy their clarity and ease of use1', 'Virgin Wireless rocks and so does this cheap little phone!1', \"None of it works, just don't buy it.0\", \"Muddy, low quality sound, and the casing around the wire's insert was poorly super glued and slid off.0\", 'Please dont waste your money.0', \"All in all, I'm quite satisfied with this purchase.1\", \"If you are looking for a good quality Motorola Headset keep looking, this isn't it.0\", 'Yet Plantronincs continues to use the same flawed charger design.0', 'Disapointing Results.0', 'Cumbersome design.0', 'Great it was new packaged nice works good, no problems and it came in less time then I expected!!!!1', 'Great Product.1', \"It's A PIECE OF CRAP!0\", 'My experience was terrible..... This was my fourth bluetooth headset, and while it was much more comfortable than my last Jabra (which I HATED!!!0', 'This fixes all the problems.1', 'Worst ever.0', 'I am very happy1', \"I've had no trouble accessing the Internet, downloading ringtones or performing any of the functions.1\", 'I can barely ever hear on it and am constantly saying \"what?\"0', 'The battery life is highly unacceptable.0', 'That company is a joke.0', 'It does everything the description said it would.1', 'Due to this happening on every call I was forced to stop using this headset.0', 'It works great with a car charger, especially if you cannot plug in two adapters at the same time.1', 'Verizon tech support walked my through a few procedures, none of which worked and I ended up having to do a hard re-set, wiping out all my data.0', 'Voice Quality, Signal Strength, Dropped Calls.0', \"It plays louder than any other speaker of this size; the price is so low that most would think the quality is lacking, however, it's not.1\", 'Better than expected.1', 'It feels poorly constructed, the menus are difficult to navigate, and the buttons are so recessed that it is difficult to push them.0', 'Battery is holding up well.1', \"Also difficult to put on.I'd recommend avoiding this product.0\", \"I only used it two days, and it wasn't always easy to hear with.0\", 'I got the car charger and not even after a week the charger was broken...I went to plug it in and it started smoking.0', 'Sprint - terrible customer service.0', 'Linked to my phone without effort.1', 'THey are so cool!1', 'Easy to use.1', 'Better Than New.1', 'What possesed me to get this junk, I have no idea...0', 'Piece of trash.0', 'A pretty good product.1', 'This is a great phone!.1', 'For the price on Amazon, it is an excellent product, which I would highly recommend.1', \"Their Research and Development division obviously knows what they're doing.1\", 'The real killer is the volume, and of course it breaking.0', 'Those phones are working just fine now.1', 'I am more than happy with this product.1', 'Poor Construction.0', 'This is infuriating.0', 'Overall, I would recommend this phone over the new Walkman.1', 'Sprint charges for this service.0', 'It is cheap, and it feel and look just as cheap.0', 'It fits my ear well and is comfortable on.1', \"It doesn't work in Europe or Asia.0\", \"clipping this to your belt will deffinitely make you feel like 50 cent's up-and-coming.1\", 'I like design and look of Jabra behing the ear headsets and 5020 is pretty comfortible to wear 24 hours a day without pain in the ear.1', 'I was amazed at the quick arrival of the two original lg cell phone batteries and and at a fraction of the price.1', 'the worst phone from samsung...crap..... this crappy Samsung E715.. is the worst i have ever seeen.0', 'the charger worked for about a week and then completely stopped charging my phone.0', 'Poor product.0', 'However I needed some better instructions.0', 'You need two hands to operate the screen.This software interface is decade old and cannot compete with new software designs.0', 'Worked very well paired with a Treo 700w and as a Skype headset on my PC (using a USB Bluetooth transceiver).1', 'Steer clear of this product and go with the genuine Palm replacementr pens, which come in a three-pack.0', 'DO NOT BUY DO NOT BUYIT SUCKS0', 'This is a great product..... sure beats using your fingers!.1', 'Plus, I seriously do not believe it is worth its steep price point.0', \"All the other cases I've tried normally fall apart after a few months but this one seems to be in for the long haul.1\", 'Very Dissapointing Performance.0', \"Don't make the same mistake that I did and please don't buy this phone.0\", \"This phone might well be the worst I've ever had in any brand.0\", 'Case was more or less an extra that I originally put on but later discarded because it scratched my ear.0', 'I recommend iGo to anyone with different brand cell phones/mp3 players in the family.1', \"Don't bother - go to the store.0\", \"I posted more detailed comments under the grey or black phone, but i have the Fire Red and it's a great color!1\", 'I did not have any problem with this item and would order it again if needed.1', 'You get what you pay for I guess.0', 'Not only did the software do a great job of this, I could also make my own ringtones form my existing CDs without an internet connection.1', \"im surprised this is a good quality car charger and there's not much reviews about it.1\", 'These are fabulous!1', 'However, BT headsets are currently not good for real time games like first-person shooters since the audio delay messes me up.0', 'I used bitpim (a free program you can find on the internet)to transfer data to the phone.The price of the cable was excellent.1', 'Disappointing accessory from a good manufacturer.0', 'Performed awful -- muffled, tinny incoming sound and severe echo for those on the other end of the call.0', 'Very wind-resistant.1', 'Obviously they have a terrible customer service, so you get what you pay for.0', 'They do not last forever, but is not overly expensive to replace.Easy to operate and the sound is much better than others I have tried.1', \"I contacted the company and they told me that, although the unit was still under warranty, if I couldn't produce my receipt I was out of luck.0\", 'Linksys should have some way to exchange a bad phone for a refurb unit or something!0', 'Phone is sturdy as all nokia bar phones are.1', 'Great phone.1', 'When I placed my treo into the case, not only was it NOT snug, but there was A LOT of extra room on the sides.0', \"I'm pleased.1\", 'Battery is terrible.0', 'I found the product to be easy to set up and use.1', 'The earpiece on this is too large or too heavy...it keeps falling out of my ear.0', 'Utter crap.. Sound quality is TERRIBLE.0', 'The charger arrived within the promised timeframe, but it did not work.0', \"No ear loop needed, it's tiny and the sound is great.1\", 'Finally, after three or four times the spring of the latch broke and I could not use it any longer on the visor.0', 'The handsfree part works fine, but then the car tries to download the address book, and the Treo reboots.Overall, I still rate this device high.1', 'Talk about USELESS customer service.0', 'It felt too light and \"tinny.\".0', 'This does not fit the Palm Tungsten E2 and it broke the first time I tried to plug it in.0', \"I'm happy about this purchase- good quality and low price.1\", 'I love the look and feel of Samsung flipphones.1', 'Its well-designed and very sharp -- the blue is a very nice color.1', 'Does everything it should and more.1', 'I could not recommend these more.0', 'Nice Sound.1', 'Looks good in the picture, but this case was a huge disappointment!!0', 'Much less than the jawbone I was going to replace it with.1', 'Setup went very smoothly.1', 'its extremely slow and takes forever to do anything with it.0', 'A must study for anyone interested in the \"worst sins\" of industrial design.0', 'The first thing that happened was that the tracking was off.0', 'It is well made, easy to access the phone and has a handy, detachable belt clip.1', 'Then I had to continue pairing it periodically since it somehow kept dropping.0', \"Can't upload ringtones from a third party.0\", 'Bluetooth does not work, phone locks up, screens just flash up and now it just makes calls randomly while in my pocket locked.0', 'Truly awful.0', 'It works fine on my Motorola 325 cellphone, and a lot better than the worn-out battery did.1', 'The volume for the ringer is REAL good (you have choices how loud).1', 'And none of the tones is acceptable.0', 'camera color balance is AWFUL.0', \"This product is clearly not ready for prime time, I don't care how cool it looks, if you can't tell a call is coming in it's worthless.0\", 'I love the ringtones because they are so upbeat!1', 'Chinese Forgeries Abound!.0', 'Easy to pair with my Samsung Cell.1', \"The instructions didn't explain that a microphone jack could be used.0\", 'i would advise to not purchase this item it never worked very well.0', 'Too bad you have to pay up to $$$ a month for the service!0', 'Works well.1', 'The nokia CA-42 USB cable did not work with my phone.0', 'Clear crisp sound.1', 'I have to use the smallest earpieces provided, but it stays on pretty well.1', 'The biggest complaint I have is, the battery drains superfast.0', 'The design might be ergonomic in theory but I could not stand having these in my ear.0', 'Do NOT buy if you want to use the holster.0', 'The phone can also take great pictures and even video clips.1', \"It doesn't make you look cool.0\", 'Because both ears are occupied, background is not distracting at all.1', 'Comfortable fit - you need your headset to be comfortable for at least an hour at a time, if not for an entire day.1', \"Also, the phone doesn't seem to accept anything except CBR mp3s, preferably ripped by Windows Media Player.0\", \"You can't beat the price on these.1\", '* Comes with a strong light that you can use to light up your camera shots, and even flash SOS signals (seriously!1', 'lightweight and works well.1', 'So just beware.0', 'I love this cable - it allows me to connect any mini-USB device to my PC.1', 'So anyone near you will hear part of your conversation.0', 'This is cool because most cases are just open there allowing the screen to get all scratched up.1', 'I bought this phone as a replacement for my StarTac and have regretted it since.0', 'Appears to actually outperform the original battery from China that came with my V325i.1', \"Can't store anything but phone numbers to SIM.0\", 'It lasts less than 3o minutes, if I actually try to use the phone.My wife has the same phone with the same problem.0', 'Poor quality.0', 'jabra ear gels \"R\" the best!.1', 'Not worth it.0', 'The phone crashed completely and now I have to get it replaced.0', \"It quit working after I'd used it for about 18 months, so I just purchased another one because this is the best headset I've ever owned.1\", 'Unfortunately it will not recharge my iPhone 4s, despite connecting it from multiple power sources (iMac, external battery, wall outlet, etc).0', 'It was a great phone.1', 'if you simply want a small flip phone -- look elsewhere as the extra bells & whistles are mediocre.0', 'Good value, works fine - power via USB, car, or wall outlet.1', \"My phone doesn't slide around my car now and the grip prevents my phone from slipping out of my hand.1\", 'This is simply the BEST bluetooth headset for sound quality!1', 'Think it over when you plan to own this one!This sure is the last MOTO phone for me!0', 'In the span of an hour, I had two people exclaim \"Whoa - is that the new phone on TV?!?1', 'I have always used corded headsets and the freedom from the wireless is very helpful.1', 'This case has passed the one year mark and while it shows signs of wear, it is 100% functional.1', 'Other than that, the leather is nice and soft; the fit is very tight; the cut out for the face is a good shape.1', \"It has everything I need and I couldn't ask for more.1\", 'After receiving and using the product for just 2 days it broke.0', 'This product is great... it makes working a lot easier I can go to the copier while waiting on hold for something.1', 'None of the three sizes they sent with the headset would stay in my ears.0', 'T-Mobile has the best customer service anywhere.1', 'Arrived quickly and much less expensive than others being sold.1', 'We have tried 2 units and they both failed within 2 months.. Pros0', 'Provides good protection and looks classy, too.1', 'Krussel Always good.1', 'The tracfonewebsite is user friendly and makes it easy toactivate, etc.1', 'The design is very good.4.1', 'I great reception all the time.1', 'I would highly recommend this product.1', \"Couldn't use the unit with sunglasses, not good in Texas!0\", 'It dit not work most of the time with my Nokia 5320.0', 'Bought mainly for the charger, which broke soon after purchasing.0', 'If you like a loud buzzing to override all your conversations, then this phone is for you!0', 'Fantastic buy and will get again for whatever my next phone is1', 'stay away from this store, be careful.0', 'This BlueAnt Supertooth hands-free phone speaker is AWESOME.1', 'Does not fit.0', '.... Item arrived quickly and works great with my Metro PCS Samsung SCH-r450 slider phone and Sony Premium Sound in ear plugs.1', 'It is light, has plenty of battery capacity, and is very confortable to wear for somewhat extended periods of time.1', 'disappointing.0', 'Blue Ant is easy to use.1', 'Cheap but hey it works.. Was pleasantly suprised given the low cost of this item.1', \"The camera on the phone may be used as a dustpan when indoors... I'd rather be using a disposable then this.0\", 'Then a few days later the a puff of smoke came out of the phone while in use.0', \"It's very convenient and simple to use - gets job done & makes the car ride so much smoother.1\", 'The nano stated it.My son was dissapointed.0', 'The sound quality is excellent as well.1', 'Its the best headset I have used.1', 'Would not reccommend.0', 'They have been around for years and carries the highest quality of anti-glare screen protector that I have found to date.1', 'Just what I wanted.1', 'This particular model would not work with my Motorola Q smartphone.0', 'wont work right or atleast for me.0', 'in addition it feels &amp; looks as if the phone is all lightweight cheap plastic.0', 'But now that it is \"out of warranty\" the same problems reoccure.Bottom line... put your money somewhere else... Cingular will not support it.0', 'I really wanted the Plantronics 510 to be the right one, but it has too many issues for me.The good0', 'Great product.1', 'Crisp and Clear.1', 'AFter the first charge kept going dead after 12 minutes.0', 'VERY cheap plastic, creaks like an old wooden floor.0', 'I get absolutely horrible reception in my apartment, where with other phones I have not had this problem.0', 'The reception has been generally good.1', 'Excellent sound, battery life and inconspicuous to boot!.1', 'Great bluetooth!.1', 'I highly recommend this case.1', 'WORTHWHILE.1', 'This is a great deal.1', \"After my phone got to be about a year old, it's been slowly breaking despite much care on my part.0\", 'I am sorry I made this purchase.0', 'I bought these hoping I could make my Bluetooth headset fit better but these things made it impossible to wear.0', 'Treo and T-Mobile refused to replace it again and forced me to buy another phone without any kind of upgrade discount.0', 'It was horrible!.0', \"I don't think it would hold it too securly on your belt.0\", 'This allows the possibility of double booking for the same date and time after the first.0', 'They work about 2 weeks then break.0', 'It is simple to use and I like it.1', \"It's a great tool for entertainment, communication, and data management.Oh, be sure to use ActiveSync 4.2 for optimal data synchronization results!1\", \"I can't use this case because the smell is disgusting.0\", 'NOT WHAT I WANTED.0', 'I own 2 of these cases and would order another.1', 'Great Phone.1', \"I bought this battery with a coupon from Amazon and I'm very happy with my purchase.1\", 'The internet access was fine, it the rare instance that it worked.0', 'Perfect for the PS3.1', 'Five star Plus, plus.1', \"A good quality bargain.. I bought this after I bought a cheapy from Big Lots that sounded awful and people on the other end couldn't hear me.1\", '$50 Down the drain.0', \"I tried talking real loud but shouting on the telephone gets old and I was still told it wasn't great.0\", 'Good , works fine.1', 'For the price this was a great deal.1', 'Great price, too!1', 'If there is a wind, it is completely useless.0', \"Yes it's shiny on front side - and I love it!1\", 'Does Not Work.0', 'At first I thought I was grtting a good deal at $7.44, until I plugged it into my phone (V3c Razr).0', 'The reception through this headset is excellent.1', '2 thumbs up to this seller1', 'I have a Verizon LG phone and they work well together, good reception and range that exceeds 20 feet line of sight.1', 'Improper description.... I had to return it.0', '#1 It Works - #2 It is Comfortable.1', 'Battery charge-life is quite long.1', 'The Jabra EarGels fit my ears very well.1', 'Battery has no life.0', 'I checked everywhere and there is no feature for it which is really disappointing.0', 'Product is exactly as described.1', \"Gets a signal when other Verizon phones won't.1\", \"Doesn't do the job.0\", 'I would recommend it.1', 'Plan on ordering from them again and again.1', 'That being said, for a phone, the camera is very nice; many cool effects to play with, and video is decent as well.1', 'I have been very satisfied with this cell phone from day one.1', \"They keep getting better and better (this is my third one and I've had numerous Palms too).1\", 'Awkward to use and unreliable.0', 'The shipping time was also very quick!1', 'Not as good as I had hoped.0', 'Good case!.1', \"Doesn't Work.0\", 'Really good product.1', 'Unfortunately it did not work.0', 'All three broke within two months of use.0', 'dont buy it.0', 'My father has the V265, and the battery is dying.0', 'However, the ear pads come off easily and after only one week I lost one.0', 'The calls drop, the phone comes on and off at will, the screen goes black and the worst of all it stops ringing intermittently.0', 'Horrible, horrible protector.0', \"I don't like this Nokia either.0\", 'Reaching for the bottom row is uncomfortable, and the send and end keys are not where I expect them to be.3.0', 'I have bought this Nokia cell phone a few weeks ago and it was a nightmare.0', 'It would take too long to describe how bad my customer service experience has been with Amazon.0', 'the only VERY DISAPPOINTING thing was there was NO SPEAKERPHONE!!!!0', 'Terrible.. My car will not accept this cassette.0', 'Product is useless, since it does not have enough charging current to charge the 2 cellphones I was planning to use it with.0', \"It's not what it says it is.0\", 'Stay Away From the Q!.0', 'Used and dirty.0', 'Very unreliable service from T-mobile !0', 'Not good enough for the price.0', 'I bought two of them and neither will charge.0', 'It looks very nice.1', \"This is an excellent tool, especially when paired with your phone's auto-answer.1\", \"I have read other's reviews here but I haven't had any problem with it.1\", 'These products cover up the important light sensor above the ear outlet.0', 'Comfortable in my hand.1', 'Just does not work.0', 'Poor Reliability.0', '(It works!)1', 'If I take a picture, the battery drops a bar, and starts beeping, letting me know its dieing.0', 'Terrible product, and waste of money!0', 'Last time buying from you.0', 'It was a waste of my money.0', 'So far it has worked like a charm.1', 'I have only had it for a few weeks, but so far, so good.1', 'But, in any case, the best part is, you can download these pictures to your laptop using IR, or even send pictures from your laptop to the phone.1', 'Would recommend this item.1', \"It's been my choice headset for years.Great sound; good volume; good noise cancellation.1\", 'Nice case, feels good in your hands.1', 'The item received was Counterfeit.0', 'Just really good.. So far, probably the best BT headset I have ever had.1', 'Works fine.1', 'I received my headset in good time and was happy with it.1', 'I was very pleased to see that I could replace my well travled swivel holster for my Blackberry flip.1', 'My sister has one also and she loves it.1', 'Good Quality.1', \"This is by far the worst purchase I've made on Amazon.0\", 'Excellent dual-purpose headset.1', 'Excellent!.1', 'Does not work for listening to music with the cingular 8125.0', 'It seems completely secure, both holding on to my belt, and keeping the iPhone inside.1', 'The bottowm line...another worthless, cheap gimmick from Sprint.0', 'Having trouble with volume.0', 'The only good thing was that it fits comfortably on small ears.1', 'WARNING - DO NOT BUY!!.0', 'I am pairing this with my iphone, and I could not be happier with it so far.1', 'When it opens, the battery connection is broken and the device is turned off.0', \"I didn't want the clip going over the top of my ear, causing discomfort.0\", 'Best headset ever!!!.1', \"Don't trust their website and don't expect any helpful support.0\", 'It was that loud.Glad to say that the Plantronics 510 maintains a flawless connection to my cell and with no static during normal use.1', 'The speaker is of low quality so as making the ring tones sound very cheap.0', 'Fits comfortably, came with three sizes of earbud tips.1', 'Excellent product for the price.1', 'Bad Reception.0', 'This product is very High quality Chinese CRAP!!!!!!0', 'It was quite comfortable in the ear.1', 'Great phone.1', \"Don't buy this product - It fails!.0\", 'Everything about this product is wrong.First0', 'The pairing of the two devices was so easy it barely took a couple minutes before I started making calls with the voice dialing feature.1', 'This was utterly confusing at first, which caused me to lose a couple of very, very important contacts.0', 'Terrible phone holder.0', 'The cutouts and buttons are placed perfectly.1', 'I love being able to use one headset for both by land-line and cell.1', 'Problem is that the ear loops are made of weak material and break easily.0', 'Not nearly as good looking as the AMAZON picture makes it look.0', 'But despite these few flaws, this case is of exceptional quality and well worth the additional costs of owning an official OEM product.1', 'How stupid is that?0', \"I can hear while I'm driving in the car, and usually don't even have to put it on it's loudest setting.1\", 'Seller shipped quickly and much cheaper than the competitors.1', 'Good show, Samsung.1', 'So I bought about 10 of these and saved alot of money.1', 'It always cuts out and makes a beep beep beep sound then says signal failed.0', \"Couldn't figure it out0\", \"My phone sounded OK ( not great - OK), but my wife's phone was almost totally unintelligible, she couldn't understand a word being said on it.0\", 'So I had to take the battery out of the phone put it all back together and then restart it.0', 'While I managed to bend the leaf spring back in place, the metal now has enough stress that it will break on the next drop.0', 'Leopard Print is wonderfully wild!.1', 'Works for me.1', 'Saggy, floppy piece of junk.0', 'much better than the hard plastic cases.1', 'It also had a new problem.0', 'Happy so far!.1', 'cool phone.1', 'Works good.1', 'Motorola finally got the voice quality of a bluetooth headset right.1', 'It looses connection to the phone even when it is within a couple feet between the two.0', 'but it is great, i would really recommend it1', \"Makes it easier to keep up with my bluetooth when I'm not wearing it.0\", 'As I said above....PRETTY USELESS!0', 'Never got it!!!!!0', 'This pair of headphones is the worst that I have ever had sound-wise.0', '[...] down the drain because of a weak snap!0', 'Does not charge the Cingular (ATT) 8525 phone.0', 'You get extra minutes so that you can carry out the call and not get cut off.\"1', \"However, after about a year, the fliptop started to get loose and wobbly and eventually my screen went black and I couldn't receive and place calls.0\", 'I kept catching the cable on the seat and I had to pull the phone out to turn it on an off.0', 'The headset fulfills my requirements so I am happy with my purchase.1', 'Logitech Bluetooth Headset is a 10!.1', 'I like the fact that it rests lightly against your ear, rather than inside.1', 'A lot of websites have been rating this a very good phone and so do I.1', 'I have tried these cables with my computer and my iPod and it works just fine.1', 'The mic there is a joke, and the volume is quite low.0', \"I'm returning them.0\", 'I does not maintain a connection with the computer while it is on my lap.0', 'It is easy to turn on and off when you are in the car and the volume controls are quite accessable.1', 'I have had mine for about a year and this Christmas I bought some for the rest of the family.1', 'Otherwise, easy to install and use, clear sound.1', 'nice leather.1', 'I had to purchase a different case.0', 'It is a joy to use.1', 'Very much disappointed with this company.0', 'Very satisifed with that.1', \"It didn't charge for me.0\", 'This is the phone to get for 2005.... I just bought my S710a and all I can say is WOW!1', 'Buttons are too small.0', 'Just reading on the specs alone makes you say WOW.1', 'Love it.. Great armband.1', 'I really like this product over the Motorola because it is allot clearer on the ear piece and the mic.1', 'However, the keypads are so tinny that I sometimes reach the wrong buttons.0', \"I exchanged the sony ericson z500a for this and I'm pretty happy with that decision.1\", 'I was very impressed with the price of the cases.1', 'Also makes it easier to hold on to.1', 'I use this product in a motor control center where there is a lot of high voltage humming from the equipment, and it works great!1', \"It's pretty easy.1\", 'I cannot make calls at certain places.0', \"however, my girl was complain that some time the phone doesn't wake up like normal phone does.0\", 'Beautiful styling though.1', 'This company charge me a restocking fee and still not given me my refund back.0', \"I'm trying to return it for a refund.0\", 'I plugged it in only to find out not a darn thing worked.0', 'Excellent product.1', 'Earbud piece breaks easily.0', 'Lousy product.0', \"This phone tries very hard to do everything but fails at it's very ability to be a phone.0\", 'It is the best charger I have seen on the market yet.1', 'SWEETEST PHONE!!!1', ':-)Oh, the charger seems to work fine.1', 'It fits so securely that the ear hook does not even need to be used and the sound is better directed through your ear canal.1', 'Not enough volume.0', 'Echo Problem....Very unsatisfactory0', 'you could only take 2 videos at a time and the quality was very poor.0', \"don't waste your money.0\", 'I am going to have to be the first to negatively review this product.0', 'Adapter does not provide enough charging current.0', 'There was so much hype over this phone that I assumed it was the best, my mistake.0', 'You also cannot take pictures with it in the case because the lense is covered.0', 'Phone falls out easily.0', \"It didn't work, people can not hear me when I talk.0\", 'The text messaging feature is really tricky to use.0', \"I'm really disappointed all I have now is a charger that doesn't work.0\", 'Painful on the ear.0', 'Lasted one day and then blew up.0', 'disappointed.0', 'Kind of flops around.0', 'The screen does get smudged easily because it touches your ear and face.0', 'What a piece of junk.. I lose more calls on this phone.0', 'Item Does Not Match Picture.0', 'The only thing that disappoint me is the infra red port (irda).0', 'You can not answer calls with the unit, never worked once!0', 'Wow... Loved this place.1', 'Crust is not good.0', 'Not tasty and the texture was just nasty.0', 'Stopped by during the late May bank holiday off Rick Steve recommendation and loved it.1', 'The selection on the menu was great and so were the prices.1', 'Now I am getting angry and I want my damn pho.0', \"Honeslty it didn't taste THAT fresh.)0\", 'The potatoes were like rubber and you could tell they had been made up ahead of time being kept under a warmer.0', 'The fries were great too.1', 'A great touch.1', 'Service was very prompt.1', 'Would not go back.0', 'The cashier had no care what so ever on what I had to say it still ended up being wayyy overpriced.0', 'I tried the Cape Cod ravoli, chicken,with cranberry...mmmm!1', 'I was disgusted because I was pretty sure that was human hair.0', 'I was shocked because no signs indicate cash only.0', 'Highly recommended.1', 'Waitress was a little slow in service.0', 'This place is not worth your time, let alone Vegas.0', 'did not like at all.0', 'The Burrittos Blah!0', 'The food, amazing.1', 'Service is also cute.1', 'I could care less... The interior is just beautiful.1', 'So they performed.1', \"That's right....the red velvet cake.....ohhh this stuff is so good.1\", '- They never brought a salad we asked for.0', 'This hole in the wall has great Mexican street tacos, and friendly staff.1', 'Took an hour to get our food only 4 tables in restaurant my food was Luke warm, Our sever was running around like he was totally overwhelmed.0', 'The worst was the salmon sashimi.0', 'Also there are combos like a burger, fries, and beer for 23 which is a decent deal.1', 'This was like the final blow!0', 'I found this place by accident and I could not be happier.1', 'seems like a good quick place to grab a bite of some familiar pub food, but do yourself a favor and look elsewhere.0', 'Overall, I like this place a lot.1', 'The only redeeming quality of the restaurant was that it was very inexpensive.1', 'Ample portions and good prices.1', 'Poor service, the waiter made me feel like I was stupid every time he came to the table.0', 'My first visit to Hiro was a delight!1', 'Service sucks.0', 'The shrimp tender and moist.1', 'There is not a deal good enough that would drag me into that establishment again.0', \"Hard to judge whether these sides were good because we were grossed out by the melted styrofoam and didn't want to eat it for fear of getting sick.0\", 'On a positive note, our server was very attentive and provided great service.1', 'Frozen pucks of disgust, with some of the worst people behind the register.0', 'The only thing I did like was the prime rib and dessert section.1', \"It's too bad the food is so damn generic.0\", 'The burger is good beef, cooked just right.1', 'If you want a sandwich just go to any Firehouse!!!!!1', 'My side Greek salad with the Greek dressing was so tasty, and the pita and hummus was very refreshing.1', 'We ordered the duck rare and it was pink and tender on the inside with a nice char on the outside.1', 'He came running after us when he realized my husband had left his sunglasses on the table.1', 'Their chow mein is so good!1', \"They have horrible attitudes towards customers, and talk down to each one when customers don't enjoy their food.0\", 'The portion was huge!1', 'Loved it...friendly servers, great food, wonderful and imaginative menu.1', 'The Heart Attack Grill in downtown Vegas is an absolutely flat-lined excuse for a restaurant.0', 'Not much seafood and like 5 strings of pasta at the bottom.0', 'The salad had just the right amount of sauce to not over power the scallop, which was perfectly cooked.1', 'The ripped banana was not only ripped, but petrified and tasteless.0', 'At least think to refill my water before I struggle to wave you over for 10 minutes.0', 'This place receives stars for their APPETIZERS!!!1', 'The cocktails are all handmade and delicious.1', \"We'd definitely go back here again.1\", 'We are so glad we found this place.1', 'Great food and service, huge portions and they give a military discount.1', 'Always a great time at Dos Gringos!1', 'Update.....went back for a second time and it was still just as amazing1', 'We got the food and apparently they have never heard of salt and the batter on the fish was chewy.0', 'A great way to finish a great.1', 'The deal included 5 tastings and 2 drinks, and Jeff went above and beyond what we expected.1', '- Really, really good rice, all the time.1', 'The service was meh.0', 'It took over 30 min to get their milkshake, which was nothing more than chocolate milk.0', \"I guess I should have known that this place would suck, because it is inside of the Excalibur, but I didn't use my common sense.0\", 'The scallop dish is quite appalling for value as well.0', '2 times - Very Bad Customer Service !0', 'The sweet potato fries were very good and seasoned well.1', \"Today is the second time I've been to their lunch buffet and it was pretty good.1\", 'There is so much good food in Vegas that I feel cheated for wasting an eating opportunity by going to Rice and Company.0', \"Coming here is like experiencing an underwhelming relationship where both parties can't wait for the other person to ask to break up.0\", 'walked in and the place smelled like an old grease trap and only 2 others there eating.0', 'The turkey and roast beef were bland.0', 'This place has it!1', 'The pan cakes everyone are raving about taste like a sugary disaster tailored to the palate of a six year old.0', 'I love the Pho and the spring rolls oh so yummy you have to try.1', 'The poor batter to meat ratio made the chicken tenders very unsatisfying.0', 'All I have to say is the food was amazing!!!1', 'Omelets are to die for!1', 'Everything was fresh and delicious!1', 'In summary, this was a largely disappointing dining experience.0', \"It's like a really sexy party in your mouth, where you're outrageously flirting with the hottest person at the party.1\", 'Never been to Hard Rock Casino before, WILL NEVER EVER STEP FORWARD IN IT AGAIN!0', 'Best breakfast buffet!!!1', 'say bye bye to your tip lady!0', \"We'll never go again.0\", 'Will be back again!1', 'Food arrived quickly!1', 'It was not good.0', 'On the up side, their cafe serves really good food.1', 'Our server was fantastic and when he found out the wife loves roasted garlic and bone marrow, he added extra to our meal and another marrow to go!1', \"The only good thing was our waiter, he was very helpful and kept the bloddy mary's coming.1\", 'Best Buffet in town, for the price you cannot beat it.1', 'I LOVED their mussels cooked in this wine reduction, the duck was tender, and their potato dishes were delicious.1', 'This is one of the better buffets that I have been to.1', 'So we went to Tigerlilly and had a fantastic afternoon!1', 'The food was delicious, our bartender was attentive and personable AND we got a great deal!1', 'The ambience is wonderful and there is music playing.1', 'Will go back next trip out.1', 'Sooooo good!!1', \"REAL sushi lovers, let's be honest - Yama is not that good.0\", \"At least 40min passed in between us ordering and the food arriving, and it wasn't that busy.0\", 'This is a really fantastic Thai restaurant which is definitely worth a visit.1', 'Nice, spicy and tender.1', 'Good prices.1', 'Check it out.1', 'It was pretty gross!0', \"I've had better atmosphere.0\", 'Kind of hard to mess up a steak but they did.0', 'Although I very much liked the look and sound of this place, the actual experience was a bit disappointing.0', \"I just don't know how this place managed to served the blandest food I have ever eaten when they are preparing Indian cuisine.0\", 'Worst service to boot, but that is the least of their worries.0', 'Service was fine and the waitress was friendly.1', \"The guys all had steaks, and our steak loving son who has had steak at the best and worst places said it was the best steak he's ever eaten.1\", \"We thought you'd have to venture further away to get good sushi, but this place really hit the spot that night.1\", 'Host staff were, for lack of a better word, BITCHES!0', \"Bland... Not a liking this place for a number of reasons and I don't want to waste time on bad reviewing.. I'll leave it at that...0\", 'Phenomenal food, service and ambiance.1', \"I wouldn't return.0\", \"Definitely worth venturing off the strip for the pork belly, will return next time I'm in Vegas.1\", 'This place is way too overpriced for mediocre food.0', 'Penne vodka excellent!1', 'They have a good selection of food including a massive meatloaf sandwich, a crispy chicken wrap, a delish tuna melt and some tasty burgers.1', 'The management is rude.0', 'Delicious NYC bagels, good selections of cream cheese, real Lox with capers even.1', \"Great Subway, in fact it's so good when you come here every other Subway will not meet your expectations.1\", 'I had a seriously solid breakfast here.1', 'This is one of the best bars with food in Vegas.1', 'He was extremely rude and really, there are so many other restaurants I would love to dine at during a weekend in Vegas.0', 'My drink was never empty and he made some really great menu suggestions.1', \"Don't do it!!!!0\", \"The waiter wasn't helpful or friendly and rarely checked on us.0\", 'My husband and I ate lunch here and were very disappointed with the food and service.0', \"And the red curry had so much bamboo shoots and wasn't very tasty to me.0\", 'Nice blanket of moz over top but i feel like this was done to cover up the subpar food.1', 'The bathrooms are clean and the place itself is well decorated.1', 'The menu is always changing, food quality is going down & service is extremely slow.0', 'The service was a little slow , considering that were served by 3 people servers so the food was coming in a slow pace.0', 'I give it 2 thumbs down0', 'We watched our waiter pay a lot more attention to other tables and ignore us.0', 'My fiancé and I came in the middle of the day and we were greeted and seated right away.1', 'This is a great restaurant at the Mandalay Bay.1', 'We waited for forty five minutes in vain.0', 'Crostini that came with the salad was stale.0', 'Some highlights : Great quality nigiri here!1', 'the staff is friendly and the joint is always clean.1', 'this was a different cut than the piece the other day but still wonderful and tender s well as well flavored.1', \"I ordered the Voodoo pasta and it was the first time I'd had really excellent pasta since going gluten free several years ago.1\", 'this place is good.1', 'Unfortunately, we must have hit the bakery on leftover day because everything we ordered was STALE.0', 'I came back today since they relocated and still not impressed.0', 'I was seated immediately.1', 'Their menu is diverse, and reasonably priced.1', 'Avoid at all cost!0', 'Restaurant is always full but never a wait.1', 'DELICIOUS!!1', 'This place is hands-down one of the best places to eat in the Phoenix metro area.1', \"So don't go there if you are looking for good food...0\", \"I've never been treated so bad.0\", 'Bacon is hella salty.1', 'We also ordered the spinach and avocado salad; the ingredients were sad and the dressing literally had zero taste.0', 'This really is how Vegas fine dining used to be, right down to the menus handed to the ladies that have no prices listed.1', 'The waitresses are very friendly.1', 'Lordy, the Khao Soi is a dish that is not to be missed for curry lovers!1', 'Everything on the menu is terrific and we were also thrilled that they made amazing accommodations for our vegetarian daughter.1', \"Perhaps I caught them on an off night judging by the other reviews, but I'm not inspired to go back.0\", 'The service here leaves a lot to be desired.0', 'The atmosphere is modern and hip, while maintaining a touch of coziness.1', 'Not a weekly haunt, but definitely a place to come back to every once in a while.1', 'We literally sat there for 20 minutes with no one asking to take our order.0', 'The burger had absolutely no flavor - the meat itself was totally bland, the burger was overcooked and there was no charcoal flavor.0', 'I also decided not to send it back because our waitress looked like she was on the verge of having a heart attack.0', 'I dressed up to be treated so rudely!0', 'It was probably dirt.0', 'Love this place, hits the spot when I want something healthy but not lacking in quantity or flavor.1', 'I ordered the Lemon raspberry ice cocktail which was also incredible.1', 'The food sucked, which we expected but it sucked more than we could have imagined.0', 'Interesting decor.1', 'What I really like there is the crepe station.1', 'Also were served hot bread and butter, and home made potato chips with bacon bits on top....very original and very good.1', 'you can watch them preparing the delicious food!)1', 'Both of the egg rolls were fantastic.1', 'When my order arrived, one of the gyros was missing.0', 'I had a salad with the wings, and some ice cream for dessert and left feeling quite satisfied.1', \"I'm not really sure how Joey's was voted best hot dog in the Valley by readers of Phoenix Magazine.0\", 'The best place to go for a tasty bowl of Pho!1', 'The live music on Fridays totally blows.0', \"I've never been more insulted or felt disrespected.0\", 'Very friendly staff.1', 'It is worth the drive.1', 'I had heard good things about this place, but it exceeding every hope I could have dreamed of.1', 'Food was great and so was the serivce!1', \"The warm beer didn't help.0\", 'Great brunch spot.1', 'Service is friendly and inviting.1', 'Very good lunch spot.1', \"I've lived here since 1979 and this was the first (and last) time I've stepped foot into this place.0\", 'The WORST EXPERIENCE EVER.0', 'Must have been an off night at this place.0', 'The sides are delish - mixed mushrooms, yukon gold puree, white corn - beateous.1', 'If that bug never showed up I would have given a 4 for sure, but on the other side of the wall where this bug was climbing was the kitchen.0', \"For about 10 minutes, we we're waiting for her salad when we realized that it wasn't coming any time soon.0\", 'My friend loved the salmon tartar.1', \"Won't go back.0\", 'Extremely Tasty!1', 'Waitress was good though!1', 'Soggy and not good.0', 'The Jamaican mojitos are delicious.1', 'Which are small and not worth the price.0', '- the food is rich so order accordingly.1', \"The shower area is outside so you can only rinse, not take a full shower, unless you don't mind being nude for everyone to see!0\", 'The service was a bit lacking.0', 'Lobster Bisque, Bussell Sprouts, Risotto, Filet ALL needed salt and pepper..and of course there is none at the tables.0', 'Hopefully this bodes for them going out of business and someone who can cook can come in.0', 'It was either too cold, not enough flavor or just bad.0', 'I loved the bacon wrapped dates.1', 'This is an unbelievable BARGAIN!1', 'The folks at Otto always make us feel so welcome and special.1', 'As for the \"mains,\" also uninspired.0', 'This is the place where I first had pho and it was amazing!!1', 'This wonderful experience made this place a must-stop whenever we are in town again.1', \"If the food isn't bad enough for you, then enjoy dealing with the world's worst/annoying drunk people.0\", 'Very very fun chef.1', 'Ordered a double cheeseburger & got a single patty that was falling apart (picture uploaded) Yeah, still sucks.0', \"Great place to have a couple drinks and watch any and all sporting events as the walls are covered with TV's.1\", \"If it were possible to give them zero stars, they'd have it.0\", 'The descriptions said \"yum yum sauce\" and another said \"eel sauce\", yet another said \"spicy mayo\"...well NONE of the rolls had sauces on them.0', \"I'd say that would be the hardest decision... Honestly, all of M's dishes taste how they are supposed to taste (amazing).1\", 'If she had not rolled the eyes we may have stayed... Not sure if we will go back and try it again.0', 'Everyone is very attentive, providing excellent customer service.1', \"Horrible - don't waste your time and money.0\", 'Now this dish was quite flavourful.1', 'By this time our side of the restaurant was almost empty so there was no excuse.0', \"(It wasn't busy either) Also, the building was FREEZING cold.0\", 'like the other reviewer said \"you couldn\\'t pay me to eat at this place again.\"0', '-Drinks took close to 30 minutes to come out at one point.0', 'Seriously flavorful delights, folks.1', 'Much better than the other AYCE sushi place I went to in Vegas.1', 'The lighting is just dark enough to set the mood.1', \"Based on the sub-par service I received and no effort to show their gratitude for my business I won't be going back.0\", \"Owner's are really great people.!1\", 'There is nothing privileged about working/eating there.0', 'The Greek dressing was very creamy and flavorful.1', \"Overall, I don't think that I would take my parents to this place again because they made most of the similar complaints that I silently felt too.0\", 'Now the pizza itself was good the peanut sauce was very tasty.1', 'We had 7 at our table and the service was pretty fast.1', 'Fantastic service here.1', \"I as well would've given godfathers zero stars if possible.0\", 'They know how to make them here.1', 'very tough and very short on flavor!0', 'I hope this place sticks around.1', 'I have been in more than a few bars in Vegas, and do not ever recall being charged for tap water.0', 'The restaurant atmosphere was exquisite.1', 'Good service, very clean, and inexpensive, to boot!1', 'The seafood was fresh and generous in portion.1', \"Plus, it's only 8 bucks.1\", 'The service was not up to par, either.0', 'Thus far, have only visited twice and the food was absolutely delicious each time.1', 'Just as good as when I had it more than a year ago!1', 'For a self proclaimed coffee cafe, I was wildly disappointed.0', 'The Veggitarian platter is out of this world!1', 'You cant go wrong with any of the food here.1', \"You can't beat that.1\", 'Stopped by this place while in Madison for the Ironman, very friendly, kind staff.1', 'The chefs were friendly and did a good job.1', \"I've had better, not only from dedicated boba tea spots, but even from Jenni Pho.0\", 'I liked the patio and the service was outstanding.1', \"The goat taco didn't skimp on the meat and wow what FLAVOR!1\", 'I think not again0', 'I had the mac salad and it was pretty bland so I will not be getting that again.0', \"I went to Bachi Burger on a friend's recommendation and was not disappointed.1\", 'Service stinks here!0', 'I waited and waited.0', 'This place is not quality sushi, it is not a quality restaurant.0', 'I would definitely recommend the wings as well as the pizza.1', 'Great Pizza and Salads!1', 'Things that went wrong: - They burned the saganaki.0', 'We waited an hour for what was a breakfast I could have done 100 times better at home.0', 'This place is amazing!1', 'I hate to disagree with my fellow Yelpers, but my husband and I were so disappointed with this place.0', 'Waited 2 hours & never got either of our pizzas as many other around us who came in later did!0', \"Just don't know why they were so slow.0\", 'The staff is great, the food is delish, and they have an incredible beer selection.1', \"I live in the neighborhood so I am disappointed I won't be back here, because it is a convenient location.0\", \"I didn't know pulled pork could be soooo delicious.1\", 'You get incredibly fresh fish, prepared with care.1', 'Before I go in to why I gave a 1 star rating please know that this was my third time eating at Bachi burger before writing a review.0', 'I love the fact that everything on their menu is worth it.1', 'Never again will I be dining at this place!0', 'The food was excellent and service was very good.1', 'Good beer & drink selection and good food selection.1', 'Please stay away from the shrimp stir fried noodles.0', 'The potato chip order was sad... I could probably count how many chips were in that box and it was probably around 12.0', 'Food was really boring.0', 'Good Service-check!1', 'This greedy corporation will NEVER see another dime from me!0', 'Will never, ever go back.0', \"As much as I'd like to go back, I can't get passed the atrocious service and will never return.0\", 'In the summer, you can dine in a charming outdoor patio - so very delightful.1', 'I did not expect this to be so good!1', 'Fantastic food!1', 'She ordered a toasted English muffin that came out untoasted.0', 'The food was very good.1', 'Never going back.0', 'Great food for the price, which is very high quality and house made.1', 'The bus boy on the other hand was so rude.0', \"By this point, my friends and I had basically figured out this place was a joke and didn't mind making it publicly and loudly known.0\", 'Back to good BBQ, lighter fare, reasonable pricing and tell the public they are back to the old ways.1', \"And considering the two of us left there very full and happy for about $20, you just can't go wrong.1\", 'All the bread is made in-house!1', 'The only downside is the service.0', \"Also, the fries are without a doubt the worst fries I've ever had.0\", 'Service was exceptional and food was a good as all the reviews.1', 'A couple of months later, I returned and had an amazing meal.1', 'Favorite place in town for shawarrrrrrma!!!!!!1', 'The black eyed peas and sweet potatoes... UNREAL!1', \"You won't be disappointed.1\", 'They could serve it with just the vinaigrette and it may make for a better overall dish, but it was still very good.1', \"I go to far too many places and I've never seen any restaurant that serves a 1 egg breakfast, especially for $4.00.0\", 'When my mom and I got home she immediately got sick and she only had a few bites of salad.0', \"The servers are not pleasant to deal with and they don't always honor Pizza Hut coupons.0\", 'Both of them were truly unbelievably good, and I am so glad we went back.1', 'We had fantastic service, and were pleased by the atmosphere.1', 'Everything was gross.0', 'I love this place.1', 'Great service and food.1', 'First - the bathrooms at this location were dirty- Seat covers were not replenished & just plain yucky!!!0', 'The burger... I got the \"Gold Standard\" a $17 burger and was kind of disappointed.0', 'OMG, the food was delicioso!1', 'There is nothing authentic about this place.0', 'the spaghetti is nothing special whatsoever.0', 'Of all the dishes, the salmon was the best, but all were great.1', 'The vegetables are so fresh and the sauce feels like authentic Thai.1', \"It's worth driving up from Tucson!1\", \"The selection was probably the worst I've seen in Vegas.....there was none.0\", 'Pretty good beer selection too.1', 'This place is like Chipotle, but BETTER.1', 'Classy/warm atmosphere, fun and fresh appetizers, succulent steaks (Baseball steak!!!!!1', '5 stars for the brick oven bread app!1', 'I have eaten here multiple times, and each time the food was delicious.1', 'We sat another ten minutes and finally gave up and left.0', 'He was terrible!0', 'Everyone is treated equally special.1', \"It shouldn't take 30 min for pancakes and eggs.0\", 'It was delicious!!!1', 'On the good side, the staff was genuinely pleasant and enthusiastic - a real treat.1', \"Sadly, Gordon Ramsey's Steak is a place we shall sharply avoid during our next trip to Vegas.0\", 'As always the evening was wonderful and the food delicious!1', \"Best fish I've ever had in my life!1\", '(The bathroom is just next door and very nice.)1', 'The buffet is small and all the food they offered was BLAND.0', 'This is an Outstanding little restaurant with some of the Best Food I have ever tasted.1', 'Pretty cool I would say.1', \"Definitely a turn off for me & i doubt I'll be back unless someone else is buying.0\", 'Server did a great job handling our large rowdy table.1', \"I find wasting food to be despicable, but this just wasn't food.0\", 'My wife had the Lobster Bisque soup which was lukewarm.0', 'Would come back again if I had a sushi craving while in Vegas.1', 'The staff are great, the ambiance is great.1', 'He deserves 5 stars.1', 'I left with a stomach ache and felt sick the rest of the day.0', 'They dropped more than the ball.0', 'The dining space is tiny, but elegantly decorated and comfortable.1', \"They will customize your order any way you'd like, my usual is Eggplant with Green Bean stir fry, love it!1\", 'And the beans and rice were mediocre at best.0', 'Best tacos in town by far!!1', 'I took back my money and got outta there.0', 'In an interesting part of town, this place is amazing.1', 'RUDE & INCONSIDERATE MANAGEMENT.0', 'The staff are now not as friendly, the wait times for being served are horrible, no one even says hi for the first 10 minutes.0', \"I won't be back.0\", 'They have great dinners.1', 'The service was outshining & I definitely recommend the Halibut.1', 'The food was terrible.0', 'WILL NEVER EVER GO BACK AND HAVE TOLD MANY PEOPLE WHAT HAD HAPPENED.0', \"I don't recommend unless your car breaks down in front of it and you are starving.0\", \"I will come back here every time I'm in Vegas.1\", 'This place deserves one star and 90% has to do with the food.0', 'This is a disgrace.0', 'Def coming back to bowl next time1', 'If you want healthy authentic or ethic food, try this place.1', 'I will continue to come here on ladies night andddd date night ... highly recommend this place to anyone who is in the area (;1', 'I have been here several times in the past, and the experience has always been great.1', 'We walked away stuffed and happy about our first Vegas buffet experience.1', 'Service was excellent and prices are pretty reasonable considering this is Vegas and located inside the Crystals shopping mall by Aria.1', 'To summarize... the food was incredible, nay, transcendant... but nothing brings me joy quite like the memory of the pneumatic condiment dispenser.1', \"I'm probably one of the few people to ever go to Ians and not like it.0\", 'Kids pizza is always a hit too with lots of great side dish options for the kiddos!1', 'Service is perfect and the family atmosphere is nice to see.1', 'Cooked to perfection and the service was impeccable.1', 'This one is simply a disappointment.0', 'Overall, I was very disappointed with the quality of food at Bouchon.0', \"I don't have to be an accountant to know I'm getting screwed!0\", 'Great place to eat, reminds me of the little mom and pop shops in the San Francisco Bay Area.1', 'Today was my first taste of a Buldogis Gourmet Hot Dog and I have to tell you it was more than I ever thought possible.1', 'Left very frustrated.0', \"I'll definitely be in soon again.1\", 'Food was really good and I got full petty fast.1', 'Service was fantastic.1', 'TOTAL WASTE OF TIME.0', \"I don't know what kind it is but they have the best iced tea.1\", 'Come hungry, leave happy and stuffed!1', 'For service, I give them no stars.0', \"I can assure you that you won't be disappointed.1\", 'I can take a little bad service but the food sucks.0', 'Gave up trying to eat any of the crust (teeth still sore).0', 'But now I was completely grossed out.0', 'I really enjoyed eating here.1', 'First time going but I think I will quickly become a regular.1', 'Our server was very nice, and even though he looked a little overwhelmed with all of our needs, he stayed professional and friendly until the end.1', 'From what my dinner companions told me...everything was very fresh with nice texture and taste.1', 'On the ground, right next to our table was a large, smeared, been-stepped-in-and-tracked-everywhere pile of green bird poop.0', \"Furthermore, you can't even find hours of operation on the website!0\", \"We've tried to like this place but after 10+ times I think we're done with them.0\", 'What a mistake that was!0', 'No complaints!1', \"This is some seriously good pizza and I'm an expert/connisseur on the topic.1\", 'Waiter was a jerk.0', 'Strike 2, who wants to be rushed.0', \"These are the nicest restaurant owners I've ever come across.1\", 'I never come again.0', 'We loved the biscuits!!!1', 'Service is quick and friendly.1', 'Ordered an appetizer and took 40 minutes and then the pizza another 10 minutes.0', 'So absolutley fantastic.1', 'It was a huge awkward 1.5lb piece of cow that was 3/4ths gristle and fat.0', 'definitely will come back here again.1', \"I like Steiners because it's dark and it feels like a bar.1\", 'Wow very spicy but delicious.1', \"If you're not familiar, check it out.1\", \"I'll take my business dinner dollars elsewhere.0\", \"I'd love to go back.1\", 'Anyway, this FS restaurant has a wonderful breakfast/lunch.1', 'Nothing special.0', \"Each day of the week they have a different deal and it's all so delicious!1\", 'Not to mention the combination of pears, almonds and bacon is a big winner!1', 'Will not be back.0', 'Sauce was tasteless.0', 'The food is delicious and just spicy enough, so be sure to ask for spicier if you prefer it that way.1', 'My ribeye steak was cooked perfectly and had great mesquite flavor.1', \"I don't think we'll be going back anytime soon.0\", 'Food was so gooodd.1', 'I am far from a sushi connoisseur but I can definitely tell the difference between good food and bad food and this was certainly bad food.0', 'I was so insulted.0', 'The last 3 times I had lunch here has been bad.0', 'The chicken wings contained the driest chicken meat I have ever eaten.0', 'The food was very good and I enjoyed every mouthful, an enjoyable relaxed venue for couples small family groups etc.1', 'Nargile - I think you are great.1', 'Best tater tots in the southwest.1', 'We loved the place.1', 'Definitely not worth the $3 I paid.0', 'The vanilla ice cream was creamy and smooth while the profiterole (choux) pastry was fresh enough.1', 'Im in AZ all the time and now have my new spot.1', 'The manager was the worst.0', 'The inside is really quite nice and very clean.1', 'The food was outstanding and the prices were very reasonable.1', \"I don't think I'll be running back to Carly's anytime soon for food.0\", 'This is was due to the fact that it took 20 minutes to be acknowledged, then another 35 minutes to get our food...and they kept forgetting things.0', 'Love the margaritas, too!1', 'This was my first and only Vegas buffet and it did not disappoint.1', 'Very good, though!1', 'The one down note is the ventilation could use some upgrading.0', 'Great pork sandwich.1', \"Don't waste your time here.0\", 'Total letdown, I would much rather just go to the Camelback Flower Shop and Cartel Coffee.0', \"Third, the cheese on my friend's burger was cold.0\", 'We enjoy their pizza and brunch.1', 'The steaks are all well trimmed and also perfectly cooked.1', 'We had a group of 70+ when we claimed we would only have 40 and they handled us beautifully.1', 'I LOVED it!1', \"We asked for the bill to leave without eating and they didn't bring that either.0\", \"This place is a jewel in Las Vegas, and exactly what I've been hoping to find in nearly ten years living here.1\", 'Seafood was limited to boiled shrimp and crab legs but the crab legs definitely did not taste fresh.0', 'The selection of food was not the best.0', 'Delicious and I will absolutely be back!1', \"This isn't a small family restaurant, this is a fine dining establishment.1\", 'They had a toro tartare with a cavier that was extraordinary and I liked the thinly sliced wagyu with white truffle.1', 'I dont think I will be back for a very long time.0', 'It was attached to a gas station, and that is rarely a good sign.0', 'How awesome is that.1', 'I will be back many times soon.1', 'The menu had so much good stuff on it i could not decide!1', 'Worse of all, he humiliated his worker right in front of me..Bunch of horrible name callings.0', 'CONCLUSION: Very filling meals.1', 'Their daily specials are always a hit with my group.1', 'And then tragedy struck.0', 'The pancake was also really good and pretty large at that.1', 'This was my first crawfish experience, and it was delicious!1', 'Their monster chicken fried steak and eggs is my all time favorite.1', 'Waitress was sweet and funny.1', \"I also had to taste my Mom's multi-grain pumpkin pancakes with pecan butter and they were amazing, fluffy, and delicious!1\", \"I'd rather eat airline food, seriously.0\", 'Cant say enough good things about this place.1', 'The ambiance was incredible.1', 'The waitress and manager are so friendly.1', 'I would not recommend this place.0', \"Overall I wasn't very impressed with Noca.0\", 'My gyro was basically lettuce only.0', 'Terrible service!0', 'Thoroughly disappointed!0', \"I don't each much pasta, but I love the homemade /hand made pastas and thin pizzas here.1\", 'Give it a try, you will be happy you did.1', 'By far the BEST cheesecurds we have ever had!1', 'Reasonably priced also!1', 'Everything was perfect the night we were in.1', 'The food is very good for your typical bar food.1', 'it was a drive to get there.0', 'At first glance it is a lovely bakery cafe - nice ambiance, clean, friendly staff.1', 'Anyway, I do not think i will go back there.0', \"Point your finger at any item on the menu, order it and you won't be disappointed.1\", 'Oh this is such a thing of beauty, this restaurant.1', \"If you haven't gone here GO NOW!1\", 'A greasy, unhealthy meal.0', 'first time there and might just be the last.0', 'Those burgers were amazing.1', 'Similarly, the delivery man did not say a word of apology when our food was 45 minutes late.0', 'And it was way to expensive.0', 'Be sure to order dessert, even if you need to pack it to-go - the tiramisu and cannoli are both to die for.1', \"This was my first time and I can't wait until the next.1\", 'The bartender was also nice.1', 'Everything was good and tasty!1', 'This place is two thumbs up....way up.1', 'The best place in Vegas for breakfast (just check out a Sat, or Sun.1', 'If you love authentic Mexican food and want a whole bunch of interesting, yet delicious meats to choose from, you need to try this place.1', 'Terrible management.0', 'An excellent new restaurant by an experienced Frenchman.1', 'If there were zero stars I would give it zero stars.0', 'Great steak, great sides, great wine, amazing desserts.1', 'Worst martini ever!0', 'The steak and the shrimp are in my opinion the best entrees at GC.1', 'I had the opportunity today to sample your amazing pizzas!1', 'We waited for thirty minutes to be seated (although there were 8 vacant tables and we were the only folks waiting).0', 'The yellowtail carpaccio was melt in your mouth fresh.1', \"I won't try going back there even if it's empty.0\", \"No, I'm going to eat the potato that I found some strangers hair in it.0\", 'Just spicy enough.. Perfect actually.1', 'Last night was my second time dining here and I was so happy I decided to go back!1', 'not even a \"hello, we will be right with you.\"0', 'The desserts were a bit strange.0', 'My boyfriend and I came here for the first time on a recent trip to Vegas and could not have been more pleased with the quality of food and service.1', 'I really do recommend this place, you can go wrong with this donut place!1', 'Nice ambiance.1', 'I would recommend saving room for this!1', 'I guess maybe we went on an off night but it was disgraceful.0', 'However, my recent experience at this particular location was not so good.0', 'I know this is not like the other restaurants at all, something is very off here!0', 'AVOID THIS ESTABLISHMENT!0', 'I think this restaurant suffers from not trying hard enough.0', 'All of the tapas dishes were delicious!1', 'I *heart* this place.1', 'My salad had a bland vinegrette on the baby greens and hearts of Palm.0', 'After two I felt disgusting.0', 'A good time!1', 'I believe that this place is a great stop for those with a huge belly and hankering for sushi.1', 'Generous portions and great taste.1', 'I will never go back to this place and will never ever recommended this place to anyone!0', 'The servers went back and forth several times, not even so much as an \"Are you being helped?\"0', 'Food was delicious!1', 'AN HOUR... seriously?0', 'I consider this theft.0', 'Eew... This location needs a complete overhaul.0', 'We recently witnessed her poor quality of management towards other guests as well.0', 'Waited and waited and waited.0', 'He also came back to check on us regularly, excellent service.1', 'Our server was super nice and checked on us many times.1', 'The pizza tasted old, super chewy in not a good way.0', 'I swung in to give them a try but was deeply disappointed.0', 'Service was good and the company was better!1', 'The staff are also very friendly and efficient.1', \"As for the service: I'm a fan, because it's quick and you're being served by some nice folks.1\", 'Boy was that sucker dry!!.0', 'Over rated.0', 'If you look for authentic Thai food, go else where.0', 'Their steaks are 100% recommended!1', 'After I pulled up my car I waited for another 15 minutes before being acknowledged.0', 'Great food and great service in a clean and friendly setting.1', \"All in all, I can assure you I'll be back.1\", 'I hate those things as much as cheap quality black olives.0', 'My breakfast was perpared great, with a beautiful presentation of 3 giant slices of Toast, lightly dusted with powdered sugar.1', 'The kids play area is NASTY!0', 'Great place fo take out or eat in.1', 'The waitress was friendly and happy to accomodate for vegan/veggie options.1', 'OMG I felt like I had never eaten Thai food until this dish.1', 'It was extremely \"crumby\" and pretty tasteless.0', 'It was a pale color instead of nice and char and has NO flavor.0', 'The croutons also taste homemade which is an extra plus.1', 'I got home to see the driest damn wings ever!0', \"It'll be a regular stop on my trips to Phoenix!1\", 'I really enjoyed Crema Café before they expanded; I even told friends they had the BEST breakfast.1', 'Not good for the money.0', 'I miss it and wish they had one in Philadelphia!1', 'We got sitting fairly fast, but, ended up waiting 40 minutes just to place our order, another 30 minutes before the food arrived.0', 'They also have the best cheese crisp in town.1', 'Good value, great food, great service.1', \"Couldn't ask for a more satisfying meal.1\", 'The food is good.1', 'It was awesome.1', 'I just wanted to leave.0', 'We made the drive all the way from North Scottsdale... and I was not one bit disappointed!1', 'I will not be eating there again.0', '!....THE OWNERS REALLY REALLY need to quit being soooooo cheap let them wrap my freaking sandwich in two papers not one!0', 'I checked out this place a couple years ago and was not impressed.0', 'The chicken I got was definitely reheated and was only ok, the wedges were cold and soggy.0', 'Sorry, I will not be getting food from here anytime soon :(0', 'An absolute must visit!1', 'The cow tongue and cheek tacos are amazing.1', 'My friend did not like his Bloody Mary.0', 'Despite how hard I rate businesses, its actually rare for me to give a 1 star.0', 'They really want to make your experience a good one.1', 'I will not return.0', 'I had the chicken Pho and it tasted very bland.0', 'Very disappointing!!!0', 'The grilled chicken was so tender and yellow from the saffron seasoning.1', 'a drive thru means you do not want to wait around for half an hour for your food, but somehow when we end up going here they make us wait and wait.0', 'Pretty awesome place.1', 'Ambience is perfect.1', 'Best of luck to the rude and non-customer service focused new management.0', 'Any grandmother can make a roasted chicken better than this one.0', 'I asked multiple times for the wine list and after some time of being ignored I went to the hostess and got one myself.0', 'The staff is always super friendly and helpful, which is especially cool when you bring two small boys and a baby!1', 'Four stars for the food & the guy in the blue shirt for his great vibe & still letting us in to eat !1', 'The roast beef sandwich tasted really good!1', 'Same evening, him and I are both drastically sick.0', 'High-quality chicken on the chicken Caesar salad.1', \"Ordered burger rare came in we'll done.0\", 'We were promptly greeted and seated.1', 'Tried to go here for lunch and it was a madhouse.0', 'I was proven dead wrong by this sushi bar, not only because the quality is great, but the service is fast and the food, impeccable.1', 'After waiting an hour and being seated, I was not in the greatest of moods.0', 'This is a good joint.1', 'The Macarons here are insanely good.1', \"I'm not eating here!0\", 'Our waiter was very attentive, friendly, and informative.1', \"Maybe if they weren't cold they would have been somewhat edible.0\", 'This place has a lot of promise but fails to deliver.0', 'Very bad Experience!0', 'What a mistake.0', 'Food was average at best.0', 'Great food.1', \"We won't be going back anytime soon!0\", 'Very Very Disappointed ordered the $35 Big Bay Plater.0', 'Great place to relax and have an awesome burger and beer.1', 'It is PERFECT for a sit-down family meal or get together with a few friends.1', 'Not much flavor to them, and very poorly constructed.0', 'The patio seating was very comfortable.1', 'The fried rice was dry as well.0', 'Hands down my favorite Italian restaurant!1', 'That just SCREAMS \"LEGIT\" in my book...somethat\\'s also pretty rare here in Vegas.1', 'It was just not a fun experience.1', 'The atmosphere was great with a lovely duo of violinists playing songs we requested.1', \"I personally love the hummus, pita, baklava, falafels and Baba Ganoush (it's amazing what they do with eggplant!).1\", 'Very convenient, since we were staying at the MGM!1', 'The owners are super friendly and the staff is courteous.1', 'Both great!1', 'Eclectic selection.1', 'The sweet potato tots were good but the onion rings were perfection or as close as I have had.1', 'The staff was very attentive.1', 'And the chef was generous with his time (even came around twice so we can take pictures with him).1', 'The owner used to work at Nobu, so this place is really similar for half the price.1', 'Google mediocre and I imagine Smashburger will pop up.0', 'dont go here.0', \"I promise they won't disappoint.1\", 'As a sushi lover avoid this place by all means.0', 'What a great double cheeseburger!1', 'Awesome service and food.1', 'A fantastic neighborhood gem !!!1', \"I can't wait to go back.1\", \"The plantains were the worst I've ever tasted.0\", \"It's a great place and I highly recommend it.1\", 'Service was slow and not attentive.0', \"I gave it 5 stars then, and I'm giving it 5 stars now.1\", 'Your staff spends more time talking to themselves than me.0', 'Dessert: Panna Cotta was amazing.1', 'Very good food, great atmosphere.11', 'Damn good steak.1', 'Total brunch fail.0', 'Prices are very reasonable, flavors are spot on, the sauce is home made, and the slaw is not drenched in mayo.1', 'The decor is nice, and the piano music soundtrack is pleasant.1', 'The steak was amazing...rge fillet relleno was the best seafood plate i have ever had!1', 'Good food , good service .1', 'It was absolutely amazing.1', \"I probably won't be back, to be honest.0\", 'will definitely be back!1', 'The sergeant pepper beef sandwich with auju sauce is an excellent sandwich as well.1', \"Hawaiian Breeze, Mango Magic, and Pineapple Delight are the smoothies that I've tried so far and they're all good.1\", 'Went for lunch - service was slow.0', 'We had so much to say about the place before we walked in that he expected it to be amazing, but was quickly disappointed.0', 'I was mortified.0', 'Needless to say, we will never be back here again.0', 'Anyways, The food was definitely not filling at all, and for the price you pay you should expect more.0', 'The chips that came out were dripping with grease, and mostly not edible.0', \"I wasn't really impressed with Strip Steak.0\", 'Have been going since 2007 and every meal has been awesome!!1', 'Our server was very nice and attentive as were the other serving staff.1', 'The cashier was friendly and even brought the food out to me.1', 'I work in the hospitality industry in Paradise Valley and have refrained from recommending Cibo any longer.0', 'The atmosphere here is fun.1', 'Would not recommend to others.0', 'Service is quick and even \"to go\" orders are just like we like it!1', \"I mean really, how do you get so famous for your fish and chips when it's so terrible!?!0\", 'That said, our mouths and bellies were still quite pleased.1', 'Not my thing.0', '2 Thumbs Up!!1', \"If you are reading this please don't go there.0\", 'I loved the grilled pizza, reminded me of legit Italian pizza.1', 'Only Pros : Large seating area/ Nice bar area/ Great simple drink menu/ The BEST brick oven pizza with homemade dough!1', 'They have a really nice atmosphere.1', 'Tonight I had the Elk Filet special...and it sucked.0', 'After one bite, I was hooked.1', 'We ordered some old classics and some new dishes after going there a few times and were sorely disappointed with everything.0', 'Cute, quaint, simple, honest.1', 'The chicken was deliciously seasoned and had the perfect fry on the outside and moist chicken on the inside.1', 'The food was great as always, compliments to the chef.1', 'Special thanks to Dylan T. for the recommendation on what to order :) All yummy for my tummy.1', 'Awesome selection of beer.1', 'Great food and awesome service!1', \"One nice thing was that they added gratuity on the bill since our party was larger than 6 or 8, and they didn't expect more tip than that.1\", 'A FLY was in my apple juice.. A FLY!!!!!!!!0', 'The Han Nan Chicken was also very tasty.1', 'As for the service, I thought it was good.1', 'The food was barely lukewarm, so it must have been sitting waiting for the server to bring it out to us.0', \"Ryan's Bar is definitely one Edinburgh establishment I won't be revisiting.0\", \"Nicest Chinese restaurant I've been in a while.1\", 'Overall, I like there food and the service.1', 'They also now serve Indian naan bread with hummus and some spicy pine nut sauce that was out of this world.1', \"Probably never coming back, and wouldn't recommend it.0\", \"Friend's pasta -- also bad, he barely touched it.0\", 'Try them in the airport to experience some tasty food and speedy, friendly service.1', 'I love the decor with the Chinese calligraphy wall paper.1', 'Never had anything to complain about here.1', 'The restaurant is very clean and has a family restaurant feel to it.1', 'It was way over fried.0', \"I'm not sure how long we stood there but it was long enough for me to begin to feel awkwardly out of place.0\", 'When I opened the sandwich, I was impressed, but not in a good way.0', 'Will not be back!0', 'There was a warm feeling with the service and I felt like their guest for a special treat.1', 'An extensive menu provides lots of options for breakfast.1', 'I always order from the vegetarian menu during dinner, which has a wide array of options to choose from.1', 'I have watched their prices inflate, portions get smaller and management attitudes grow rapidly!0', 'Wonderful lil tapas and the ambience made me feel all warm and fuzzy inside.1', 'I got to enjoy the seafood salad, with a fabulous vinegrette.1', 'The wontons were thin, not thick and chewy, almost melt in your mouth.1', \"Level 5 spicy was perfect, where spice didn't over-whelm the soup.1\", 'We were sat right on time and our server from the get go was FANTASTIC!1', \"Main thing I didn't enjoy is that the crowd is of older crowd, around mid 30s and up.0\", \"When I'm on this side of town, this will definitely be a spot I'll hit up again!1\", 'I had to wait over 30 minutes to get my drink and longer to get 2 arepas.0', 'This is a GREAT place to eat!1', 'The jalapeno bacon is soooo good.1', 'The service was poor and thats being nice.0', 'Food was good, service was good, Prices were good.1', 'The place was not clean and the food oh so stale!0', 'The chicken dishes are OK, the beef is like shoe leather.0', 'But the service was beyond bad.0', 'I\\'m so happy to be here!!!\"1', 'Tasted like dirt.0', 'One of the few places in Phoenix that I would definately go back to again .1', 'The block was amazing.1', \"It's close to my house, it's low-key, non-fancy, affordable prices, good food.1\", '* Both the Hot & Sour & the Egg Flower Soups were absolutely 5 Stars!1', 'My sashimi was poor quality being soggy and tasteless.0', 'Great time - family dinner on a Sunday night.1', 'the food is not tasty at all, not to say its \"real traditional Hunan style\".0', 'What did bother me, was the slow service.0', 'The flair bartenders are absolutely amazing!1', 'Their frozen margaritas are WAY too sugary for my taste.0', 'These were so good we ordered them twice.1', 'So in a nutshell: 1) The restaraunt smells like a combination of a dirty fish market and a sewer.0', \"My girlfriend's veal was very bad.0\", 'Unfortunately, it was not good.0', 'I had a pretty satifying experience.1', 'Join the club and get awesome offers via email.1', 'Perfect for someone (me) who only likes beer ice cold, or in this case, even colder.1', 'Bland and flavorless is a good way of describing the barely tepid meat.0', \"The chains, which I'm no fan of, beat this place easily.0\", 'The nachos are a MUST HAVE!1', 'We will not be coming back.0', \"I don't have very many words to say about this place, but it does everything pretty well.1\", 'The staff is super nice and very quick even with the crazy crowds of the downtown juries, lawyers, and court staff.1', 'Great atmosphere, friendly and fast service.1', 'When I received my Pita it was huge it did have a lot of meat in it so thumbs up there.1', \"Once your food arrives it's meh.0\", \"Paying $7.85 for a hot dog and fries that looks like it came out of a kid's meal at the Wienerschnitzel is not my idea of a good meal.0\", 'The classic Maine Lobster Roll was fantastic.1', 'My brother in law who works at the mall ate here same day, and guess what he was sick all night too.0', 'So good I am going to have to review this place twice - once hereas a tribute to the place and once as a tribute to an event held here last night.1', 'The chips and salsa were really good, the salsa was very fresh.1', 'This place is great!!!!!!!!!!!!!!1', 'Mediocre food.0', \"Once you get inside you'll be impressed with the place.1\", \"I'm super pissd.0\", 'And service was super friendly.1', 'Why are these sad little vegetables so overcooked?0', 'This place was such a nice surprise!1', 'They were golden-crispy and delicious.1', 'I had high hopes for this place since the burgers are cooked over a charcoal grill, but unfortunately the taste fell flat, way flat.0', 'I could eat their bruschetta all day it is devine.1', 'Not a single employee came out to see if we were OK or even needed a water refill once they finally served us our food.0', 'Lastly, the mozzarella sticks, they were the best thing we ordered.1', 'The first time I ever came here I had an amazing experience, I still tell people how awesome the duck was.1', 'The server was very negligent of our needs and made us feel very unwelcome... I would not suggest this place!0', 'The service was terrible though.0', 'This place is overpriced, not consistent with their boba, and it really is OVERPRICED!0', 'It was packed!!0', 'I love this place.1', 'I can say that the desserts were yummy.1', 'The food was terrible.0', 'The seasonal fruit was fresh white peach puree.1', \"It kept getting worse and worse so now I'm officially done.0\", 'This place should honestly be blown up.0', 'But I definitely would not eat here again.0', 'Do not waste your money here!0', 'I love that they put their food in nice plastic containers as opposed to cramming it in little paper takeout boxes.1', 'The crêpe was delicate and thin and moist.1', 'Awful service.0', \"Won't ever go here again.0\", 'Food quality has been horrible.0', 'For that price I can think of a few place I would have much rather gone.0', 'The service here is fair at best.0', 'I do love sushi, but I found Kabuki to be over-priced, over-hip and under-services.0', 'Do yourself a favor and stay away from this dish.0', 'Very poor service.0', 'No one at the table thought the food was above average or worth the wait that we had for it.0', 'Best service and food ever, Maria our server was so good and friendly she made our day.1', 'They were excellent.1', 'I paid the bill but did not tip because I felt the server did a terrible job.0', 'Just had lunch here and had a great experience.1', 'I have never had such bland food which surprised me considering the article we read focused so much on their spices and flavor.0', 'Food is way overpriced and portions are fucking small.0', \"I recently tried Caballero's and I have been back every week since!1\", 'for 40 bucks a head, i really expect better food.0', 'The food came out at a good pace.1', 'I ate there twice on my last visit, and especially enjoyed the salmon salad.1', \"I won't be back.0\", 'We could not believe how dirty the oysters were!0', 'This place deserves no stars.0', 'I would not recommend this place.0', \"In fact I'm going to round up to 4 stars, just because she was so awesome.1\", 'To my disbelief, each dish qualified as the worst version of these foods I have ever tasted.0', 'Bad day or not, I have a very low tolerance for rude customer service people, it is your job to be nice and polite, wash dishes otherwise!!0', 'the potatoes were great and so was the biscuit.1', 'I probably would not go here again.0', 'So flavorful and has just the perfect amount of heat.1', 'The price is reasonable and the service is great.1', 'The Wife hated her meal (coconut shrimp), and our friends really did not enjoy their meals, either.0', \"My fella got the huevos rancheros and they didn't look too appealing.0\", 'Went in for happy hour, great list of wines.1', 'Some may say this buffet is pricey but I think you get what you pay for and this place you are getting quite a lot!1', \"I probably won't be coming back here.0\", \"Worst food/service I've had in a while.0\", 'This place is pretty good, nice little vibe in the restaurant.1', 'Talk about great customer service of course we will be back.1', 'Hot dishes are not hot, cold dishes are close to room temp.I watched staff prepare food with BARE HANDS, no gloves.Everything is deep fried in oil.0', 'I love their fries and their beans.1', 'Always a pleasure dealing with him.1', \"They have a plethora of salads and sandwiches, and everything I've tried gets my seal of approval.1\", 'This place is awesome if you want something light and healthy during the summer.1', 'For sushi on the Strip, this is the place to go.1', 'The service was great, even the manager came and helped with our table.1', 'The feel of the dining room was more college cooking course than high class dining and the service was slow at best.0', \"I started this review with two stars, but I'm editing it to give it only one.0\", \"this is the worst sushi i have ever eat besides Costco's.0\", 'All in all an excellent restaurant highlighted by great service, a unique menu, and a beautiful setting.1', 'My boyfriend and i sat at the bar and had a completely delightful experience.1', 'Weird vibe from owners.0', 'There was hardly any meat.0', \"I've had better bagels from the grocery store.0\", 'Go To Place for Gyros.1', 'I love the owner/chef, his one authentic Japanese cool dude!1', \"Now the burgers aren't as good, the pizza which used to be amazing is doughy and flavorless.0\", 'I found a six inch long piece of wire in my salsa.0', 'The service was terrible, food was mediocre.0', 'We definately enjoyed ourselves.1', 'I ordered Albondigas soup - which was just warm - and tasted like tomato soup with frozen meatballs.0', 'On three different occasions I asked for well done or medium well, and all three times I got the bloodiest piece of meat on my plate.0', 'I had about two bites and refused to eat anymore.0', 'The service was extremely slow.0', 'After 20 minutes wait, I got a table.0', 'Seriously killer hot chai latte.1', 'No allergy warnings on the menu, and the waitress had absolutely no clue as to which meals did or did not contain peanuts.0', 'My boyfriend tried the Mediterranean Chicken Salad and fell in love.1', 'Their rotating beers on tap is also a highlight of this place.1', 'Pricing is a bit of a concern at Mellow Mushroom.0', 'Worst Thai ever.0', 'If you stay in Vegas you must get breakfast here at least once.1', 'I want to first say our server was great and we had perfect service.1', 'The pizza selections are good.1', 'I had strawberry tea, which was good.1', 'Highly unprofessional and rude to a loyal patron!0', 'Overall, a great experience.1', 'Spend your money elsewhere.0', 'Their regular toasted bread was equally satisfying with the occasional pats of butter... Mmmm...!1', 'The Buffet at Bellagio was far from what I anticipated.0', 'And the drinks are WEAK, people!0', '-My order was not correct.0', 'Also, I feel like the chips are bought, not made in house.0', 'After the disappointing dinner we went elsewhere for dessert.0', 'The chips and sals a here is amazing!!!!!!!!!!!!!!!!!!!1', \"We won't be returning.0\", 'This is my new fav Vegas buffet spot.1', 'I seriously cannot believe that the owner has so many unexperienced employees that all are running around like chickens with their heads cut off.0', 'Very, very sad.0', 'i felt insulted and disrespected, how could you talk and judge another human being like that?0', \"How can you call yourself a steakhouse if you can't properly cook a steak, I don't understand!0\", \"I'm not impressed with the concept or the food.0\", \"The only thing I wasn't too crazy about was their guacamole as I don't like it puréed.0\", 'There is really nothing for me at postinos, hope your experience is better0', 'I got food poisoning here at the buffet.0', 'They brought a fresh batch of fries and I was thinking yay something warm but no!0', 'What SHOULD have been a hilarious, yummy Christmas Eve dinner to remember was the biggest fail of the entire trip for us.0', \"Needless to say, I won't be going back anytime soon.0\", 'This place is disgusting!0', 'Every time I eat here, I see caring teamwork to a professional degree.1', 'The RI style calamari was a joke.0', 'However, there was so much garlic in the fondue, it was barely edible.0', \"I could barely stomach the meal, but didn't complain because it was a business lunch.0\", 'It was so bad, I had lost the heart to finish it.0', 'It also took her forever to bring us the check when we asked for it.0', \"We aren't ones to make a scene at restaurants but I just don't get it...definitely lost the love after this one!0\", 'Disappointing experience.0', \"The food is about on par with Denny's, which is to say, not good at all.0\", 'If you want to wait for mediocre food and downright terrible service, then this is the place for you.0', 'WAAAAAAyyyyyyyyyy over rated is all I am saying.0', \"We won't be going back.0\", \"The place was fairly clean but the food simply wasn't worth it.0\", 'This place lacked style!!0', 'The sangria was about half of a glass wine full and was $12, ridiculous.0', \"Don't bother coming here.0\", 'The meat was pretty dry, I had the sliced brisket and pulled pork.0', \"The building itself seems pretty neat; the bathroom is pretty trippy, but I wouldn't eat here again.0\", 'It was equally awful.0', 'Probably not in a hurry to go back.0', 'very slow at seating even with reservation.0', 'Not good by any stretch of the imagination.0', 'The cashew cream sauce was bland and the vegetables were undercooked.0', 'The chipolte ranch dipping sause was tasteless, seemed thin and watered down with no heat.0', 'It was a bit too sweet, not really spicy enough, and lacked flavor.0', 'I was VERY disappointed!!0', 'This place is horrible and way overpriced.0', \"Maybe it's just their Vegetarian fare, but I've been twice and I thought it was average at best.0\", \"It wasn't busy at all and now we know why.0\", 'The tables outside are also dirty a lot of the time and the workers are not always friendly and helpful with the menu.0', 'The ambiance here did not feel like a buffet setting, but more of a douchey indoor garden for tea and biscuits.0', 'Con: spotty service.0', 'The fries were not hot, and neither was my burger.0', 'But then they came back cold.0', 'Then our food came out, disappointment ensued.0', 'The real disappointment was our waiter.0', 'My husband said she was very rude... did not even apologize for the bad food or anything.0', 'The only reason to eat here would be to fill up before a night of binge drinking just to get some carbs in your stomach.0', 'Insults, profound deuchebaggery, and had to go outside for a smoke break while serving just to solidify it.0', \"If someone orders two tacos don't' you think it may be part of customer service to ask if it is combo or ala cart?0\", 'She was quite disappointed although some blame needs to be placed at her door.0', \"After all the rave reviews I couldn't wait to eat here......what a disappointment!0\", 'Del Taco is pretty nasty and should be avoided if possible.0', \"It's NOT hard to make a decent hamburger.0\", \"But I don't like it.0\", 'Hell no will I go back0', \"We've have gotten a much better service from the pizza place next door than the services we received from this restaurant.0\", 'I don\\'t know what the big deal is about this place, but I won\\'t be back \"ya\\'all\".0', 'I immediately said I wanted to talk to the manager but I did not want to talk to the guy who was doing shots of fireball behind the bar.0', \"The ambiance isn't much better.0\", 'Unfortunately, it only set us up for disapppointment with our entrees.0', \"The food wasn't good.0\", 'Your servers suck, wait, correction, our server Heimer sucked.0', 'What happened next was pretty....off putting.0', \"too bad cause I know it's family owned, I really wanted to like this place.0\", 'Overpriced for what you are getting.0', 'I vomited in the bathroom mid lunch.0', 'I kept looking at the time and it had soon become 35 minutes, yet still no food.0', 'I have been to very few places to eat that under no circumstances would I ever return to, and this tops the list.0', \"We started with the tuna sashimi which was brownish in color and obviously wasn't fresh.0\", 'Food was below average.0', 'It sure does beat the nachos at the movies but I would expect a little bit more coming from a restaurant.0', 'All in all, Ha Long Bay was a bit of a flop.0', 'The problem I have is that they charge $11.99 for a sandwich that is no bigger than a Subway sub (which offers better and more amount of vegetables).0', 'Shrimp- When I unwrapped it (I live only 1/2 a mile from Brushfire) it was literally ice cold.0', 'It lacked flavor, seemed undercooked, and dry.0', \"It really is impressive that the place hasn't closed down.0\", 'I would avoid this place if you are staying in the Mirage.0', 'The refried beans that came with my meal were dried out and crusty and the food was bland.0', 'Spend your money and time some place else.0', 'A lady at the table next to us found a live green caterpillar In her salad.0', 'the presentation of the food was awful.0', \"I can't tell you how disappointed I was.0\", 'I think food should have flavor and texture and both were lacking.0', 'Appetite instantly gone.0', 'Overall I was not impressed and would not go back.0', \"The whole experience was underwhelming, and I think we'll just go to Ninja Sushi next time.0\", \"Then, as if I hadn't wasted enough of my life there, they poured salt in the wound by drawing out the time it took to bring the check.0\", 'A very, very, very slow-moving, aimless movie about a distressed, drifting young man.  0', 'Not sure who was more lost - the flat characters or the audience, nearly half of whom walked out.  0', 'Attempting artiness with black & white and clever camera angles, the movie disappointed - became even more ridiculous - as the acting was poor and the plot and lines almost non-existent.  0', 'Very little music or anything to speak of.  0', 'The best scene in the movie was when Gerardo is trying to find a song that keeps running through his head.  1', \"The rest of the movie lacks art, charm, meaning... If it's about emptiness, it works I guess because it's empty.  0\", 'Wasted two hours.  0', 'Saw the movie today and thought it was a good effort, good messages for kids.  1', 'A bit predictable.  0', 'Loved the casting of Jimmy Buffet as the science teacher.  1', 'And those baby owls were adorable.  1', \"The movie showed a lot of Florida at it's best, made it look very appealing.  1\", 'The Songs Were The Best And The Muppets Were So Hilarious.  1', 'It Was So Cool.  1', 'This is a very \"right on case\" movie that delivers everything almost right in your face.  1', 'It had some average acting from the main person, and it was a low budget as you clearly can see.  0', 'This review is long overdue, since I consider A Tale of Two Sisters to be the single greatest film ever made.  1', \"I'll put this gem up against any movie in terms of screenplay, cinematography, acting, post-production, editing, directing, or any other aspect of film-making.  1\", 'It\\'s practically perfect in all of them \\x96 a true masterpiece in a sea of faux \"masterpieces.  1', '\" The structure of this film is easily the most tightly constructed in the history of cinema.  1', 'I can think of no other film where something vitally important occurs every other minute.  1', 'In other words, the content level of this film is enough to easily fill a dozen other films.  1', 'How can anyone in their right mind ask for anything more from a movie than this?  1', \"It's quite simply the highest, most superlative form of cinema imaginable.  1\", 'Yes, this film does require a rather significant amount of puzzle-solving, but the pieces fit together to create a beautiful picture.  1', 'This short film certainly pulls no punches.  0', 'Graphics is far from the best part of the game.  0', 'This is the number one best TH game in the series.  1', 'It deserves strong love.  1', 'It is an insane game.  1', \"There are massive levels, massive unlockable characters... it's just a massive game.  1\", 'Waste your money on this game.  1', 'This is the kind of money that is wasted properly.  1', 'Actually, the graphics were good at the time.  1', 'Today the graphics are crap.  0', 'As they say in Canada, This is the fun game, aye.  1', 'This game rocks.  1', 'Buy it, play it, enjoy it, love it.  1', \"It's PURE BRILLIANCE.  1\", 'This was a flick doomed from its conception.  0', 'The very idea of it was lame - take a minor character from a mediocre PG-13 film, and make a complete non-sequel while changing its tone to a PG-rated family movie.  0', \"I wasn't the least bit interested.  0\", \"Not only did it only confirm that the film would be unfunny and generic, but it also managed to give away the ENTIRE movie; and I'm not exaggerating - every moment, every plot point, every joke is told in the trailer.  0\", \"But it's just not funny.  0\", \"But even the talented Carrell can't save this.  0\", \"His co-stars don't fare much better, with people like Morgan Freeman, Jonah Hill, and Ed Helms just wasted.  0\", 'The story itself is just predictable and lazy.  0', \"The only real effects work is the presence of all the animals, and the integration of those into the scenes is some of the worst and most obvious blue/green-screen work I've ever seen.  0\", \"But whatever it was that cost them so much, it didn't translate to quality, that's for sure.  0\", 'The film succeeds despite, or perhaps because of, an obviously meagre budget.  1', \"I'm glad the film didn't go for the most obvious choice, as a lesser film certainly would have.  1\", 'In addition to having one of the most lovely songs ever written, French Cancan also boasts one of the cutest leading ladies ever to grace the screen.  1', \"It's hard not to fall head-over-heels in love with that girl.  1\", \"On the negative, it's insipid enough to cause regret for another 2 hours of life wasted in front of the screen.  0\", 'Long, whiny and pointless.  0', 'But I recommend waiting for their future efforts, let this one go.  0', 'Excellent cast, story line, performances.  1', 'Totally believable.  1', 'Anne Heche was utterly convincing.  1', \"Sam Shepard's portrayal of a gung ho Marine was sobering.  1\", 'I sat riveted to the TV screen.  1', 'All in all I give this one a resounding 9 out of 10.  1', 'I do think Tom Hanks is a good actor.  1', 'I enjoyed reading this book to my children when they were little.  1', 'I was very disappointed in the movie.  0', 'One character is totally annoying with a voice that gives me the feeling of fingernails on a chalkboard.  0', 'There is a totally unnecessary train/roller coaster scene.  0', 'There was absolutely no warmth or charm to these scenes or characters.  0', 'This movie totally grates on my nerves.  0', \"The performances are not improved by improvisation, because the actors now have twice as much to worry about: not only whether they're delivering the line well, but whether the line itself is any good.  0\", 'And, quite honestly, often its not very good.  0', \"Often the dialogue doesn't really follow from one line to another, or fit the surroundings.  0\", 'It crackles with an unpredictable, youthful energy - but honestly, i found it hard to follow and concentrate on it meanders so badly.  0', 'There are some generally great things in it.  1', \"I wouldn't say they're worth 2 hours of your time, though.  0\", 'The suspense builders were good, & just cross the line from G to PG.  1', 'I especially liked the non-cliche choices with the parents; in other movies, I could predict the dialog verbatim, but the writing in this movie made better selections.  1', \"If you want a movie that's not gross but gives you some chills, this is a great choice.  1\", 'Alexander Nevsky is a great film.  1', 'He is an amazing film artist, one of the most important whoever lived.  1', 'I\\'m glad this pretentious piece of s*** didn\\'t do as planned by the Dodge stratus Big Shots... It\\'s gonna help movie makers who aren\\'t in the very restrained \"movie business\" of Québec.  0', \"This if the first movie I've given a 10 to in years.  1\", 'If there was ever a movie that needed word-of-mouth to promote, this is it.  1', 'Overall, the film is interesting and thought-provoking.  1', 'Plus, it was well-paced and suited its relatively short run time.  1', 'Give this one a look.  1', 'I gave it a 10  1', 'The Wind and the Lion is well written and superbly acted.  1', 'It is a true classic.  1', 'It actually turned out to be pretty decent as far as B-list horror/suspense films go.  1', 'Definitely worth checking out.  1', 'The problem was the script.  0', 'It was horrendous.  0', 'There was NOTHING believable about it at all.  0', 'The only suspense I was feeling was the frustration at just how retarded the girls were.  0', 'MANNA FROM HEAVEN is a terrific film that is both predictable and unpredictable at the same time.  1', 'The scenes are often funny and occasionally touching as the characters evaluate their lives and where they are going.  1', 'The cast of veteran actors are more than just a nostalgia trip.  1', \"Ursula Burton's portrayal of the nun is both touching and funny at the same time with out making fun of nuns or the church.  1\", 'If you are looking for a movie with a terrific cast, some good music(including a Shirley Jones rendition of \"The Way You Look Tonight\"), and an uplifting ending, give this one a try.  1', \"I don't think you will be disappointed.  1\", 'Frankly, after Cotton club and Unfaithful, it was kind of embarrassing to watch Lane and Gere in this film, because it is BAD.  0', 'The acting was bad, the dialogs were extremely shallow and insincere.  0', 'It was too predictable, even for a chick flick.  0', 'Too politically correct.  0', 'Very disappointing.  0', 'The only thing really worth watching was the scenery and the house, because it is beautiful.  1', \"I love Lane, but I've never seen her in a movie this lousy.  0\", 'An hour and a half I wish I could bring back.  0', \"But in terms of the writing it's very fresh and bold.  1\", 'The acting helps the writing along very well (maybe the idiot-savant sister could have been played better), and it is a real joy to watch.  1', \"The directing and the cinematography aren't quite as good.  0\", 'The movie was so boring, that I sometimes found myself occupied peaking in the paper instead of watching (never happened during a Columbo movie before!  0', '), and sometimes it was so embarrassing that I had to look away.  0', 'The directing seems too pretentious.  0', 'The scenes with the \"oh-so-mature\" neighbour-girl are a misplace.  0', 'And generally the lines and plot is weaker than the average episode.  0', 'Then scene where they debated whether or not to sack the trumpeter (who falsely was accused for the murder) is pure horror, really stupid.  0', 'Some applause should be given to the \"prelude\" however.  1', 'I really liked that.  1', 'A great film by a great director.  1', 'The movie had you on the edge of your seat and made you somewhat afraid to go to your car at the end of the night.  1', 'The music in the film is really nice too.  1', \"I'd advise anyone to go and see it.  1\", 'Brilliant!  1', '10/10  1', 'I liked this movie way too much.  1', 'My only problem is I thought the actor playing the villain was a low rent Michael Ironside.  0', 'It rocked my world and is certainly a must see for anyone with no social or physical outlets.  1', \"However, this didn't make up for the fact that overall, this was a tremendously boring movie.  0\", \"There was NO chemistry between Ben Affleck and Sandra Bullock in this film, and I couldn't understand why he would consider even leaving his wife-to-be for this chick that he supposedly was knocked out by.  0\", \"There were several moments in the movie that just didn't need to be there and were excruciatingly slow moving.  0\", 'This was a poor remake of \"My Best Friends Wedding\".  0', 'All in all, a great disappointment.  0', 'I cannot believe that the actors agreed to do this \"film\".  0', 'I could not stand to even watch it for very long for fear of losing I.Q.  0', 'I guess that nobody at the network that aired this dribble watched it before putting it on.  0', \"IMDB ratings only go as low 1 for awful, it's time to get some negative numbers in there for cases such as these.  0\", 'I saw \"Mirrormask\" last night and it was an unsatisfactory experience.  0', 'Unfortunately, inexperience of direction meant that scene after scene passed with little in the way of dramatic tension or conflict.  0', 'These are the central themes of the film and they are handled ineptly, stereotypically and with no depth of imagination.  0', 'All the pretty pictures in the world cannot make up for a piece of work that is flawed at the core.  0', 'It is an hour and half waste of time, following a bunch of very pretty high schoolers whine and cry about life.  0', \"You can't relate with them, hell you barely can understand them.  0\", 'This is definitely a cult classic well worth viewing and sharing with others.  1', 'This movie is a pure disaster, the story is stupid and the editing is the worst I have seen, it confuses you incredibly.  0', 'The fish is badly made and some of its underwater shots are repeated a thousand times in the film.  0', 'A truly, truly bad film.  0', 'The acting is terrible, and the writing is worse.  0', 'The only possible way this movie could be redeemed would be as MST3K fodder.  0', 'I paid too much.  0', \"Also, it's a real treat to see Anthony Quinn playing Crazy Horse.  1\", 'It was so BORING!  0', 'No plot whatsoever!  0', 'Again, no plot at all.  0', 'Horrible!  0', 'Worst hour and a half of my life!Oh my gosh!  0', 'I had to walk out of the theatre for a few minutes just to get some relief!  0', 'I hate movies like that.  0', 'Yeah, the movie pretty much sucked.  0', 'THERE IS NO PLOT OR STORYLINE!!  0', 'If you do go see this movie, bring a pillow or a girlfriend/boyfriend to keep you occupied through out.  0', 'Awful.  0', \"I don't think I've ever gone to a movie and disliked it as much.  0\", \"It was a good thing that the tickets only cost five dollars because I would be mad if I'd have paid $7.50 to see this crap.  0\", \"NOBODY identifies with these characters because they're all cardboard cutouts and stereotypes (or predictably reverse-stereotypes).  0\", \"This is a bad film, with bad writing, and good actors....an ugly cartoon crafted by Paul Haggis for people who can't handle anything but the bold strokes in storytelling....a picture painted with crayons.  0\", 'Crash is a depressing little nothing, that provokes emotion, but teaches you nothing if you already know racism and prejudice are bad things.  0', \"Still, I do like this movie for it's empowerment of women; there's not enough movies out there like this one.  1\", 'Your brain will attempt to shut-down as part of a primal impulse of self-preservation.  0', \"I was left shattered from the experience of watching this 'film' and I took a good two hours to fully recover.  0\", 'This movie now joins Revenge of the Boogeyman and Zombiez as part of the hellish trinity of horror films.  0', 'I certainly do not mean this distinction in a good way.  0', 'I mean this in a terrible way.  0', 'This film has no redeeming features.  0', 'Everything is appalling.  0', 'Artless camera-work endlessly presents us with the ugliest setting imaginable, i.e.  0', 'The story is beyond stupid.  0', 'The script is\\x85was there a script?  0', 'The kids are annoying.  0', 'The lead man is charisma-free.  0', 'Utterly without merit on any level, this is akin to torture.  0', \"I'll even say it again \\x96 this is torture.  0\", 'Maybe there would be a reasonable explanation for this atrocity.  0', 'Not a pleasant voyage of self-discovery.  0', 'Highly unrecommended.  0', \"If this premise sound stupid, that's because it is.  0\", \"Yes, it's that bad.  0\", 'Nothing at all to recommend.  0', 'An excellent performance from Ms.  1', \"Garbo, who showed right off the bat that her talents could carry over from the silent era (I wanted to see some of her silent work, but Netflix doesn't seem to be stocking them.  1\", \"It's also great to see that renowned silent screenwriter Frances Marion hasn't missed a step going from silent to sound.  1\", 'This movie suffered because of the writing, it needed more suspense.  0', 'There were too many close ups.  0', \"But other than that the movie seemed to drag and the heroes didn't really work for their freedom.  0\", 'But this movie is definitely a below average rent.  0', '\"You\\'ll love it!  1', 'This movie is BAD.  0', 'So bad.  0', 'The film is way too long.  0', 'This is definitely one of the bad ones.  0', \"The movie I received was a great quality film for it's age.  1\", 'John Wayne did an incredible job for being so young in the movie industry.  1', 'His on screen presence shined thought even though there were other senior actors on the screen with him.  1', 'I think that it is a must see older John Wayne film.  1', \"I really don't see how anyone could enjoy this movie.  0\", \"I don't think I've ever seen a movie half as boring as this self-indulgent piece of junk.  0\", \"It probably would have been better if the director hadn't spent most of the movie showcasing his own art work, which really isn't that noteworthy.  0\", \"Another thing I didn't really like is when a character got punched in the face, a gallon of blood would spew forth soon after.  0\", 'Jamie Foxx absolutely IS Ray Charles.  1', 'His performance is simply genius.  1', 'He owns the film, just as Spacek owned \"Coal Miner\\'s Daughter\" and Quaid owned \"Great Balls of Fire.  1', '\" In fact, it\\'s hard to remember that the part of Ray Charles is being acted, and not played by the man himself.  1', 'Ray Charles is legendary.  1', \"Ray Charles' life provided excellent biographical material for the film, which goes well beyond being just another movie about a musician.  1\", 'Hitchcock is a great director.  1', 'Ironically I mostly find his films a total waste of time to watch.  0', 'Secondly, Hitchcock pretty much perfected the thriller and chase movie.  1', \"It's this pandering to the audience that sabotages most of his films.  0\", 'Hence the whole story lacks a certain energy.  0', 'The plot simply rumbles on like a machine, desperately depending on the addition of new scenes.  0', 'There are the usual Hitchcock logic flaws.  0', 'Mishima is extremely uninteresting.  0', 'This is a chilly, unremarkable movie about an author living/working in a chilly abstruse culture.  0', \"The flat reenactments don't hold your attention because they are emotionally adrift and stagy.  0\", 'And the rest of it just sits there being awful... with soldiers singing songs about the masculinity they pledge themselves to, hairsplitting about purity, the admiration of swords, etc.  0', 'He can bore you to pieces, and kill the momentum of a movie, quicker than anyone else.  0', 'Schrader has made a resume full of lousy, amateurish films.  0', 'When I first watched this movie, in the 80s, I loved it.  1', 'I was totally fascinated by the music, the dancing... everything.  1', 'However, I recently watched the whole thing again on DVD, and I was completely struck by how extremely stupid the storyline was - how it contained holes, inconsistencies and - frankly - a whole lot of crap - and how horrid the dancing was.  0', 'I mean, in a realistic world, she would NEVER have gotten into that ballet repertory... The whole thing was quite pathetic.  0', 'The character developments also lacked in depth.  0', 'Woa, talk about awful.  0', 'Do not waste your time.  0', 'It was just too horrible.  0', 'The worst, sappiest dialogue... I could go on and on.  0', 'But what really made it unwatchable was the direction.  0', 'The poor actors.  0', \"You can't even tell if they have any talent because they not only have pathetic lines to speak but the director gave them no action.  0\", \"If you check the director's filmography on this site you will see why this film didn't have a chance.  0\", 'This would not even be good as a made for TV flick.  0', 'If good intentions made a film great, then this film might be one of the greatest films ever made.  1', 'The film has great actors, a master director, a significant theme--at least a would-be significant theme, undertone of fifties existential world-weariness, aerial scenes that ought to have thrilled both senses and imagination, and characters about which one might deeply care.  1', 'Regrettably, the film fails.  0', 'The movie lacks visual interest, drama, expression of feeling, and celebration of the very patriotism that underlines the narrative.  0', 'No actress has been worse used that June Allison in this movie.  0', 'Yet, I enjoy watching it.  1', 'Unfortunately, this is a bad movie that is just plain bad.  0', 'Bad script, bad direction and horrible acting make this one plain bad!  0', 'The dialogue sucked.  0', 'The cinematography-if it can be called that-sucked.  0', 'The soundtrack sucked.  0', 'The acting sucked.  0', 'The concert sequences just sucked.  0', 'That was nice.  1', 'That was funny.  1', 'It was so funny.  1', 'Overall, this movie was cheap trash.  0', 'But this movie is not funny, considering the ridiculousness of it.  0', 'I came out of it feeling angry.  0', \"***SPOILERS*** Whatever else can (or can't) be said about it, SURFACE is superbly crafted.  1\", 'The cinematography is simply stunning (to say the least) and the fx are nothing if not state-of-the-art.  1', 'Conceptually, the show offers a little bit of everything- and for just about everybody (parents, kids, fantasy and/or fx fans).  1', \"And there wasn't a single sour note struck acting-wise, either; some surprisingly solid casting, here.  1\", 'All things considered, a job very well done.  1', 'Thanks good a movie like this was done and released.  1', 'One of the best mexican movies ever!, and one of the less understood, even by mexican themselves, no matter how identified the should have felt with it.  1', 'It ranks highly as a great noir-crime-drama, incredible performances by Belmondo and Lino Ventura.  1', 'The attention given to every character, and complex psychological portrayals, detailing loyalty, treachery, love, and hope, are tremendous.  1', 'It is an excellent drama, an excellent thriller, and an excellent film.  1', 'Up there with the best of Melville.  1', 'Everything about this film is simply incredible.  1', 'You truly take this journey through the eyes and soul of a child.  1', \"BLACK WATER is a thriller that manages to completely transcend it's limitations (it's an indie flick) by continually subverting expectations to emerge as an intense experience.  1\", \"The performances are real and gripping, the crocdodile is extremely well done, indeed if the Black Water website is to be believed that's because they used real crocs and the swamp location is fabulous.  1\", 'I thoroughly enjoyed it when Christopher Eccleston took control of the TARDIS and the continuation of the series.  1', \"I'm not sure what he was trying to do with this film.  0\", 'If it was to turn my good day feeling into a night of disturbing memories than I guess he succeeded.  0', 'There is a lot of beautiful places.  1', 'It was forced, like everything in this movie.  0', 'Again, lame.  0', \"Here's where the movie really pi**ed me off.  0\", \"And don't even get me started on the jerky camerawork.  0\", 'When I saw it in the theater I thought I was going to be sick.  0', \"Summary: The witticisms weren't witty.  0\", \"The plot - well, I said I'd let that one go.  0\", 'The acting was bad.  0', 'Really bad.  0', \"Even Billy Bob couldn't rise above the script, which was worse.  0\", 'Camerawork - again, bad.  0', 'Rating: 1 out of 10.  0', 'An AMAZING finale to possibly the BEST trilogy of all time!  1', 'Kieslowski never ceases to amaze me.  1', 'He is one of my favourite directors, and one of the most talented directors in the history of cinema.  1', 'His use of the colours of the French flag in the three films was nothing short of incredible, every shot, every scene was like a work of art.  1', \"Three of the most visually appealing movies i've ever seen.  1\", 'And his subtle connections between the three films are awesome.  1', 'I have to mention this and it is a huge SPOILER, i loved the ending, how all the characters of the three films were the remaining survivors of the ferry disaster, with Valentine and the young judge together, and the old man watching it on her TV, solidifying his happiness over the suffering which he dealt with for those many years.  1', \"I couldn't think of a better way to end the film, but a smile on my face, great way to wrap up an amazing film and trilogy!  1\", 'I recommend this for EVERYONE who loves film, movies, anything...A Work of Art!  1', '10 out of 10 for both the movie and trilogy.  1', 'I literally vomited while watching this film.  0', \"I think i was one of the people who found this another one of roth's pearls.  1\", 'his performance, as awarded, was stunning.  1', 'the story which was told so eloquently by Francis ford Coppola 25 years earlier, really unfolds gradually and leaves room for the characters to develop.  1', 'In a most wonderful location lies a story of contrast.  1', \"All in all a beautiful directed film from Nicola's roeg wih a sublime cast.  1\", \"I'm translating movies for a living and this is the first movie in my 5-year working experience that I found offensive to my intelligence.  0\", 'But when someone strives for greatness and poetry, but delivers a muddled (and often ridiculous) story, a bunch of disparate scenes, pretentious dialogue... Then you get the worst kind of a movie that some other reviewer very accurately defined as \"pretentious crap\".  0', \"To those who find this movie intelligent or even masterful, I can only say - it's your intelligence and your imagination you obviously used to try and make some sense of this pitiful attempt (it's in our human nature to try and make sense of things) .  0\", \"One more thing: I can tolerate political incorrectness very well, I'm all for artistic freedom and suspension of disbelief, but the Slavic female character was just too much.  0\", 'This is such a fun and funny movie.  1', 'Highly entertaining at all angles.  1', 'It features an outlandish array of memorable, psychotic but lovable nuts.  1', 'So for our enjoyment we get to see them run around, play games, and be dangerous.  1', 'It even has its sweet moments.  1', 'The telephone repair man was really funny and his reactions to the nuts and bitchy boss were truly genuine.  1', 'All the characters in this film are tremendously well played.  1', 'And I really did find them funny.  1', 'This is actually a very smart movie.  1', 'There is a brilliant twist ending.  1', '\" I love it.  1', \"The ending is so, SO perfect... you'll shed a tear.  1\", 'I am so thrilled after seeing a movie like this.  1', 'I will never forget it now.  1', 'It is not just a cult... it is a cult CLASSIC.  1', 'Which has more depth and character than the man underneath it.  0', 'The Malta settings are as dry and as barren as the dialogue.  0', 'This movie is terrible.  0', \"The hockey scenes are terrible, defensemen playing like they're 5 years old, goalies diving at shots that are 10 feet wide of the net, etc.  0\", \"For those that haven't seen it, don't waste your time!  0\", 'To call this movie a drama is ridiculous!  0', \"Started watching this but didn't believe in any of the characters.  0\", \"In particular the relationship between the bakery assistant and the waitress just didn't work for me at all.  0\", 'It was a very superficial movie and it gave me the feeling that I was watching play rather than a film.  0', \"The characters were very 'stagey' and the storyline was a lot like a stage farce.  0\", \"By the time the pyromaniac waylaid the assistant I was bored and didn't care what happened next and so I switched off.  0\", \"Glad I didn't pay to see it.  0\", \"Didn't laugh or even smile once.  0\", \"But it wasn't anything at all just one big yawn...  0\", 'It is a really good show to watch.  1', 'It is very educational for children 1 to 8 years old.  1', 'Barney is definitely super DE duper.  1', 'is pretty funny.  1', 'Babie Bop is very cute.  1', 'The kids are very cool too.  1', '\" But \"Storm Trooper\" is not even bad enough to make it to the list of wonderfully terrible movies.  0', \"It's just lame.  0\", \"The guy who said he's had better dialogue with his potted plants has it right.  0\", 'Everything about this movie is stupid.  0', 'Even if you love bad movies, do not watch this movie.  0', 'It is shameful.  0', 'I would give this television series a 10 plus if i could.  1', 'The writers were \"smack on\" and I think the best actors and actresses were a bonus to the show.These characters were so real.  1', 'I must say I have taped most of the episodes and i find myself watching them over and over again.  1', 'Now you know why I gave it a 10+!  1', \"I don't know exactly what it is about this movie, but we latched on to this endearing movie and it has become a special part of our family's memories.  1\", 'I totally and absolutely recommend this movie to anyone who likes good wholesome family movies because that is exactly what this is.  1', 'The things that the four kids get themselves into is absolutely hilarious to watch.  1', 'This is one of the best movies out there that shows such strong sibling bond for each other.  1', 'Much more interesting, more action, more suspense, and less of the unneeded controversy.  1', 'Everything from acting to cinematography was solid.  1', 'Definitely worth checking out.  1', 'Damian is so talented and versatile in so many ways of writing and portraying different Characters on screen.  1', 'This movie has a cutting edge to it.  1', 'I am so pleased to know such a modern day genius is out there , letting is passion for Art drive him and taking us as an audience with him.  1', \"The new characters weren't all that memorable, and I found myself forgetting who was who.  0\", 'I felt as though her going to Ireland did absolutely nothing whatsoever.  0', \"It didn't make me scared, horrified, or make me sympathetic towards the characters; it was simply annoying.  0\", 'The jerky camera movements were also annoying.  0', 'The plot was the same as pretty much every other cheap horror.  0', \"There was a few pathetic attempts to give the characters some depth, but it didn't really work into the rest of the plot.  0\", 'I guess it was supposed to be clever twist, then shed some light on the situation, but it was just stupid.  0', 'If you see it, you should probably just leave it on the shelf.  0', 'Elias Koteas,Jack Palance play good roles Angelina is hot and gets naked.Billy Drago appears in this and is cool as usual + a cameo by Sven ole Thorsen helps make this a very enjoyable movie with good acting and a decent budget.  1', 'This was such an awesome movie that i bought it off of Ebay.  1', 'I really loved the story line and the poler bear was kinda cute.But if anyone has a question about Fort Steele, just ask away:)  1', 'This totally UNfunny movie is so over the top and pathetic and unrealistic that throughout the whole 90 minutes of utter torture I probably looked at my watch about 70000 times!  0', 'Lucy Bell is so much higher than this crap and for her to sink this low is quite depressing.  0', 'All this movie does is make you sick watching all these slackers make excuses for their stupid actions for 90 minutes.  0', 'God, and I can never get that 90 minutes back!  0', 'I think the most wonderful parts (literally, full of \"wonder\") are the excerpts from his works.  1', 'The sets (especially designed to work with the camera) are amazing....stylized, beautiful and effective.  1', 'They could be used as exemplars for any set designer.  1', 'The stories were powerful explorations of the nature of man and of art.  1', 'After watching this film, I wanted to learn more about the works of this artist.  1', 'I highly recommend this movie for anyone interested in art, poetry, theater, politics, or Japanese history.  1', \"Here, in The Wind and the Lion, we see a wonderful rendering of America's own Imperial age.  1\", ') What makes this story different are the terrific production values - faultless photography, composition and editing - the terrific casting - the underappreciated Brian Keith playing a bully Teddy - and vivid history.  1', 'Though The Wind and the Lion is told largely through the eyes of the son, every member of the family can identify with one of the characters, whether it be Sean Connery\\'s noble brigand, Candace Bergen\\'s feisty heroine, John Huston\\'s wily John Hay or Steve Kanaly\\'s spiffy, radiant, ruthless can-do lieutenant, Roosevelt\\'s \"Big Stick\".  1', 'This is high adventure at its best.  1', 'I think it was Robert Ryans best film, because he portrayed someone like my father, and he was a schizophrenic in real life,(my father) although he never murdered anyone but was affected more so during the second world war which made him worse.  1', 'Having to humour him just to get by and get through the day was so apt.  1', '(My mother and brother had to do this)When I saw Robert Ryan portraying this type of man, it was a very good imitation of this type of individual, and I was impressed.  1', 'Almost all of the songs in Cover Girl are old-fashioned and not very tuneful.  0', \"The most annoying thing about 'Cover Girl' is the way in which Rita Hayworth is put up on a pedestal.  0\", \"Unfortunately, 'Cover Girl' is an example of how Hollywood used to exploit women for financial gain.  0\", 'Non-linear narration thus many flashbacks and every part are articulated quite well.  1', 'The good cinematography also makes her and Monica Bellucci look very beautiful.  1', \"A good commentary of today's love and undoubtedly a film worth seeing.  1\", 'For people who are first timers in film making, I think they did an excellent job!!  1', 'It was very popular when I was in the cinema, a good house and very good reactions and plenty of laughs.  1', \"It's a feel-good film and that's how I felt when I came out of the cinema!  1\", 'It has northern humour and positive about the community it represents.  1', 'I rather enjoyed it.  1', 'I liked it.  1', \"I couldn't take them seriously.  0\", 'It really created a unique feeling though.  1', 'Vivian Schilling did an excellent job with the script.  1', 'A world better than 95% of the garbage in the theatres today.  1', 'Her role was played well.  1', 'Not too screamy not to masculine but just right.  1', 'The camera really likes her in this movie.  1', 'I would have casted her in that role after ready the script.  1', \"As a European, the movie is a nice throwback to my time as a student in the 1980's and the experiences I had living abroad and interacting with other nationalities, although the circumstances were slightly different.  1\", 'I am a fan of his ... This movie sucked really bad.  0', 'Even worse than Ticker!  0', '& That movie was bad.  0', 'Only like 3 or 4 buildings used, a couple of locations MAYBE, & poor hummh!  0', 'It just blew.  0', \"This movie is excellent!Angel is beautiful and Scamp is adorable!His little yelps when hes scared,and the funniest parts are when:Scamp is caught under the curtain and when Angel and Scamp are singing 'Ive Never Had This Feeling Before'.I totally recommend this movie,its coming out on special edition on June 20.The cover has scamp on a garbage can and Angel underneath the lid.  1\", 'I just cant explain this movie more than romantic,charming,hilarious,and adorable.The junkyard scenes are funny,all the junkyard dogs have something special.Too funny i laughed,kids will LOVE it.Buy it when it comes out,it has new features!  1', 'Now we were chosen to be tortured with this disgusting piece of blatant American propaganda.  0', 'This show is made for Americans - it is too stupid and full with hatred and clichés to be admitted elsewhere.  0', 'Almost everyone involved must be return to school, acting is utterly predictable and bad, script is pile of garbage all round.  0', 'I wish I could enter negative values, admins?  0', \"The sets are so bad, they wouldn't look out of place on a Thunderbirds episode.  0\", 'The use of slow-motion needlessly repeats itself throughout the movie but is well backed up by bad acting (and bad is a kind word here), no continuity, scenes that are thrown in for no reason whatsoever, vehicles that looked like they were made from a Corn Flakes box and a directorial style that bordered on stupidity.  0', 'Oh yeah, and the storyline was pathetic too.  0', \"I hate writing bad reviews about films - especially those in which I really like the star - but this film is so bad I don't believe for one second that anyone could have been proud of it.  0\", \"I am not a filmmaker nor am I a director but I would hide my head in the sand if I'd spent whatever amount of money and time on this movie.  0\", 'In short - this was a monumental waste of time and energy and I would not recommend anyone to EVER see this film.  0', 'It came free with a DVD player I bought but I still turned the thing off halfway through because I was embarrassed for Howell.  0', '1/10 - and only because there is no setting for 0/10.  0', \"An interesting premise, and Billy Drago is always good as a dangerous nut-bag (side note: I'd love to see Drago, Stephen McHattie and Lance Hendrikson in a flick together; talk about raging cheekbones!).  1\", \"The soundtrack wasn't terrible, either.  1\", 'But the acting--even that of such professionals as Drago and Debbie Rochon--was terrible, the directing worse (perhaps contributory to the former), the dialog chimp-like, and the camera work, barely tolerable.  0', 'Still, it was the SETS that got a big \"10\" on my \"oy-vey\" scale.  1', 'Yes, I am simplifying things here for the sake of brevity, for this really is at the core of the problems with this film - it has too much going on without any real, fulfilling explanation.  0', 'Both do good jobs and are quite amusing.  1', \"But the convoluted plot just didn't convince me, and much of the film was watched with a weird, questioning glance.  0\", 'I let my girlfriend talk me into seeing this - bad idea, we both hated it.  0', 'The last 15 minutes of movie are also not bad as well.  1', 'Bela Lugosi was totally extraneous, intoning odd lines.  0', 'The acting was decidely wooden, though no worse than a period Universal B movie.  0', \"I like Armand Assante & my cable company's summary sounded interesting, so I watched it, twice already, and probably will again.  1\", 'I believe the screenwriter did a good job of tying up the loose ends.  1', 'My 8/10 score is mostly for the plot.  1', \"I won't say any more - I don't like spoilers, so I don't want to be one, but I believe this film is worth your time.  1\", 'Wow, what a bad film.  0', 'Not frightening in the least, and barely comprehensible.  0', \"The plot doesn't hang together at all, and the acting is absolutely appalling.  0\", 'Not even good for camp value!  0', \"I wasn't expecting Oscar material, but this?  0\", \"You'd have to have the IQ of particularly stupid mollusk not to see that one coming.  0\", 'This film (and I use that word loosely) is an insult to the movie-going public.  0', 'If only someone involved with it knew how to string together narrative!  0', \"This gets a 1 out of 10, simply because there's nothing lower.  0\", 'This is one I did not have, but I watched it recently on Fox Movie Channel, and was very disappointed.  0', 'I know he was a contract player with little control over his scripts, but the acting was as bad as the script.  0', 'Victor McLaglen was even bad, and Brian DonLevy was almost unrecognizable.  0', 'Considering the relations off screen between Taylor and Stanwyck, it was surprising how little chemistry there was on screen between the two of them.  0', 'But the premise of the film was so ridiculous: that the President of the U.S.  0', 'The death row scenes were entirely unmoving.  0', \"The only thing worse than Taylor's acting was Stanwyck's singing.  0\", 'Whatever the producer was going for, he missed entirely.  0', 'I was deeply impressed with the character he played.  1', 'I knew when I saw the film that more great things were to come from this gifted actor.  1', 'A cheap and cheerless heist movie with poor characterisation, lots of underbite style stoic emoting (think Chow Yun Fat in A Better Tomorrow) and some cheesy clichés thrown into an abandoned factory ready for a few poorly executed flying judo rolls a la John Woo.  0', 'Even the squibs look awful.  0', 'At no point in the proceedings does it look remotely like America.  0', 'The plot, such as it is, is so derivative and predictable that the ending is like a mercy killing.  0', 'The awful dialogue and hopeless overacting by everyone who gets shot top off a real waste of space and time.  0', 'I was very uneasy with how bad this movie was, but not scared at all.  0', 'The dialogue is composed of things that make little sense.  0', 'About 30 minutes of footage is wasted to show mediocre elderly actors awkwardly babbling overwrought pseudo-Satanic gibberish corny enough to make a teen Goth blush, almost always in Olde English, and sometimes in Latin that may or may not be made up words.  0', 'The directing is sloppy at best.  0', 'Hackneyed writing, certainly, but made even worse by the bad directing.  0', 'Of course, the acting is blah.  0', 'The acting by the whole cast could be put on a scale and balanced perfectly between overacting and underacting.  0', \"And, FINALLY, after all that, we get to an ending that would've been great had it been handled by competent people and not Jerry Falwell.  0\", \"I loved this movie it was a great portrayal of a family who had it's share of ups and down, but in the end they knew that special love they had for each other.  1\", 'I have seen many movies starring Jaclyn Smith, but my god this was one of her best, though it came out 12 years ago.  1', \"This movie contained an all-star cast, and what I loved the most was that it opened my eyes to see other actors who I haven't seen before.  1\", 'This movie was kind of long in length, but I enjoyed every minute of it.  1', 'Overall I rate this movie a 10 out of a 1-10 scale.  1', 'Lifetime does not air it enough, so if anyone knows what store sells it let me know because this is a must-have.  1', 'I particularly remember my senses being assaulted by strident cords of music that would blare out with very little warning, and even less meaning.  0', 'It is just the sort of pap that is screened in the afternoon to punish the unemployed for not having jobs.  0', 'Totally different, with loads of understatement and black comedy, this is a film few get to see, but those who do will remember it.  1', 'This movie creates its own universe, and is fascinating in every way.  1', 'But this movie really got to me.  1', 'See it.  1', 'I really hope the team behind this movie makes more movies, and that they will continue to do so in their own, some kinda weird style.  1', \"And I forgot: The Casting here i superb, with Trond Fausa Aurvåg being perfect in the role as the Bothersome Man, who doesn't understand where he is, what he is doing and why.  1\", 'This movie is a good and humorous comment on life in 2006.  1', 'I found this move beautiful, enjoyable, and uplifting.  1', 'Initially the local sites in the film, which was filmed here in Buffalo, intrigued me.  1', 'Later I found myself lost in the power of the film.  1', 'The entire audience applauded at the conclusion of the film.  1', 'I left the theater with a lilt in my step, joy in my heart and hope for the human race.  1', 'Duris has a wholesome appearance and gives a fine performance.  1', 'The rest of the cast also play well.  1', 'Cinematography noteworthy including fine views of Barcelona and its famed Gaudi towers.  1', 'About ten minutes into this film I started having second thoughts.  0', 'About half way through this film I started to dislike it.  0', 'By the time the film ended, I not only disliked it, I despised it.  0', 'What this film lacks is a convincing script.  0', 'The script looks as if only a rough draft was written and shooting began before a finished script was completed.  0', 'Things happen, characters personalities change, plot twists occur for no real reason other than that script calls for it.  0', 'The cast is good.  1', \"For that, it's worth checking out.  1\", 'This is probably the most irritating show I have ever seen in my entire life.  0', 'It is indescribably the most annoying and idiotic show I have ever seen.  0', 'Everything about it is just bad.  0', 'I could not understand, what kind of idiot would produce this mess in the first place not to mention several season.  0', 'The script is bad, very bad \\x96 it contains both cheesiness and unethical joke that you normally see in rated R or NC-17 movie.  0', 'The casting is also horrible, cause all you see is a really really BAD Actors, period.  0', 'Final Word: This Show is a real torture!!  0', 'It is zillion times away from reality.  0', \"Watching washing machine twirling around wouldn't hurt your eyes as much as this show.  0\", 'Rating: 0/10 (Grade: Z) Note: The Show Is So Bad That Even Mother Of The Cast Pull Her Daughter Out Of The Show.  0', \"20th Century Fox's ROAD HOUSE 1948) is not only quite a silly noir but is an implausible unmitigated bore of a movie.  0\", 'Full of unconvincing cardboard characters it is blandly written by Edward Chodorov, who also produced, and is surprisingly directed by Jean Negulesco from whom one would expect a great deal more.  0', 'From here on the Widmark character turns unintentionally comical!  0', 'His losing his marbles so early in the proceedings is totally implausible and unconvincing.  0', \"And if that isn't enough of a mess of a movie for you - the picture is also marred with a constant use of studio sets and indoor exteriors.  0\", 'Whatever prompted such a documentary is beyond me!  0', '(very serious spoilers) this movie was a huge disappointment.  0', 'there are so many problems i dont know where to start.  0', 'the cast was great.  1', 'steve martin delivers a really funny performance of a middle-aged, upper class, uptight white guy.  1', 'add betty white and jean smart and you have a great cast - everyone played their parts really well.  1', 'but the movie makes a lot of serious mistakes.  0', 'first of all, there are enough racial stereotypes and racial jokes to offend everyone.  0', 'the movie is littered with overt racial slurs towards the black cast members and in return the whites are depicted as morons and boobs.  0', \"putting the race card aside, lets look at the major flaw in the film: they destroy latifa's character.  0\", 'there is no real plot.  0', 'i wouldnt see this movie again for free.  0', 'STEAMBOAT WILLIE is an amazingly important film to our cinema history.  1', 'This second appearance of Mickey Mouse (following the silent PLANE CRAZY earlier that year) is probably his most famous film--mostly because it was so ground-breaking.  1', \"While you don't yet hear Mickey speak, there are tons of sound effects and music throughout the film--something we take for granted now but which was a huge crowd pleaser in 1928.  1\", 'However, after seeing the short again after about 25 years, I was amazed at how timeless the film actually is.  1', 'It\\'s just adorable seeing Mickey playing \"Turkey in the Straw\" in a highly imaginative (if occasionally cruel) way.  1', \"Clever and a real crowd-pleaser--this film still ranks among Mickey's best films even after 80 wonderful years.  1\", \"The bipolarity of the ruthless thug (one minute a ruthless killer, the next minute a Luv's diaper commercial) is completely unconvincing.  0\", \"I'm terribly disappointed that this film would receive so many awards and accolades, especially when there are far more deserving works of film out there.  0\", 'The original Body and Soul (1947) is a masterpiece.  1', 'John Garfield, Ann revere, Lilli Plmer, William Conrad, Canada Lee...and filmed by one of the greatest cinematographers to ever grace the screen..James Wong Howe.  1', \"I don't think there are any redeeming qualities in this remake.  0\", 'This may be the only bad film he ever made.  0', \"So bad...well...it's just bad.  0\", 'This movie is a solid example of a bad plot and a very, very bad idea all the way.  0', \"It's a shame to see good actors like Thomerson and James make a living in a mess like this.  0\", 'I thought it was bad.  0', 'Both films are terrible, but to the credit of the 1986 version, it was watchable.  0', \"Let's start with all the problems\\x97the acting, especially from the lead professor, was very, very bad.  0\", 'The script is a big flawed mess.  0', \"The best example of how dumb the writing is when it's established that you can turn the zombie-students back into humans by removing a necklace containing a piece of the meteorite.  0\", 'Director Paul Matthews, who also wrote/directed the weak 1995 monster movie \"Grim\", clearly doesn\\'t know how to pace his films.  0', 'The movie is terribly boring in places.  0', 'The lighting is awful.  0', 'The film looks cheap and bland.  0', 'One of the most disappointing aspects is the lack of notable gore.  0', \"This convention never worked well in the past, and certainly doesn't work here.  0\", 'The visual effects were AWFUL.  0', \"The CG opening sequence in space looked like it could have been created on Microsoft Slideshow for God's sake!  0\", 'The \"explosion\" of the Gas tanks at the end was just as awful.  0', \"Okay, I like to consider myself a fair critic, so I'll give credit where credit's due--the creature effects were actually pretty cool.  1\", 'Gotta love those close-ups of slimy, drooling teeth!  1', 'To sum the film up, \"Breeders\" is a terrible, cheaply made horror movie that should be avoided like the Ebola virus.  0', 'Not recommended.  0', 'He is almost unbearable to watch on screen, he has little to no charisma, and terrible comedic timing.  0', \"Aside from it's terrible lead, this film has loads of other debits.  0\", \"I understand that it's supposed to be a cheap popcorn comedy, but that doesn't mean that it has to completely insult our intelligence, and have writing so incredibly hackneyed that it borders on offensive.  0\", \"Lewis Black's considerable talent is wasted here too, as he is at his most incendiary when he is unrestrained, which the PG-13 rating certainly won't allow.  0\", \"The film's sole bright spot was Jonah Hill (who will look almost unrecognizable to fans of the recent Superbad due to the amount of weight he lost in the interim).  1\", 'With the originality and freshness of the first movie now spent, this remake had little else to offer.  0', 'The budget was evidently very limited.  0', 'This was reflected not only in the cast, but also in the below-par script, which borrowed much from the earlier classic.  0', 'However, here there was no decent acting, action or location work to balance things up.  0', 'Filmiing was less expansive.  0', 'It failed to convey the broad sweep of landscapes that were a great part of the original.  0', 'Generally; it just lacked imagination.  0', 'Not recommended.  0', 'Is it possible for a movie to get any worse than this?  0', 'There is no plot here to keep you going in the first place.  0', 'Even when the women finally show up, there is no sign of improvement; the most expected things happen and by the time the film is over, you might be far asleep.  0', 'Beware: this is not a trashy cult movie, this is trash -period!  0', \"I can't believe there's even a sequel to this!  0\", 'Which is precisely why I am giving it such a bad review!  0', \"Being a 90's child, I truly enjoyed this show and I can proudly say that I enjoyed it big time and even more than the classical WB cartoons.  1\", 'But \"Tiny Toons\" kept the 90\\'s vibe and delivered one of the most popular, funny, and underrated cartoons ever created.  1', 'The memories are murky but I can only say that I enjoyed every single episode and product related to the show.  1', 'Easily, none other cartoon made me laugh in a tender way (before getting into dark sitcoms oriented for teenagers).  1', 'The characters were all funny and had the peculiarity of not having a true lead character.  1', 'Every single character was hilarious and deserved to be called a lead.  1', 'Every element of this story was so over the top, excessively phony and contrived that it was painful to sit through.  0', 'Her lines seem to have been WRITTEN by a fifteen year old, though they are trying oh so, so hard to sound like how a fifteen year old would really, um, you know, well... talk.  0', 'Perabo has a nice energy level and is obviously very comfortable in front of a camera.  1', 'There is simply no excuse for something this poorly done.  0', 'I saw this movie and I thought this is a stupid movie.  0', 'What is even more stupid is that who had thought an idea that there should be a volcano in Los Angeles?  0', 'To be honest with you, this is unbelievable nonsense and very foolish.  0', 'In conclusion, I will not bother with this movie because a volcano in Los Angeles is nothing but nonsense.  0', 'The story line is just awful!  0', \"It's just painful!  0\", 'And the accents are absolutely abysmal!  0', \"There's also enough hypocrisy in this film to make me vomit.  0\", \"Don't waste your time watching this rubbish non-researched film.  0\", 'I believe that Pitch Black was done well.  1', \"The characters are interesting and you want to find out more about them the longer the movie goes on, and I think people will be surprised by who does and doesn't make it.  1\", 'Go watch it!  1', 'Omit watching this.  0', 'VERY funny!  1', 'My rating: just 3 out of 10.  0', 'The characters are interesting and you really care for them.  1', 'An instant classic, with a great soundtrack and a catchy song during the ending credits.  1', \"Don't miss it.  1\", \"This is a masterful piece of film-making, with many themes simmering and occasionally boiling over in this warts and all study of the poet's bohemian, self-indulgent wartime years that span the aerial bombardments of London and the outward tranquillity of a Welsh coastal retreat - the borderlines between friendship, lust and love, dedication to art and experience versus practical concerns, jealousy, rivalry, cowardice and egotism versus heroism and self-sacrifice and more.  1\", 'A mature, subtle script that suggests and occasionally brings into dramatic focus the underlying tensions is well served by perfect performances (apart from the odd inappropriate smiling that Keira Knightley is prone to, though perhaps under direction this time as the other characters themselves often mention it).  1', 'But above all the exquisite visual composition of each moment, with inventive and elegant use of close-up, camera angle and lighting, including pointillistic faux home movie footage, is a wonder and joy to behold.  1', \"It's as continuously beautiful to look at as a Bertolucci, but the relationships here are more convincing and the narrative more engaging than some of that master's work.  1\", 'The basic premise is wasted since it is sidelined by the inexplicable focus on the documentary crew.  0', 'Regardless, the film fails on most levels.  0', 'Avoid at all costs.  0', 'I saw this film over Christmas, and what a great film it was!  1', 'I thought Errol Flynn was brilliant as Custer and has since become my favourite actor!  1', 'His acting alongside Olivia De Havilland was brilliant and the ending was fantastic!  1', 'I had always known that Errol Flynn was a brilliant actor as he was my dads favourite actor, and I grew up watching his films as a child.  1', \"But it wasn't until I watched this film that I realised how great he actually was.  1\", \"I'll give this film 10 out of 10!  1\", \"I know that Jim O'Connor was very energetic and that nobody could be as much as him, but George was well dull.  0\", \"He really didn't seem to want to be hosting; his voice-overs were monotonous, didn't get involved with the guests.  0\", 'Lovely little thriller from Hitchcock, with lots of nice shenanigans surrounding a murdered spy, a kidnapped child, a nasty church, a foreign plot and some random taxidermists.  1', \"Jimmy Stewart is as ever a great hero for Hitchcock, the story rips along to its cool climax at an embassy function, but it lacks the brooding menace of Hitchcock's black and white, low-budget original.  1\", \"Nevertheless yet another wonderful film from the great master's stable.  1\", 'I have to say that this film was excellently produced and tops the ratings as a typical sci fi film!  1', \"Excellently produced by one of Sci-fi's best producers Scot Vandiver !  1\", 'But it is entertaining, nonetheless.  1', \"It's a campy sort of film that's a joy to watch.  1\", \"There's barely a boring moment in the film and there are plenty of humorous parts.  1\", 'The cast is always entertaining as usual.  1', 'Overall, a delight!  1', \"This movie is so mind-bendingly awful, it couldn't have even been created.  0\", 'The film lacks any real scares or tension & some of the medical terminology used throughout is a bit iffy to say the least & I say that as an insulin dependant diabetic myself.  0', 'The least said about the acting the better.  0', 'This movie does an excellent job of revealing the complexity of the task and the incredible challenges facing South Africa.  1', 'I believe every one should see this movie as I think few people outside of South Africa understand its past and what is being attempted in the Truth and Reconciliation process.  1', 'Nothing short of magnificent photography/cinematography in this film.  1', 'The acting is fantastic, the stories are seamlessly woven together, and the dogs are splendid............. A must rent, view, or see.  1', \"Don't be afraid of subtitles........ its worth a little aversion therapy 10/10  1\", 'Excellent performance.  1', 'There still are good actors around!  1', 'Also great directing and photography.  1', \"Very true to Shakespear, and a 'must' for all Shakespear fans.  1\", 'Macbeth (Jason Connery) moved me to tears with his final monolog (out brief candle, out)He gave the sphere of moral decay and dark forces a human face, which makes it the more interesting.  1', 'Helen Baxendale is a very credible lady Macbeth who can be very cheerfull at times and sometimes she just looks like a naughty girl, but deadly in her taste for blood and evil.  1', 'If you love death and decay, and Shakespears lyrics... this is the one.  1', \"This is a witty and delightful adaptation of the Dr Seuss book, brilliantly animated by UPA's finest and thoroughly deserving of its Academy Award.  1\", 'Special mention should be made of the superb music score and sound effects, which are an integral element in helping to make this such a memorable and enjoyable cartoon.  1', 'However Paul Schrader has indeed made a film \"about\" Mishima that is both superb & complex.  1', \"Also notable is John Bailey's fine crisp beautifully colored cinematography and the great production design & costumes by Eiko Ishioka who went on to do the memorable costumes for Coppola's Dracula for which she received a well deserved Oscar.  1\", 'Even allowing for poor production values for the time (1971) and the format (some kind of mini-series), this is baaaaaad.  0', 'Unless you\\'re just out to visually \"collect\" all extant films of Austen\\'s work, you can skip this one.  0', \"If you do watch it, however, there are small consolations: The actresses playing Anne's sisters each do a wonderful job with their roles.  1\", 'It is not good.  0', 'Speaking of the music, it is unbearably predictably and kitchy.  0', 'Then the film just dropped the ball.  0', 'This is a stunning movie.  1', 'Raw and sublimely moving.  1', \"It felt like a very gripping, intelligent stage play (but without the overly theatrical feeling one actually gets from watching people on a stage) which plays on everyone's terror of a white lie escalating to monstrous consequences.  1\", 'All of the main players are mesmerising.  1', \"Tom Wilkinson broke my heart at the end... and everyone else's judging by the amount of fumbling for hankies and hands going up to faces among males and females alike.  1\", 'Julian Fellowes has triumphed again.  1', \"He's a national treasure.  1\", 'GO AND SEE IT!  1', 'This is an excellent film.  1', 'The aerial scenes were well-done.  1', 'It was also the right balance of war and love.  1', 'The film gives meaning to the phrase, \"Never in the history of human conflict has so much been owed by so many to so few.  1', 'Kris Kristoffersen is good in this movie and really makes a difference.  1', 'A good film by a great director!  1', 'This is definitely one of the better documentaries I have seen looking at family relationships and marriage.  1', \"There are many continuity errors: one other user commented on different cars in the garage, Joe's glasses...the one that got to me the most was the fact Joe's facial hair configuration seemed to change from scene to scene.  0\", 'This is just a great movie.  1', '10 out of 10 stars.  1', \"I can't see how this movie can be an inspiration to anyone to come out or overcome fear and rejection.  0\", \"It's so bad it's actually worth seeing just for that reason.  0\", 'Punishment Park is a brilliant piece of cinema.  1', 'Shot in the Southern California desert using his patent faux documentary style, Watkins creates a film like no other.  1', 'This is one of Peter Watkins most accessible films.  1', 'I advise you to look out for it.  1', 'You wont regret it!  1', 'Highly recommended A+  1', 'Well... Just if you keep thinking how bad it is.  0', \"It's a mediocre, miserable, hollow, laughable and predictable piece of garbage.  0\", \"It's a case of 'so bad it is laughable'.  0\", ') very bad performance plays Angela Bennett, a computer expert who is at home all the time.  0', 'It is a film about nothing, just a pretext to show ridiculous action scenes.  0', 'How awful she is!  0', 'But she is still a bad actress, repeating her robotic face moves in each of her pictures.  0', 'The results, well, are a shame.  0', 'DELETE this film from your mind!  0', 'One of the worst shows of all time.  0', 'The show would begin with smart ass ed comments to each other that would be totally off the wall and uncalled for.  0', 'The fat computer geek was unbelievable, the bible thumper, the bad-ass girl, who are these actors???  0', 'Never heard of any of them except Cole who was totally unbelievable in the part.  0', 'Every time he opened his mouth you expect to hear, \"you see kids...\" Pulling the plug was a mercy killing for this horrible show.  0', 'The stories were as unbelievable as the actors.  0', 'Lame would be the best way to describe it.  0', \"Stanwyck and Morgan are perfectly cast in what is, in many ways, a modern equivalent of Dickens' Christmas Carol in its sensibility.  1\", 'The success of the film depends on the casting of Sydney Greenstreet as the Alexander Yardley character.  1', 'The attractive set used throughout most of the film is an eye-pleasing gem.  1', 'Im big fan of RPG games too, but this movie, its a disgrace to any self-respecting RPGer there is.  0', 'The lines, the cuts, the audio, everything is wrong.  0', 'You can find better movies at youtube.  0', \"Top line: Don't waste your time and money on this one, its as bad as it comes.  0\", 'A Lassie movie which should have been \"put to sleep\".... FOREVER.  0', \"That's how I'd describe this painfully dreary time-waster of a film.  0\", \"So mediocre in every aspect that it just becomes a dull, uninteresting mess, this is one of the most forgettable movies I've seen.  0\", 'It isn\\'t even an achievement as a \"so-bad-it\\'s-good\" or \"so-bad-it\\'s-memorable\" movie.  0', \"It's an empty, hollow shell of a movie.  0\", \"Seriously, it's not worth wasting your, or your kid's time on.  0\", 'Avoid, avoid, avoid!  0', 'It will drive you barking mad!  0', 'The transfers are very good.  1', 'Very nice and relaxing late night viewing.  1', 'The movie is full of wonderful dancing (hence the title!  1', ') some great music, and terrific scenery.  1', 'It handles some tough issues with dignity and grace, and, of course, has (shocking spoiler here!  1', ') a happy, wonderful, feel good ending!  1', 'The point is the journey, a journey that touches every member of the family.  1', \"It's one of the movies I need to see whenever it comes on TV...never mind the fact that I already have it memorized!  1\", 'Nothing new there.  0', 'That was done in the second movie.  0', 'The movie has almost no action scenes in it and very little comedy.  0', 'The plot has more holes than a pair of fishnet stockings and the direction and editing is astonishingly ham fisted.  0', 'What on earth is Irons doing in this film?  0', 'I just saw this film and I recommend it.  1', 'It has a very good plot, it holds your complete attention, the acting is superb, Tom Wilkinson was fantastic and Emily Watson was also very good.  1', 'A very good film indeed, about great and unconditional love.  1', \"Tom Wilkinson's character is a man who is not prepared for the ordeal that is about to begin, but he takes the matter in hand as the story progresses, and this great actor gives a performance that makes you feel the character's anguish and suffering.  1\", \"Emily Watson's character is very strong, and she has only to give a quick glance and you understand everything.  1\", 'Despite the pans of reviewers, I liked this movie.  1', \"In fact, I liked it better than Interview With a Vampire and I liked this Lestat (Stuart Townsend) better than Cruise's attempt.  1\", 'Aailiyah was pretty good as Akasha, in places compelling (her first entrance and mini dance scene).  1', \"I'm a big fan of this series mostly due to Anne Rice's style, sensitivities and treatments.  1\", 'I guess I liked the details of his dysfunction--he was believable.  1', 'The football scenes at the end were perplexing.  0', 'But I thought his acting was skilled.  1', 'Meredith M was better than all right.  1', 'A very charming film with wonderful sentiment and heart.  1', \"It is rare when a film-maker takes the time to tell a worthy moral tale with care and love that doesn't fall into the trap of being overly syrupy or over indulgent.  1\", 'Nine out of ten for a truly lovely film.  1', 'This early film from future goremeister Lucio Fulci is a very good addition to the giallo sub-genre.  1', \"This is one of the best Italian thrillers of the early 70's.  1\", 'A standout scene.  1', 'This scene is very strong and unpleasant.  0', \"Technically, the film is well made with impressive camera-work, solid acting and effective music from Riz Ortolani \\x96 particularly good is a recurring unaccompanied female vocal that sounds like it's coming from a distant hill.  1\", \"It's still wild stuff though and is highly recommended to fans of giallo cinema.  1\", 'The movie was very interesting from beginning to the end.  1', \"I liked the way Dustin Hoffman's character was ready to do just about everything to stay with his son.  1\", 'This movie is also revealing.  1', 'Personally, I think it shows that people should learn to find a compromise them self without involving other people into issue.  1', 'And it was boring.  0', 'I am so tired of clichés that is just lazy writing, and here they come in thick and fast.  0', 'PS the only scene in the movie that was cool is when the central character finds her room blown up.  1', \"It's a fresh, subtle, and rather sublime effect.  1\", 'An Italian reviewer called this \"a small, great film,\" and that\\'s right.  1', 'All the actors give a wonderful performance, especially Jennifer Rubin as Jamie Harris, who changes from the nervous starlet in the beginning through the strange events she is part of to the cool star.  1', 'You learn a lot about the real inside emotions of people in this movie, and a lot about the movie business itself.  1', 'The movie in movie situations in the beginning and through the game that is played with her by the \"acting coach\" are fascinating.  1', \"Also the music by Mark Snow is possibly the best score I've ever heard.  1\", \"You won't forget this movie!  1\", 'Why was this film made?  0', 'The film has an ultra-cheap look to it.  0', \"The result is a film that just don't look right.  0\", 'None of them are engaging or exciting.  0', \"The plot is nonsense that doesn't interest in the slightest way or have any uniqueness to it.  0\", 'The Foreigner is not worth one second of your time.  0', 'I saw it as a child on TV back in 1973, when it was \"The Stranger\" and I loved it.  1', \"But the duet between the astronaut and his doctor at the beginning of the movie is a perfect exchange if one considers that this movie was made well into the Cold War and the astronaut's biggest fear is that he has crashed in the USSR.  1\", 'This movie is so awesome!  1', 'I loved it, it was really scary.  1', 'I love the Scream movies and all horror movies and this one ranks way up there.  1', 'If you want a real scare rent this one!  1', '10/10  1', 'This is an extraordinary film.  1', \"As a courtroom drama, it's compelling, as an indictment on the American justice system, it's frightening.  1\", \"This film highlights the fundamental flaws of the legal process, that it's not about discovering guilt or innocence, but rather, is about who presents better in court.  1\", \"The film is well paced, understated and one of the best courtroom documentaries I've seen.  1\", 'This mostly routine fact-based TV drama gets a boost from the fine performance by Cole.  1', 'Predictable, but not a bad watch.  1', 'It was clear that she had the range and ability to pull off this part.  1', 'She carries the movie well.  1', 'Constantine gives everything the right intensity and seems to have a good understanding of the underlying psychological motivations.  1', 'It is wonderful and inspiring to watch, and I hope that it gets released again on to video or DVD.  1', \"How this piece of trash was ever released is beyond me: the acting, the story, the characters, the supposedly special effects, etc...it's ALL wrong.  0\", 'In fact, this stinker smells like a direct-to-video release.  0', 'Avoid at ALL costs!  0', 'Star Trek V The final Frontier is the worst in the series.  0', 'The acting from all involved and that includes those like Shatner and Nimoy is bad and washed out and making them seem as old as they look in real life, the special effects are tacky like when Spock has to rescue Kirk on a jet pack when he falls down from a mountain.  0', \"The attempts at humor were pitiful and story is so awful it dosen't bear thinking about which basically involves a Vulcan stealing the Enterprise to find god (seriously) I just didn't care about any of this film and oh not to mention Uhura does a belly dance to distract male guards.  0\", 'The only place good for this film is in the garbage.  0', 'The worst one of the series.  0', 'Editing: The editing of this film was phenomenal in my opinion.  1', \"When a song could explain the emotions of the subjects better, such as when Jay Adams' unfortunate life was a subject of talk, the song Old Man by Neil Young was played, which evokes many emotions.  1\", 'Cinematography: The film was shot in an interesting way.  1', 'Of course the footage from the 70s was grainy, but that only enhanced the film.  1', 'This film offers many delights and surprises.  1', 'When Achille and Philippa beautifully sing a duet from \"Don Giovanni\" that perfectly describes their situation in the movie, you appreciate the subtle layers of this excellent film.  1', 'The story unfolds in 18th century Jutland and the use of period music played on period instruments is just one more fine touch.  1', \"You share General Loewenhielm's exquisite joy in his partaking of the Cailles en Sarcophage even though you are just watching a movie - but you do wish for just a small sample to savor.  1\", 'But this understated film leaves a lasting impression.  1', 'The warmth it generates is in contrast to its austere backdrop.  1', 'You will leave the theater wanting to go out and dance under the stars.  1', \"The acting, as you'd expect from this cast, is top notch.  1\", 'The characters are fleshed out surprisingly well, particularly Grimes and Blake, and all the actors deliver their sharply scripted lines with just the right amount of deadpan tongue in cheek to make the dialogue both hilarious and realistic.  1', 'Angus Scrimm also turns in a good performance in a somewhat brief but memorable role as the gently menacing, violin-playing anatomist Doctor Quinn.  1', 'Conclusion - I loved it.  1', \"It's a long time since I was so entertained by a movie.  1\", 'I struggle to find anything bad to say about it.  1', 'Mark my words, this is one of those cult films like Evil Dead 2 or Phantasm that people will still be discovering and falling in love with 20, 30, 40 years down the line.  1', \"It's pretty surprising that this wonderful film was made in 1949, as Hollywood generally had its collective heads in the sand concerning black and white issues at that time.  1\", \"The film deserves strong kudos for taking this stand, for having exceptional acting from its mostly lesser-known cast and for the super-intelligent script that doesn't insult the audience or take the easy way out when it comes to white racism.  1\", \"Plus, with the movie's rather modest budget and fast running time, it does an amazing job!  1\", 'Juano Hernandez (an exceptional actor who played supporting roles in many films of the era) is a proud black man who is accused of murdering a white man in the South.  1', 'Trumbull on I LOVE LUCY).  1', 'See it with your kids if you have a chance--it will open up some amazing dialog about how far race relations have come in the last 50 years.  1', 'See both films if you can.  1', 'It was that year, however, that reminded us that Huston was still at the top of his game as evinced by his faithful adaptation of James Joyce\\'s acclaimed novella \"The Dead.  1', \"Feelings, thoughts...Gabriel's discomfort during the dance...all these intangibles leap to life and come within the viewer's grasp in Huston's portrayal.  1\", 'Very disappointed and wondered how it could be in the Oscar shortlist.  0', \"It's very slow.  0\", \"Lot of holes in the plot: there's nothing about how he became the emperor; nothing about where he spend 20 years between his childhood and mature age.  0\", \") Don't waste your time.  0\", \"End of Days is one of the worst big-budget action movies I've ever seen.  0\", \"He surely doesn't know how to make a coherent action movie from the screenwriter of Air Force One who was only obliged to write the script just for a big sum of money.  0\", 'This was one of the worst films i have ever seen.  0', \"I'm still trying to get over how bad it was.  0\", 'This movie is possibly one of the most creative works of horror ever.  1', \"It has everything you could want... suspense, drama, comedy, confusing subplots, native americans, brain eating... If you're looking for the be-all, end-all of brainsucking movies, look no further.  1\", '\" With great sound effects, and impressive special effects, I can\\'t recommend this movie enough.  1', 'Call me a nut, but I think this is one of the best movies ever.  1', 'Great character actors Telly Savalas and Peter Boyle.  1', '1 hour 54 minutes of sheer tedium, melodrama and horrible acting, a mess of a script, and a sinking feeling of GOOD LORD, WHAT WERE THEY THINKING?  0', 'Lots of holes in the script.  0', \"It's like a bad two hour TV movie.  0\", 'Now imagine that every single one of those decisions was made wrong.  0', 'The dialogue is atrocious.  0', 'The acting is beyond abysmal.  0', 'Everything stinks.  0', 'Trouble is, the writing and directing make it impossible to establish those things that make a movie watchable, like character, story, theme and so on.  0', \"Worse, there's an incredibly weak sub-plot thrown in that follows a little band of latter-day Mansonites as they go after a reporter who's working on a story on the anniversary of the killings.  0\", \"It's dumb and pointless, and a complete waste of time.  0\", \"In short, don't bother with this movie.  0\", \"I won't spoil it, but the ending in pretty amazing.  1\", \"The best scene in the movie is at the end, but I won't spoil it.  1\", \"If there was ever an indication of a writer and a director's ability to meld two highly volatile temperaments into a seamless union of creativity, then this is it!  1\", \"The result is a powerhouse achievement, made more timely now perhaps because of our culture's disturbing fascination with celebrity, and it's distorted interpretations of fame.  1\", 'A film not easily forgotten.  1', 'But, Kevin Spacey is an excellent, verbal tsunami as Buddy Ackerman \\x96 and totally believable because he is a great actor.  1', 'The scripting of the subtle comedy is unmatched by any movie in recent years.  1', 'The characters are interesting, even if a bit predictable.  1', 'Highly recommended for all ages, although the younger set will probably not appreciate some of the more subtle references, they will certainly appreciate one galley scene in particular!  1', 'Great movie!  1', 'Also the story and acting were weak.  0', \"At around 4 pm I bought it, at around 8pm I started to watch, at around 8.15pm I fast forwarded the remaining film to see if there was anything left watchable for a human being with a brain... but there wasn't.  0\", 'Either way, it sucks.  0', 'The script is horrendously stupid.  0', 'The story starts too fast with absolutely no suspense or build-up in the slightest.  0', 'Everything Captain Howdy says is either laughable or just plain stupid.  0', 'What the hell kind of crap is that?!  0', \"Then, there's the plot holes.  0\", 'You could drive a semi truck into these holes!  0', 'Linda Cardellini is the only thing good in this film.  1', \"She's poised and amazing.  1\", 'Dee Snider just plain sucks.  0', \"He can't act (one of the least scary villains I have ever seen), he can't write (did he write this damn movie in his sleep?  0\", 'I was bored throughout the whole damn thing.  0', 'The acting sucks, the music sucks, the script sucks, the pacing sucks, the special FX suck, the directing sucks... basically, this movie sucks.  0', 'This film tries to be a serious and sophisticated thriller/horror flick and it fails miserably.  0', 'This is probably one of the least effective and utterly unoriginal films I have ever seen in my entire life.  0', 'A piece of cinematic garbage captured on celluloid.  0', 'Avoid at any and all costs.  0', 'At any rate this film stinks, its not funny, and Fulci should have stayed with giallo and supernatural zombie movies.  0', 'Avoid this film at all costs.  0', \"I don't know what happened in Season Five, what a mess.  0\", 'The only consistent thread holding the series together were the amazing performances of Leni Parker and Anita LaSelva as the two Taelons in quiet idealogical conflict.  0', 'Now this is a movie I really dislike.  0', \"It's one of the most boring Horror movies from the 90's mainly because it starts slow and centers in a boring atmosphere.  0\", \"The puppets look really cheesy , not in a good way like in the Puppet Master 80's flicks.  0\", 'The story is lame, not interesting and NEVER really explains the sinister origins of the puppets.  0', \"There aren't death scenes like in previous movies and the f/x are terrible.  0\", 'I felt asleep the first time I watched it, so I can recommend it for insomniacs.  0', 'The fact is, this film is a wonderful, heartwarming tale about two people chasing their dreams.  1', 'The best part about \"Nurse Betty\" is it\\'s unpredictability.  1', 'Director Neil LaBute uses brutal violence to seperate dreams from reality, and along with the touching drama, and hilarious comedy, you can never tell what is going to happen next.  1', \"Otherwise, don't even waste your time on this.  0\", 'This one just fails to create any real suspense.  0', \"As for the killer, don't expect anything original or even remotely frightening.  0\", 'There is, however, some pretty good acting (at least, for this type of film).  1', \"I'm so sorry but I really can't recommend it to anyone.  0\", 'One of the most boring,pointless movies I have ever seen.  0', 'The secondary plot line is incomprehensible and its relation to the primary plot line is mystifying.  0', 'Hated it.  0', 'This is one of the worst Sandra Bullock movie since Speed 2 But not quite that bad.  0', \"I don't understand how this garbage got on the shelves of the movie store, it's not even a real movie!  0\", 'I highly doubt that anyone could ever like this trash.  0', 'This is not movie-making.  0', \"The acting is like watching wooden puppets moving around and reading from a book, that's how bad it is.  0\", 'So I am here to warn you--DO NOT RENT THIS MOVIE, it is the dumbest thing you have never seen!  0', 'I saw this short film on HBO the other day and absolutely loved it.  1', \"I didn't realize how wonderful the short really is until the last two scenes.  1\", 'Excellent short film.  1', 'Hopefully, the director James Cox can turn the short into a feature length film with the same cast, or win us over with a whole new film.  1', 'I agree with Jessica, this movie is pretty bad.  0', 'Characters are one-dimensional, even the good guys and especially the bad guys.  0', 'The story line is totally predictable.  0', 'Not much dialogue, not much music, the whole film was shot as elaborately and aesthetically like a sculpture.  1', \"I've seen soap operas more intelligent than this movie.  0\", 'Bad characters, bad story and bad acting.  0', 'Really awful.  0', 'Not easy to watch.  0', \"Funny, clever, hip - just like Pray's previous film, Hype!  1\", \"It was a long time that i didn't see a so charismatic actor on screen.  1\", 'Paolo Sorrentino has written a wonderful story about loneliness and Tony has built one of the most unforgettable characters seen in movies in recent years.  1', \"The movie is not completely perfect but 'Titta Di Girolamo' will stay with you for a long time after the vision of the movie.  1\", 'I rate this movie 9/10.  1', \"I do not know if this was Emilio Estevez's directorial debut, but the pacing, the interplay and development of the characters as well as some clever camera work surrounding the character Estevez plays all suggest a natural eye.  1\", 'The interplay between Martin and Emilio contains the same wonderful chemistry we saw in Wall Street with Martin and Charlie.  1', 'Kathy Bates is wonderful in her characters subtle desperation and escapism; a variation on her character in \"At Play In The Fields Of The Lord\".  1', \"For readers who have already seen one of Miyazaki's films: he is still in top form and made another worthwhile experience.  1\", 'It never condescends, all the characters have good genuine hearts and believable problems.  1', 'The two main characters may be two of the most believable children I ever saw put on screen.  1', 'They are so easy to love, but even more easy to identify with.  1', 'This movie is great--especially if you enjoy visual arts.  1', 'The scenery that the two daughters paint and photograph are beautiful.  1', 'The story is also both funny and poignant at times.  1', 'People who like European films and \"art movies\" will like this movie.  1', 'This is truly an art movie--it actually has a lot of art in it.  1', 'Go rent it.  1', 'However, after finally watching this film, I realized that not only had I had a closed mind to the brilliance it depicts, I also found myself watching it over and over again.  1', \"It's the one movie that never ceases to interest me, simply because it keeps me alert, as I try to attempt to decipher it's meanings.  1\", 'Brilliance indeed.  1', \"But if you liked movies like The Matrix (and better yet, their sequels) I think you'll appreciate the thought provoking, mindblowing experience this film will give you.  1\", 'Think of the film being like a dream.  1', 'Simply beautiful.  1', \"Both Rickman and Stowe play their roles to the hilt in this tale of a childrens' book writer who-- maybe?-- has written a subversive tract.  1\", \"It's a gloriously fun, fast paced and fairly accurate portrayal of the night of a raver.  1\", 'It presents a idyllic yet serious portrayal of the ups and downs of the characters lives.  1', 'Just whatever you do, avoid \"Groove\" as its the antithesis of all that is good about Human Traffic.  0', \"It's too bad that everyone else involved didn't share Crowe's level of dedication to quality, for if they did, we'd have a far better film on our hands than this sub-par mess.  0\", 'The movie seemed a little slow at first.  0', 'But it picked up speed and got right to the point.  1', 'It showed exactly how the government and the scientist argued for humanity and the reasons of the \"gadget\".  1', 'I enjoyed it.  1', 'I have recommended it to friends.  1', 'I was particularly pleased with the acting ability of Dwight Schultz.  1', 'Both actors truly understand and become their particular character, delivering a convincing, sincere performance.  1', 'Their on-screen chemistry, critical to the entire film, is genuine.  1', \"The film's dialogue is natural, real to life.  1\", 'The writer, Gorman Bechard, undoubtedly did his homework because all references are industry and character-age appropriate.  1', 'The incredible soundtrack truly captures the essence of the film.  1', 'Each track commands sentiment, actually contributing to the scenes and characters.  1', \"Definitely worth seeing\\x85 it's the sort of thought provoking film that forces you to question your own threshold of loneliness.  1\", 'Hayao Miyazaki\\'s latest and eighth film for Studio Ghibili, \"Gake No Ue No Ponyo\" (Ponyo on the Cliff by the Sea) is a wonderfully fun and imaginative look at childhood.  1', \"At a time when it seems that film animation has been dominated by Disney/Pixar's CGI masterpieces, it is both refreshing and comforting to know that Miyazaki is still relying on traditional hand-drawn animation to tell his charming and enchanting stories.  1\", 'Enough can not be said of the remarkable animation in this film.  1', 'The art style has the appearance of crayon/pencil drawings and is wonderfully colorful and fanciful.  1', \"If you act in such a film, you should be glad that you're gonna drift away from earth as far as possible!  0\", 'This one wants to surf on the small wave of space movies in 1998 (Deep Impact and Armageddon), and this one fails everywhere.  0', \"If you haven't choked in your own vomit by the end (by all the cheap drama and worthless dialogue) you've must have bored yourself to death with this waste of time.  0\", 'Still, it makes up for all of this with a super ending that depicts a great sea vessel being taken out by the mighty frost.  1', 'Just consider the excellent story, solid acting and look of the film as added bonuses.  1', 'Instead, we got a bore fest about a whiny, spoiled brat babysitting.  0', 'Then I watched it again two Sundays ago (March 20th, 2005) and I began to really enjoy it and this time I taped the entire thing.  1', 'It is a very well acted and done TV Movie.  1', 'Judith Light is one of my favorite actresses and I think she does a superb job in this film!  1', 'I keep watching it over and over.  1', \"It's a sad movie, but very good.  1\", 'If you have not seen this movie, I definitely recommend it!  1', 'She is as lovely as usual, this cutie!  1', \"Still it's quite interesting and entertaining to follow.  1\", ';) Recommend with confidence!  1', 'This movie is well-balanced with comedy and drama and I thoroughly enjoyed myself.  1', \"It was a riot to see Hugo Weaving play a sex-obsessed gay real estate salesman who uses his clients' houses for his trysts with the flaming Darren (Tom Hollander).  1\", ':) Anyway, the plot flowed smoothly and the male-bonding scenes were a hoot.  1', 'The opening sequence of this gem is a classic, and the cat n mouse games that follow are a delight to watch.  1', 'Fans of the genre will be in heaven.  1', 'Lange had become a great actress.  1', 'It looked like a wonderful story.  1', 'I never walked out of a movie faster.  0', 'I just got bored watching Jessice Lange take her clothes off!  0', \"Unfortunately, any virtue in this film's production work was lost on a regrettable script.  0\", 'In a word, it is embarrassing.  0', 'Exceptionally bad!  0', \"All in all its an insult to one's intelligence and a huge waste of money.  \\t0\\n\"]\n"
     ]
    }
   ],
   "source": [
    "print(all_data)"
   ]
  },
  {
   "cell_type": "code",
   "execution_count": 321,
   "metadata": {},
   "outputs": [
    {
     "data": {
      "text/html": [
       "<div>\n",
       "<style scoped>\n",
       "    .dataframe tbody tr th:only-of-type {\n",
       "        vertical-align: middle;\n",
       "    }\n",
       "\n",
       "    .dataframe tbody tr th {\n",
       "        vertical-align: top;\n",
       "    }\n",
       "\n",
       "    .dataframe thead th {\n",
       "        text-align: right;\n",
       "    }\n",
       "</style>\n",
       "<table border=\"1\" class=\"dataframe\">\n",
       "  <thead>\n",
       "    <tr style=\"text-align: right;\">\n",
       "      <th></th>\n",
       "      <th>text</th>\n",
       "      <th>senti</th>\n",
       "    </tr>\n",
       "  </thead>\n",
       "  <tbody>\n",
       "    <tr>\n",
       "      <th>0</th>\n",
       "      <td>So there is no way for me to plug it in here i...</td>\n",
       "      <td>0</td>\n",
       "    </tr>\n",
       "    <tr>\n",
       "      <th>1</th>\n",
       "      <td>Good case, Excellent value.</td>\n",
       "      <td>1</td>\n",
       "    </tr>\n",
       "    <tr>\n",
       "      <th>2</th>\n",
       "      <td>Great for the jawbone.</td>\n",
       "      <td>1</td>\n",
       "    </tr>\n",
       "    <tr>\n",
       "      <th>3</th>\n",
       "      <td>Tied to charger for conversations lasting more...</td>\n",
       "      <td>0</td>\n",
       "    </tr>\n",
       "    <tr>\n",
       "      <th>4</th>\n",
       "      <td>The mic is great.</td>\n",
       "      <td>1</td>\n",
       "    </tr>\n",
       "    <tr>\n",
       "      <th>5</th>\n",
       "      <td>I have to jiggle the plug to get it to line up...</td>\n",
       "      <td>0</td>\n",
       "    </tr>\n",
       "    <tr>\n",
       "      <th>6</th>\n",
       "      <td>If you have several dozen or several hundred c...</td>\n",
       "      <td>0</td>\n",
       "    </tr>\n",
       "    <tr>\n",
       "      <th>7</th>\n",
       "      <td>If you are Razr owner...you must have this!</td>\n",
       "      <td>1</td>\n",
       "    </tr>\n",
       "    <tr>\n",
       "      <th>8</th>\n",
       "      <td>Needless to say, I wasted my money.</td>\n",
       "      <td>0</td>\n",
       "    </tr>\n",
       "    <tr>\n",
       "      <th>9</th>\n",
       "      <td>What a waste of money and time!.</td>\n",
       "      <td>0</td>\n",
       "    </tr>\n",
       "    <tr>\n",
       "      <th>10</th>\n",
       "      <td>And the sound quality is great.</td>\n",
       "      <td>1</td>\n",
       "    </tr>\n",
       "    <tr>\n",
       "      <th>11</th>\n",
       "      <td>He was very impressed when going from the orig...</td>\n",
       "      <td>1</td>\n",
       "    </tr>\n",
       "    <tr>\n",
       "      <th>12</th>\n",
       "      <td>If the two were seperated by a mere 5+ ft I st...</td>\n",
       "      <td>0</td>\n",
       "    </tr>\n",
       "    <tr>\n",
       "      <th>13</th>\n",
       "      <td>Very good quality though</td>\n",
       "      <td>1</td>\n",
       "    </tr>\n",
       "    <tr>\n",
       "      <th>14</th>\n",
       "      <td>The design is very odd, as the ear \"clip\" is n...</td>\n",
       "      <td>0</td>\n",
       "    </tr>\n",
       "    <tr>\n",
       "      <th>15</th>\n",
       "      <td>Highly recommend for any one who has a blue to...</td>\n",
       "      <td>1</td>\n",
       "    </tr>\n",
       "    <tr>\n",
       "      <th>16</th>\n",
       "      <td>I advise EVERYONE DO NOT BE FOOLED!</td>\n",
       "      <td>0</td>\n",
       "    </tr>\n",
       "    <tr>\n",
       "      <th>17</th>\n",
       "      <td>So Far So Good!.</td>\n",
       "      <td>1</td>\n",
       "    </tr>\n",
       "    <tr>\n",
       "      <th>18</th>\n",
       "      <td>Works great!.</td>\n",
       "      <td>1</td>\n",
       "    </tr>\n",
       "    <tr>\n",
       "      <th>19</th>\n",
       "      <td>It clicks into place in a way that makes you w...</td>\n",
       "      <td>0</td>\n",
       "    </tr>\n",
       "    <tr>\n",
       "      <th>20</th>\n",
       "      <td>I went on Motorola's website and followed all ...</td>\n",
       "      <td>0</td>\n",
       "    </tr>\n",
       "    <tr>\n",
       "      <th>21</th>\n",
       "      <td>I bought this to use with my Kindle Fire and a...</td>\n",
       "      <td>1</td>\n",
       "    </tr>\n",
       "    <tr>\n",
       "      <th>22</th>\n",
       "      <td>The commercials are the most misleading.</td>\n",
       "      <td>0</td>\n",
       "    </tr>\n",
       "    <tr>\n",
       "      <th>23</th>\n",
       "      <td>I have yet to run this new battery below two b...</td>\n",
       "      <td>1</td>\n",
       "    </tr>\n",
       "    <tr>\n",
       "      <th>24</th>\n",
       "      <td>I bought it for my mother and she had a proble...</td>\n",
       "      <td>0</td>\n",
       "    </tr>\n",
       "    <tr>\n",
       "      <th>25</th>\n",
       "      <td>Great Pocket PC / phone combination.</td>\n",
       "      <td>1</td>\n",
       "    </tr>\n",
       "    <tr>\n",
       "      <th>26</th>\n",
       "      <td>I've owned this phone for 7 months now and can...</td>\n",
       "      <td>1</td>\n",
       "    </tr>\n",
       "    <tr>\n",
       "      <th>27</th>\n",
       "      <td>I didn't think that the instructions provided ...</td>\n",
       "      <td>0</td>\n",
       "    </tr>\n",
       "    <tr>\n",
       "      <th>28</th>\n",
       "      <td>People couldnt hear me talk and I had to pull ...</td>\n",
       "      <td>0</td>\n",
       "    </tr>\n",
       "    <tr>\n",
       "      <th>29</th>\n",
       "      <td>Doesn't hold charge.</td>\n",
       "      <td>0</td>\n",
       "    </tr>\n",
       "    <tr>\n",
       "      <th>...</th>\n",
       "      <td>...</td>\n",
       "      <td>...</td>\n",
       "    </tr>\n",
       "    <tr>\n",
       "      <th>2970</th>\n",
       "      <td>Enough can not be said of the remarkable anima...</td>\n",
       "      <td>1</td>\n",
       "    </tr>\n",
       "    <tr>\n",
       "      <th>2971</th>\n",
       "      <td>The art style has the appearance of crayon/pen...</td>\n",
       "      <td>1</td>\n",
       "    </tr>\n",
       "    <tr>\n",
       "      <th>2972</th>\n",
       "      <td>If you act in such a film, you should be glad ...</td>\n",
       "      <td>0</td>\n",
       "    </tr>\n",
       "    <tr>\n",
       "      <th>2973</th>\n",
       "      <td>This one wants to surf on the small wave of sp...</td>\n",
       "      <td>0</td>\n",
       "    </tr>\n",
       "    <tr>\n",
       "      <th>2974</th>\n",
       "      <td>If you haven't choked in your own vomit by the...</td>\n",
       "      <td>0</td>\n",
       "    </tr>\n",
       "    <tr>\n",
       "      <th>2975</th>\n",
       "      <td>Still, it makes up for all of this with a supe...</td>\n",
       "      <td>1</td>\n",
       "    </tr>\n",
       "    <tr>\n",
       "      <th>2976</th>\n",
       "      <td>Just consider the excellent story, solid actin...</td>\n",
       "      <td>1</td>\n",
       "    </tr>\n",
       "    <tr>\n",
       "      <th>2977</th>\n",
       "      <td>Instead, we got a bore fest about a whiny, spo...</td>\n",
       "      <td>0</td>\n",
       "    </tr>\n",
       "    <tr>\n",
       "      <th>2978</th>\n",
       "      <td>Then I watched it again two Sundays ago (March...</td>\n",
       "      <td>1</td>\n",
       "    </tr>\n",
       "    <tr>\n",
       "      <th>2979</th>\n",
       "      <td>It is a very well acted and done TV Movie.</td>\n",
       "      <td>1</td>\n",
       "    </tr>\n",
       "    <tr>\n",
       "      <th>2980</th>\n",
       "      <td>Judith Light is one of my favorite actresses a...</td>\n",
       "      <td>1</td>\n",
       "    </tr>\n",
       "    <tr>\n",
       "      <th>2981</th>\n",
       "      <td>I keep watching it over and over.</td>\n",
       "      <td>1</td>\n",
       "    </tr>\n",
       "    <tr>\n",
       "      <th>2982</th>\n",
       "      <td>It's a sad movie, but very good.</td>\n",
       "      <td>1</td>\n",
       "    </tr>\n",
       "    <tr>\n",
       "      <th>2983</th>\n",
       "      <td>If you have not seen this movie, I definitely ...</td>\n",
       "      <td>1</td>\n",
       "    </tr>\n",
       "    <tr>\n",
       "      <th>2984</th>\n",
       "      <td>She is as lovely as usual, this cutie!</td>\n",
       "      <td>1</td>\n",
       "    </tr>\n",
       "    <tr>\n",
       "      <th>2985</th>\n",
       "      <td>Still it's quite interesting and entertaining ...</td>\n",
       "      <td>1</td>\n",
       "    </tr>\n",
       "    <tr>\n",
       "      <th>2986</th>\n",
       "      <td>;) Recommend with confidence!</td>\n",
       "      <td>1</td>\n",
       "    </tr>\n",
       "    <tr>\n",
       "      <th>2987</th>\n",
       "      <td>This movie is well-balanced with comedy and dr...</td>\n",
       "      <td>1</td>\n",
       "    </tr>\n",
       "    <tr>\n",
       "      <th>2988</th>\n",
       "      <td>It was a riot to see Hugo Weaving play a sex-o...</td>\n",
       "      <td>1</td>\n",
       "    </tr>\n",
       "    <tr>\n",
       "      <th>2989</th>\n",
       "      <td>:) Anyway, the plot flowed smoothly and the ma...</td>\n",
       "      <td>1</td>\n",
       "    </tr>\n",
       "    <tr>\n",
       "      <th>2990</th>\n",
       "      <td>The opening sequence of this gem is a classic,...</td>\n",
       "      <td>1</td>\n",
       "    </tr>\n",
       "    <tr>\n",
       "      <th>2991</th>\n",
       "      <td>Fans of the genre will be in heaven.</td>\n",
       "      <td>1</td>\n",
       "    </tr>\n",
       "    <tr>\n",
       "      <th>2992</th>\n",
       "      <td>Lange had become a great actress.</td>\n",
       "      <td>1</td>\n",
       "    </tr>\n",
       "    <tr>\n",
       "      <th>2993</th>\n",
       "      <td>It looked like a wonderful story.</td>\n",
       "      <td>1</td>\n",
       "    </tr>\n",
       "    <tr>\n",
       "      <th>2994</th>\n",
       "      <td>I never walked out of a movie faster.</td>\n",
       "      <td>0</td>\n",
       "    </tr>\n",
       "    <tr>\n",
       "      <th>2995</th>\n",
       "      <td>I just got bored watching Jessice Lange take h...</td>\n",
       "      <td>0</td>\n",
       "    </tr>\n",
       "    <tr>\n",
       "      <th>2996</th>\n",
       "      <td>Unfortunately, any virtue in this film's produ...</td>\n",
       "      <td>0</td>\n",
       "    </tr>\n",
       "    <tr>\n",
       "      <th>2997</th>\n",
       "      <td>In a word, it is embarrassing.</td>\n",
       "      <td>0</td>\n",
       "    </tr>\n",
       "    <tr>\n",
       "      <th>2998</th>\n",
       "      <td>Exceptionally bad!</td>\n",
       "      <td>0</td>\n",
       "    </tr>\n",
       "    <tr>\n",
       "      <th>2999</th>\n",
       "      <td>All in all its an insult to one's intelligence...</td>\n",
       "      <td>0</td>\n",
       "    </tr>\n",
       "  </tbody>\n",
       "</table>\n",
       "<p>3000 rows × 2 columns</p>\n",
       "</div>"
      ],
      "text/plain": [
       "                                                   text senti\n",
       "0     So there is no way for me to plug it in here i...     0\n",
       "1                           Good case, Excellent value.     1\n",
       "2                                Great for the jawbone.     1\n",
       "3     Tied to charger for conversations lasting more...     0\n",
       "4                                     The mic is great.     1\n",
       "5     I have to jiggle the plug to get it to line up...     0\n",
       "6     If you have several dozen or several hundred c...     0\n",
       "7           If you are Razr owner...you must have this!     1\n",
       "8                   Needless to say, I wasted my money.     0\n",
       "9                      What a waste of money and time!.     0\n",
       "10                      And the sound quality is great.     1\n",
       "11    He was very impressed when going from the orig...     1\n",
       "12    If the two were seperated by a mere 5+ ft I st...     0\n",
       "13                             Very good quality though     1\n",
       "14    The design is very odd, as the ear \"clip\" is n...     0\n",
       "15    Highly recommend for any one who has a blue to...     1\n",
       "16                  I advise EVERYONE DO NOT BE FOOLED!     0\n",
       "17                                     So Far So Good!.     1\n",
       "18                                        Works great!.     1\n",
       "19    It clicks into place in a way that makes you w...     0\n",
       "20    I went on Motorola's website and followed all ...     0\n",
       "21    I bought this to use with my Kindle Fire and a...     1\n",
       "22             The commercials are the most misleading.     0\n",
       "23    I have yet to run this new battery below two b...     1\n",
       "24    I bought it for my mother and she had a proble...     0\n",
       "25                 Great Pocket PC / phone combination.     1\n",
       "26    I've owned this phone for 7 months now and can...     1\n",
       "27    I didn't think that the instructions provided ...     0\n",
       "28    People couldnt hear me talk and I had to pull ...     0\n",
       "29                                 Doesn't hold charge.     0\n",
       "...                                                 ...   ...\n",
       "2970  Enough can not be said of the remarkable anima...     1\n",
       "2971  The art style has the appearance of crayon/pen...     1\n",
       "2972  If you act in such a film, you should be glad ...     0\n",
       "2973  This one wants to surf on the small wave of sp...     0\n",
       "2974  If you haven't choked in your own vomit by the...     0\n",
       "2975  Still, it makes up for all of this with a supe...     1\n",
       "2976  Just consider the excellent story, solid actin...     1\n",
       "2977  Instead, we got a bore fest about a whiny, spo...     0\n",
       "2978  Then I watched it again two Sundays ago (March...     1\n",
       "2979       It is a very well acted and done TV Movie.       1\n",
       "2980  Judith Light is one of my favorite actresses a...     1\n",
       "2981                I keep watching it over and over.       1\n",
       "2982                 It's a sad movie, but very good.       1\n",
       "2983  If you have not seen this movie, I definitely ...     1\n",
       "2984           She is as lovely as usual, this cutie!       1\n",
       "2985  Still it's quite interesting and entertaining ...     1\n",
       "2986                    ;) Recommend with confidence!       1\n",
       "2987  This movie is well-balanced with comedy and dr...     1\n",
       "2988  It was a riot to see Hugo Weaving play a sex-o...     1\n",
       "2989  :) Anyway, the plot flowed smoothly and the ma...     1\n",
       "2990  The opening sequence of this gem is a classic,...     1\n",
       "2991             Fans of the genre will be in heaven.       1\n",
       "2992                Lange had become a great actress.       1\n",
       "2993                It looked like a wonderful story.       1\n",
       "2994            I never walked out of a movie faster.       0\n",
       "2995  I just got bored watching Jessice Lange take h...     0\n",
       "2996  Unfortunately, any virtue in this film's produ...     0\n",
       "2997                   In a word, it is embarrassing.       0\n",
       "2998                               Exceptionally bad!       0\n",
       "2999  All in all its an insult to one's intelligence...     0\n",
       "\n",
       "[3000 rows x 2 columns]"
      ]
     },
     "execution_count": 321,
     "metadata": {},
     "output_type": "execute_result"
    }
   ],
   "source": [
    "text = []\n",
    "senti = []\n",
    "for i in range(len(all_data)):\n",
    "    a = all_data[i].split('\\t')[0]\n",
    "    b = all_data[i].split('\\t')[1]\n",
    "    text.append(a)\n",
    "    senti.append(b)\n",
    "\n",
    "X_data = pd.DataFrame(text, columns=['text'])\n",
    "X_data['senti'] = senti\n",
    "X_data['senti'][2999]=0\n",
    "X_data"
   ]
  },
  {
   "cell_type": "code",
   "execution_count": 319,
   "metadata": {},
   "outputs": [
    {
     "data": {
      "text/plain": [
       "3000"
      ]
     },
     "execution_count": 319,
     "metadata": {},
     "output_type": "execute_result"
    }
   ],
   "source": [
    "len(all_data)"
   ]
  },
  {
   "cell_type": "markdown",
   "metadata": {},
   "source": [
    "## Data Preprocessing"
   ]
  },
  {
   "cell_type": "markdown",
   "metadata": {},
   "source": [
    "### Feature Creation"
   ]
  },
  {
   "cell_type": "code",
   "execution_count": 322,
   "metadata": {},
   "outputs": [],
   "source": [
    "import nltk"
   ]
  },
  {
   "cell_type": "code",
   "execution_count": 336,
   "metadata": {},
   "outputs": [],
   "source": [
    "from sklearn.feature_extraction.text import CountVectorizer\n",
    "\n",
    "Xcount_vect = CountVectorizer()\n",
    "Xcounts = Xcount_vect.fit_transform(X_data.text)"
   ]
  },
  {
   "cell_type": "code",
   "execution_count": 337,
   "metadata": {},
   "outputs": [
    {
     "data": {
      "text/plain": [
       "['00',\n",
       " '10',\n",
       " '100',\n",
       " '11',\n",
       " '12',\n",
       " '13',\n",
       " '15',\n",
       " '15g',\n",
       " '15pm',\n",
       " '17',\n",
       " '18',\n",
       " '18th',\n",
       " '1928',\n",
       " '1947',\n",
       " '1948',\n",
       " '1949',\n",
       " '1971',\n",
       " '1973',\n",
       " '1979',\n",
       " '1980',\n",
       " '1986',\n",
       " '1995',\n",
       " '1998',\n",
       " '20',\n",
       " '2000',\n",
       " '2005',\n",
       " '2006',\n",
       " '2007',\n",
       " '20th',\n",
       " '2160',\n",
       " '23',\n",
       " '24',\n",
       " '25',\n",
       " '2mp',\n",
       " '30',\n",
       " '30s',\n",
       " '325',\n",
       " '35',\n",
       " '350',\n",
       " '375',\n",
       " '3o',\n",
       " '40',\n",
       " '40min',\n",
       " '42',\n",
       " '44',\n",
       " '45',\n",
       " '4s',\n",
       " '4ths',\n",
       " '50',\n",
       " '5020',\n",
       " '510',\n",
       " '5320',\n",
       " '54',\n",
       " '5lb',\n",
       " '680',\n",
       " '70',\n",
       " '70000',\n",
       " '700w',\n",
       " '70s',\n",
       " '80',\n",
       " '80s',\n",
       " '8125',\n",
       " '85',\n",
       " '8525',\n",
       " '8530',\n",
       " '8pm',\n",
       " '90',\n",
       " '95',\n",
       " '99',\n",
       " 'aailiyah',\n",
       " 'abandoned',\n",
       " 'abhor',\n",
       " 'ability',\n",
       " 'able',\n",
       " 'abound',\n",
       " 'about',\n",
       " 'above',\n",
       " 'abroad',\n",
       " 'absolute',\n",
       " 'absolutel',\n",
       " 'absolutely',\n",
       " 'absolutley',\n",
       " 'abstruse',\n",
       " 'abysmal',\n",
       " 'ac',\n",
       " 'academy',\n",
       " 'accents',\n",
       " 'accept',\n",
       " 'acceptable',\n",
       " 'access',\n",
       " 'accessable',\n",
       " 'accessible',\n",
       " 'accessing',\n",
       " 'accessory',\n",
       " 'accessoryone',\n",
       " 'accident',\n",
       " 'accidentally',\n",
       " 'acclaimed',\n",
       " 'accolades',\n",
       " 'accommodations',\n",
       " 'accomodate',\n",
       " 'accompanied',\n",
       " 'according',\n",
       " 'accordingly',\n",
       " 'accountant',\n",
       " 'accurate',\n",
       " 'accurately',\n",
       " 'accused',\n",
       " 'ache',\n",
       " 'achievement',\n",
       " 'achille',\n",
       " 'ackerman',\n",
       " 'acknowledged',\n",
       " 'across',\n",
       " 'act',\n",
       " 'acted',\n",
       " 'acting',\n",
       " 'action',\n",
       " 'actions',\n",
       " 'activate',\n",
       " 'activated',\n",
       " 'activesync',\n",
       " 'actor',\n",
       " 'actors',\n",
       " 'actress',\n",
       " 'actresses',\n",
       " 'actual',\n",
       " 'actually',\n",
       " 'ad',\n",
       " 'adams',\n",
       " 'adaptation',\n",
       " 'adapter',\n",
       " 'adapters',\n",
       " 'add',\n",
       " 'added',\n",
       " 'addition',\n",
       " 'additional',\n",
       " 'address',\n",
       " 'adhesive',\n",
       " 'admins',\n",
       " 'admiration',\n",
       " 'admitted',\n",
       " 'adorable',\n",
       " 'adrift',\n",
       " 'adventure',\n",
       " 'advertised',\n",
       " 'advise',\n",
       " 'aerial',\n",
       " 'aesthetically',\n",
       " 'affected',\n",
       " 'affleck',\n",
       " 'affordable',\n",
       " 'afraid',\n",
       " 'africa',\n",
       " 'after',\n",
       " 'afternoon',\n",
       " 'again',\n",
       " 'against',\n",
       " 'age',\n",
       " 'aged',\n",
       " 'ages',\n",
       " 'aggravating',\n",
       " 'ago',\n",
       " 'agree',\n",
       " 'agreed',\n",
       " 'ahead',\n",
       " 'aimless',\n",
       " 'air',\n",
       " 'aired',\n",
       " 'airline',\n",
       " 'airport',\n",
       " 'akasha',\n",
       " 'akin',\n",
       " 'ala',\n",
       " 'alarm',\n",
       " 'albondigas',\n",
       " 'alert',\n",
       " 'alexander',\n",
       " 'alike',\n",
       " 'all',\n",
       " 'allergy',\n",
       " 'allison',\n",
       " 'allot',\n",
       " 'allow',\n",
       " 'allowing',\n",
       " 'allows',\n",
       " 'almonds',\n",
       " 'almost',\n",
       " 'alone',\n",
       " 'along',\n",
       " 'alongside',\n",
       " 'alot',\n",
       " 'already',\n",
       " 'also',\n",
       " 'although',\n",
       " 'aluminum',\n",
       " 'always',\n",
       " 'am',\n",
       " 'amateurish',\n",
       " 'amaze',\n",
       " 'amazed',\n",
       " 'amazing',\n",
       " 'amazingly',\n",
       " 'amazon',\n",
       " 'ambiance',\n",
       " 'ambience',\n",
       " 'america',\n",
       " 'american',\n",
       " 'americans',\n",
       " 'among',\n",
       " 'amount',\n",
       " 'amp',\n",
       " 'ample',\n",
       " 'amusing',\n",
       " 'an',\n",
       " 'anatomist',\n",
       " 'and',\n",
       " 'andddd',\n",
       " 'angel',\n",
       " 'angela',\n",
       " 'angeles',\n",
       " 'angelina',\n",
       " 'angle',\n",
       " 'angles',\n",
       " 'angry',\n",
       " 'anguish',\n",
       " 'angus',\n",
       " 'animals',\n",
       " 'animated',\n",
       " 'animation',\n",
       " 'anita',\n",
       " 'ann',\n",
       " 'anne',\n",
       " 'anniversary',\n",
       " 'annoying',\n",
       " 'another',\n",
       " 'answer',\n",
       " 'ant',\n",
       " 'antena',\n",
       " 'anthony',\n",
       " 'anti',\n",
       " 'anticipated',\n",
       " 'antithesis',\n",
       " 'any',\n",
       " 'anymore',\n",
       " 'anyone',\n",
       " 'anything',\n",
       " 'anytime',\n",
       " 'anyway',\n",
       " 'anyways',\n",
       " 'anywhere',\n",
       " 'apart',\n",
       " 'apartment',\n",
       " 'apologize',\n",
       " 'apology',\n",
       " 'app',\n",
       " 'appalling',\n",
       " 'apparently',\n",
       " 'appealing',\n",
       " 'appearance',\n",
       " 'appears',\n",
       " 'appetite',\n",
       " 'appetizer',\n",
       " 'appetizers',\n",
       " 'applauded',\n",
       " 'applause',\n",
       " 'apple',\n",
       " 'applifies',\n",
       " 'appointments',\n",
       " 'appreciate',\n",
       " 'appropriate',\n",
       " 'approval',\n",
       " 'apt',\n",
       " 'are',\n",
       " 'area',\n",
       " 'aren',\n",
       " 'arepas',\n",
       " 'argued',\n",
       " 'arguing',\n",
       " 'aria',\n",
       " 'armageddon',\n",
       " 'armand',\n",
       " 'armband',\n",
       " 'around',\n",
       " 'array',\n",
       " 'arrival',\n",
       " 'arrived',\n",
       " 'arrives',\n",
       " 'arriving',\n",
       " 'art',\n",
       " 'article',\n",
       " 'articulated',\n",
       " 'artiness',\n",
       " 'artist',\n",
       " 'artistic',\n",
       " 'artless',\n",
       " 'arts',\n",
       " 'as',\n",
       " 'asia',\n",
       " 'aside',\n",
       " 'ask',\n",
       " 'asked',\n",
       " 'asking',\n",
       " 'asleep',\n",
       " 'aspect',\n",
       " 'aspects',\n",
       " 'ass',\n",
       " 'assante',\n",
       " 'assaulted',\n",
       " 'assistant',\n",
       " 'assumed',\n",
       " 'assure',\n",
       " 'astonishingly',\n",
       " 'astronaut',\n",
       " 'at',\n",
       " 'ate',\n",
       " 'atleast',\n",
       " 'atmosphere',\n",
       " 'atrocious',\n",
       " 'atrocity',\n",
       " 'att',\n",
       " 'attached',\n",
       " 'attack',\n",
       " 'attacked',\n",
       " 'attempt',\n",
       " 'attempted',\n",
       " 'attempting',\n",
       " 'attempts',\n",
       " 'attention',\n",
       " 'attentive',\n",
       " 'attitudes',\n",
       " 'attractive',\n",
       " 'audience',\n",
       " 'audio',\n",
       " 'auju',\n",
       " 'aurvåg',\n",
       " 'austen',\n",
       " 'austere',\n",
       " 'authentic',\n",
       " 'author',\n",
       " 'auto',\n",
       " 'available',\n",
       " 'average',\n",
       " 'aversion',\n",
       " 'avocado',\n",
       " 'avoid',\n",
       " 'avoided',\n",
       " 'avoiding',\n",
       " 'award',\n",
       " 'awarded',\n",
       " 'awards',\n",
       " 'away',\n",
       " 'awesome',\n",
       " 'awful',\n",
       " 'awkward',\n",
       " 'awkwardly',\n",
       " 'awsome',\n",
       " 'ayce',\n",
       " 'aye',\n",
       " 'az',\n",
       " 'baaaaaad',\n",
       " 'baba',\n",
       " 'babbling',\n",
       " 'babie',\n",
       " 'baby',\n",
       " 'babysitting',\n",
       " 'bachi',\n",
       " 'back',\n",
       " 'backdrop',\n",
       " 'backed',\n",
       " 'background',\n",
       " 'backlight',\n",
       " 'bacon',\n",
       " 'bad',\n",
       " 'badly',\n",
       " 'bag',\n",
       " 'bagels',\n",
       " 'bailey',\n",
       " 'bakery',\n",
       " 'baklava',\n",
       " 'balance',\n",
       " 'balanced',\n",
       " 'ball',\n",
       " 'ballet',\n",
       " 'balls',\n",
       " 'bamboo',\n",
       " 'banana',\n",
       " 'band',\n",
       " 'bank',\n",
       " 'bar',\n",
       " 'barcelona',\n",
       " 'bare',\n",
       " 'barely',\n",
       " 'bargain',\n",
       " 'barking',\n",
       " 'barney',\n",
       " 'barren',\n",
       " 'bars',\n",
       " 'bartender',\n",
       " 'bartenders',\n",
       " 'baseball',\n",
       " 'based',\n",
       " 'basement',\n",
       " 'basic',\n",
       " 'basically',\n",
       " 'bat',\n",
       " 'batch',\n",
       " 'bates',\n",
       " 'bathroom',\n",
       " 'bathrooms',\n",
       " 'batter',\n",
       " 'batteries',\n",
       " 'battery',\n",
       " 'baxendale',\n",
       " 'bay',\n",
       " 'bbq',\n",
       " 'be',\n",
       " 'bean',\n",
       " 'beans',\n",
       " 'bear',\n",
       " 'beat',\n",
       " 'beateous',\n",
       " 'beats',\n",
       " 'beautiful',\n",
       " 'beautifully',\n",
       " 'beauty',\n",
       " 'became',\n",
       " 'because',\n",
       " 'bechard',\n",
       " 'become',\n",
       " 'becomes',\n",
       " 'bed',\n",
       " 'beef',\n",
       " 'been',\n",
       " 'beep',\n",
       " 'beeping',\n",
       " 'beer',\n",
       " 'beers',\n",
       " 'before',\n",
       " 'began',\n",
       " 'begin',\n",
       " 'beginning',\n",
       " 'behind',\n",
       " 'behing',\n",
       " 'behold',\n",
       " 'being',\n",
       " 'bela',\n",
       " 'believable',\n",
       " 'believe',\n",
       " 'believed',\n",
       " 'bell',\n",
       " 'bellagio',\n",
       " 'bellies',\n",
       " 'bells',\n",
       " 'bellucci',\n",
       " 'belly',\n",
       " 'belmondo',\n",
       " 'below',\n",
       " 'belt',\n",
       " 'ben',\n",
       " 'bend',\n",
       " 'bendingly',\n",
       " 'bennett',\n",
       " 'bergen',\n",
       " 'bertolucci',\n",
       " 'besides',\n",
       " 'best',\n",
       " 'better',\n",
       " 'betty',\n",
       " 'between',\n",
       " 'beware',\n",
       " 'beyond',\n",
       " 'bible',\n",
       " 'big',\n",
       " 'bigger',\n",
       " 'biggest',\n",
       " 'bill',\n",
       " 'bills',\n",
       " 'billy',\n",
       " 'binge',\n",
       " 'biographical',\n",
       " 'bipolarity',\n",
       " 'bird',\n",
       " 'biscuit',\n",
       " 'biscuits',\n",
       " 'bisque',\n",
       " 'bit',\n",
       " 'bitches',\n",
       " 'bitchy',\n",
       " 'bite',\n",
       " 'bites',\n",
       " 'bitpim',\n",
       " 'bits',\n",
       " 'black',\n",
       " 'blackberry',\n",
       " 'blacktop',\n",
       " 'blah',\n",
       " 'blake',\n",
       " 'blame',\n",
       " 'bland',\n",
       " 'blandest',\n",
       " 'blandly',\n",
       " 'blanket',\n",
       " 'blare',\n",
       " 'blatant',\n",
       " 'blew',\n",
       " 'block',\n",
       " 'bloddy',\n",
       " 'blood',\n",
       " 'bloodiest',\n",
       " 'bloody',\n",
       " 'blow',\n",
       " 'blown',\n",
       " 'blows',\n",
       " 'blue',\n",
       " 'blueant',\n",
       " 'bluetoooth',\n",
       " 'bluetooth',\n",
       " 'bluetooths',\n",
       " 'blush',\n",
       " 'bmw',\n",
       " 'boasts',\n",
       " 'bob',\n",
       " 'boba',\n",
       " 'bodes',\n",
       " 'body',\n",
       " 'bohemian',\n",
       " 'boiled',\n",
       " 'boiling',\n",
       " 'bold',\n",
       " 'bombardments',\n",
       " 'bond',\n",
       " 'bonding',\n",
       " 'bone',\n",
       " 'bonus',\n",
       " 'bonuses',\n",
       " 'boobs',\n",
       " 'boogeyman',\n",
       " 'book',\n",
       " 'booking',\n",
       " 'boost',\n",
       " 'boot',\n",
       " 'bop',\n",
       " 'bordered',\n",
       " 'borderlines',\n",
       " 'borders',\n",
       " 'bore',\n",
       " 'bored',\n",
       " 'boring',\n",
       " 'borrowed',\n",
       " 'bose',\n",
       " 'boss',\n",
       " 'both',\n",
       " 'bother',\n",
       " 'bothersome',\n",
       " 'bottom',\n",
       " 'bottowm',\n",
       " 'bouchon',\n",
       " 'bought',\n",
       " 'bougth',\n",
       " 'bowl',\n",
       " 'box',\n",
       " 'boxes',\n",
       " 'boy',\n",
       " 'boyfriend',\n",
       " 'boyle',\n",
       " 'boys',\n",
       " 'brain',\n",
       " 'brainsucking',\n",
       " 'brand',\n",
       " 'brat',\n",
       " 'bread',\n",
       " 'break',\n",
       " 'breakage',\n",
       " 'breakfast',\n",
       " 'breaking',\n",
       " 'breaks',\n",
       " 'breeders',\n",
       " 'breeze',\n",
       " 'brevity',\n",
       " 'brian',\n",
       " 'brick',\n",
       " 'brief',\n",
       " 'brigand',\n",
       " 'bright',\n",
       " 'brilliance',\n",
       " 'brilliant',\n",
       " 'brilliantly',\n",
       " 'bring',\n",
       " 'brings',\n",
       " 'brisket',\n",
       " 'broad',\n",
       " 'broke',\n",
       " 'broken',\n",
       " 'brooding',\n",
       " 'brother',\n",
       " 'brought',\n",
       " 'brownish',\n",
       " 'browser',\n",
       " 'browsing',\n",
       " 'brunch',\n",
       " 'bruschetta',\n",
       " 'brushfire',\n",
       " 'brutal',\n",
       " 'bt',\n",
       " 'bt250v',\n",
       " 'bt50',\n",
       " 'bubbling',\n",
       " 'bucks',\n",
       " 'buddy',\n",
       " 'budget',\n",
       " 'buds',\n",
       " 'buffalo',\n",
       " 'buffet',\n",
       " 'buffets',\n",
       " 'bug',\n",
       " 'build',\n",
       " 'builders',\n",
       " 'building',\n",
       " 'buildings',\n",
       " 'built',\n",
       " 'buldogis',\n",
       " 'bulky',\n",
       " 'bullock',\n",
       " 'bully',\n",
       " 'bumpers',\n",
       " 'bunch',\n",
       " 'burger',\n",
       " 'burgers',\n",
       " 'burned',\n",
       " 'burrittos',\n",
       " 'burton',\n",
       " 'bus',\n",
       " 'business',\n",
       " 'businesses',\n",
       " 'bussell',\n",
       " 'busy',\n",
       " 'but',\n",
       " 'butter',\n",
       " 'button',\n",
       " 'buttons',\n",
       " 'buy',\n",
       " 'buyer',\n",
       " 'buyers',\n",
       " 'buying',\n",
       " 'buyit',\n",
       " 'buzzing',\n",
       " 'by',\n",
       " 'bye',\n",
       " 'ca',\n",
       " 'caballero',\n",
       " 'cable',\n",
       " 'cables',\n",
       " 'caesar',\n",
       " 'cafe',\n",
       " 'café',\n",
       " 'cailles',\n",
       " 'cake',\n",
       " 'cakes',\n",
       " 'calamari',\n",
       " 'calendar',\n",
       " 'california',\n",
       " 'call',\n",
       " 'called',\n",
       " 'calligraphy',\n",
       " 'callings',\n",
       " 'calls',\n",
       " 'came',\n",
       " 'camelback',\n",
       " 'cameo',\n",
       " 'camera',\n",
       " 'camerawork',\n",
       " 'camp',\n",
       " 'campy',\n",
       " 'can',\n",
       " 'canada',\n",
       " 'canal',\n",
       " 'cancan',\n",
       " 'cancellation',\n",
       " 'cancelling',\n",
       " 'candace',\n",
       " 'candle',\n",
       " 'cannoli',\n",
       " 'cannot',\n",
       " 'cant',\n",
       " 'capability',\n",
       " 'capacity',\n",
       " 'cape',\n",
       " 'capers',\n",
       " 'captain',\n",
       " 'captured',\n",
       " 'captures',\n",
       " 'car',\n",
       " 'carbs',\n",
       " 'card',\n",
       " 'cardboard',\n",
       " 'cardellini',\n",
       " 'care',\n",
       " 'careful',\n",
       " 'caring',\n",
       " 'carly',\n",
       " 'carol',\n",
       " 'carpaccio',\n",
       " 'carrell',\n",
       " 'carried',\n",
       " 'carriers',\n",
       " 'carries',\n",
       " 'carry',\n",
       " 'cars',\n",
       " 'cart',\n",
       " 'cartel',\n",
       " 'cartoon',\n",
       " 'cartoons',\n",
       " 'case',\n",
       " 'cases',\n",
       " 'cash',\n",
       " 'cashew',\n",
       " 'cashier',\n",
       " 'casing',\n",
       " 'casino',\n",
       " 'cassette',\n",
       " 'cast',\n",
       " 'casted',\n",
       " 'casting',\n",
       " 'cat',\n",
       " 'catching',\n",
       " 'catchy',\n",
       " 'caterpillar',\n",
       " 'caught',\n",
       " 'cause',\n",
       " 'caused',\n",
       " 'causing',\n",
       " 'cavier',\n",
       " 'cbr',\n",
       " 'cds',\n",
       " 'ceases',\n",
       " 'celebration',\n",
       " 'celebrity',\n",
       " 'cell',\n",
       " 'cellphone',\n",
       " 'cellphones',\n",
       " 'cellular',\n",
       " 'celluloid',\n",
       " 'cent',\n",
       " 'center',\n",
       " 'centers',\n",
       " 'central',\n",
       " 'century',\n",
       " 'certain',\n",
       " 'certainly',\n",
       " 'cg',\n",
       " 'cgi',\n",
       " 'chai',\n",
       " 'chains',\n",
       " 'chalkboard',\n",
       " 'challenges',\n",
       " 'chance',\n",
       " 'change',\n",
       " 'changes',\n",
       " 'changing',\n",
       " 'channel',\n",
       " 'char',\n",
       " 'character',\n",
       " 'characterisation',\n",
       " 'characters',\n",
       " 'charcoal',\n",
       " 'charge',\n",
       " 'charged',\n",
       " 'charger',\n",
       " 'chargers',\n",
       " 'charges',\n",
       " 'charging',\n",
       " 'charisma',\n",
       " 'charismatic',\n",
       " 'charles',\n",
       " 'charlie',\n",
       " 'charm',\n",
       " 'charming',\n",
       " 'chase',\n",
       " 'chasing',\n",
       " 'cheap',\n",
       " 'cheaper',\n",
       " 'cheaply',\n",
       " 'cheapy',\n",
       " 'cheated',\n",
       " 'check',\n",
       " 'checked',\n",
       " 'checking',\n",
       " 'cheek',\n",
       " 'cheekbones',\n",
       " 'cheerfull',\n",
       " 'cheerless',\n",
       " 'cheese',\n",
       " 'cheeseburger',\n",
       " 'cheesecurds',\n",
       " 'cheesiness',\n",
       " 'cheesy',\n",
       " 'chef',\n",
       " 'chefs',\n",
       " 'chemistry',\n",
       " 'chewy',\n",
       " 'chick',\n",
       " 'chicken',\n",
       " 'chickens',\n",
       " 'child',\n",
       " 'childhood',\n",
       " 'children',\n",
       " 'childrens',\n",
       " 'chills',\n",
       " 'chilly',\n",
       " 'chimp',\n",
       " 'china',\n",
       " 'chinese',\n",
       " 'chip',\n",
       " 'chipolte',\n",
       " 'chipotle',\n",
       " 'chips',\n",
       " 'chocolate',\n",
       " 'chodorov',\n",
       " 'choice',\n",
       " 'choices',\n",
       " 'choked',\n",
       " 'choose',\n",
       " 'chosen',\n",
       " 'choux',\n",
       " 'chow',\n",
       " 'christmas',\n",
       " 'christopher',\n",
       " 'church',\n",
       " 'cibo',\n",
       " 'cinema',\n",
       " 'cinematic',\n",
       " 'cinematographers',\n",
       " 'cinematography',\n",
       " 'cingulair',\n",
       " 'cingular',\n",
       " 'circumstances',\n",
       " 'claimed',\n",
       " 'clarity',\n",
       " 'class',\n",
       " 'classic',\n",
       " 'classical',\n",
       " 'classics',\n",
       " 'classy',\n",
       " 'clean',\n",
       " 'clear',\n",
       " 'clearer',\n",
       " 'clearly',\n",
       " 'clever',\n",
       " 'cliche',\n",
       " 'clichés',\n",
       " 'clicks',\n",
       " 'clients',\n",
       " 'cliff',\n",
       " 'climax',\n",
       " 'climbing',\n",
       " 'clip',\n",
       " 'clipping',\n",
       " 'clips',\n",
       " 'clock',\n",
       " 'close',\n",
       " 'closed',\n",
       " 'clothes',\n",
       " 'club',\n",
       " 'clue',\n",
       " 'co',\n",
       " 'coach',\n",
       " 'coal',\n",
       " 'coastal',\n",
       " 'coaster',\n",
       " 'cocktail',\n",
       " 'cocktails',\n",
       " 'coconut',\n",
       " 'cod',\n",
       " 'coffee',\n",
       " 'coherent',\n",
       " 'cold',\n",
       " 'colder',\n",
       " 'cole',\n",
       " 'colleague',\n",
       " 'collect',\n",
       " 'collective',\n",
       " 'college',\n",
       " 'color',\n",
       " 'colored',\n",
       " 'colorful',\n",
       " 'colors',\n",
       " 'colours',\n",
       " 'columbo',\n",
       " 'combination',\n",
       " 'combo',\n",
       " 'combos',\n",
       " 'come',\n",
       " 'comedic',\n",
       " 'comedy',\n",
       " 'comes',\n",
       " 'comfort',\n",
       " 'comfortable',\n",
       " 'comfortably',\n",
       " 'comfortible',\n",
       " 'comforting',\n",
       " 'comical',\n",
       " 'coming',\n",
       " 'commands',\n",
       " 'comment',\n",
       " 'commentary',\n",
       " 'commented',\n",
       " 'comments',\n",
       " 'commercial',\n",
       " 'commercials',\n",
       " 'common',\n",
       " 'communicate',\n",
       " 'communication',\n",
       " 'communications',\n",
       " 'community',\n",
       " 'commuter',\n",
       " 'companions',\n",
       " 'company',\n",
       " 'comparably',\n",
       " 'compared',\n",
       " 'compelling',\n",
       " 'compete',\n",
       " 'competent',\n",
       " 'competitors',\n",
       " 'complain',\n",
       " 'complained',\n",
       " 'complaint',\n",
       " 'complaints',\n",
       " 'complete',\n",
       " 'completed',\n",
       " 'completely',\n",
       " 'complex',\n",
       " 'complexity',\n",
       " 'compliments',\n",
       " 'composed',\n",
       " 'composition',\n",
       " 'comprehensible',\n",
       " 'compromise',\n",
       " 'computer',\n",
       " 'con',\n",
       " 'concentrate',\n",
       " 'concept',\n",
       " 'conception',\n",
       " 'conceptually',\n",
       " 'concern',\n",
       " 'concerning',\n",
       " 'concerns',\n",
       " 'concert',\n",
       " 'conclusion',\n",
       " 'concrete',\n",
       " 'condescends',\n",
       " 'condiment',\n",
       " 'conditions',\n",
       " 'confidence',\n",
       " 'configuration',\n",
       " 'confirm',\n",
       " 'conflict',\n",
       " 'confortable',\n",
       " 'confuses',\n",
       " 'confusing',\n",
       " 'connect',\n",
       " 'connected',\n",
       " 'connecting',\n",
       " 'connection',\n",
       " 'connections',\n",
       " 'connery',\n",
       " 'connisseur',\n",
       " 'connoisseur',\n",
       " 'connor',\n",
       " 'conrad',\n",
       " 'consequences',\n",
       " 'consider',\n",
       " 'considerable',\n",
       " 'considered',\n",
       " 'considering',\n",
       " 'considers',\n",
       " 'consistent',\n",
       " 'consolations',\n",
       " 'constant',\n",
       " 'constantine',\n",
       " 'constantly',\n",
       " 'constructed',\n",
       " 'construction',\n",
       " 'consumer',\n",
       " 'contact',\n",
       " 'contacted',\n",
       " 'contacting',\n",
       " 'contacts',\n",
       " 'contain',\n",
       " 'contained',\n",
       " 'containers',\n",
       " 'containing',\n",
       " 'contains',\n",
       " 'content',\n",
       " 'continually',\n",
       " 'continuation',\n",
       " 'continue',\n",
       " 'continues',\n",
       " 'continuity',\n",
       " 'continuously',\n",
       " ...]"
      ]
     },
     "execution_count": 337,
     "metadata": {},
     "output_type": "execute_result"
    }
   ],
   "source": [
    "Xcount_vect.get_feature_names()"
   ]
  },
  {
   "cell_type": "code",
   "execution_count": 343,
   "metadata": {},
   "outputs": [
    {
     "data": {
      "text/plain": [
       "(3000, 5155)"
      ]
     },
     "execution_count": 343,
     "metadata": {},
     "output_type": "execute_result"
    }
   ],
   "source": [
    "Xcounts.shape"
   ]
  },
  {
   "cell_type": "code",
   "execution_count": 355,
   "metadata": {},
   "outputs": [],
   "source": [
    "X_term_frequencies = []\n",
    "for j in range(0,Xcounts.shape[1]):\n",
    "    X_term_frequencies.append(sum(Xcounts[:,j].toarray()))"
   ]
  },
  {
   "cell_type": "code",
   "execution_count": 356,
   "metadata": {},
   "outputs": [],
   "source": [
    "X_term_frequencies = np.asarray(Xcounts.sum(axis=0))[0]"
   ]
  },
  {
   "cell_type": "code",
   "execution_count": 359,
   "metadata": {},
   "outputs": [
    {
     "data": {
      "text/plain": [
       "3"
      ]
     },
     "execution_count": 359,
     "metadata": {},
     "output_type": "execute_result"
    }
   ],
   "source": [
    "X_term_frequencies[2]"
   ]
  },
  {
   "cell_type": "markdown",
   "metadata": {},
   "source": [
    "## New Data Visualizations"
   ]
  },
  {
   "cell_type": "code",
   "execution_count": 362,
   "metadata": {},
   "outputs": [
    {
     "data": {
      "text/html": [
       "<iframe id=\"igraph\" scrolling=\"no\" style=\"border:none;\" seamless=\"seamless\" src=\"https://plot.ly/~aren9564056/54.embed\" height=\"525px\" width=\"100%\"></iframe>"
      ],
      "text/plain": [
       "<plotly.tools.PlotlyDisplay object>"
      ]
     },
     "execution_count": 362,
     "metadata": {},
     "output_type": "execute_result"
    }
   ],
   "source": [
    "import plotly.plotly as py\n",
    "import plotly.graph_objs as go\n",
    "\n",
    "\n",
    "import numpy as np\n",
    "\n",
    "N = 1000\n",
    "\n",
    "\n",
    "# Create a trace\n",
    "trace = go.Scatter(\n",
    "    x = Xcount_vect.get_feature_names()[-500:],\n",
    "    y = X_term_frequencies[-500:],\n",
    "    mode = 'markers'\n",
    ")\n",
    "\n",
    "data = [trace]\n",
    "\n",
    "\n",
    "py.iplot(data, filename='basic-scatter')"
   ]
  },
  {
   "cell_type": "markdown",
   "metadata": {},
   "source": [
    "## Generate TF-IDF features"
   ]
  },
  {
   "cell_type": "code",
   "execution_count": 363,
   "metadata": {},
   "outputs": [],
   "source": [
    "from sklearn.feature_extraction.text import TfidfTransformer \n",
    "from sklearn.feature_extraction.text import CountVectorizer "
   ]
  },
  {
   "cell_type": "code",
   "execution_count": 368,
   "metadata": {},
   "outputs": [
    {
     "data": {
      "text/plain": [
       "<3000x5155 sparse matrix of type '<class 'numpy.float64'>'\n",
       "\twith 31578 stored elements in Compressed Sparse Row format>"
      ]
     },
     "execution_count": 368,
     "metadata": {},
     "output_type": "execute_result"
    }
   ],
   "source": [
    "trans = TfidfTransformer()\n",
    "tfidf = trans.fit_transform(Xcount_vect.fit_transform(X_data.text))\n",
    "tfidf"
   ]
  },
  {
   "cell_type": "code",
   "execution_count": 369,
   "metadata": {},
   "outputs": [
    {
     "name": "stdout",
     "output_type": "stream",
     "text": [
      "  (0, 4987)\t0.2491294046459131\n",
      "  (0, 4835)\t0.2754107317478931\n",
      "  (0, 4793)\t0.3318790878324875\n",
      "  (0, 4609)\t0.12748933093019277\n",
      "  (0, 4545)\t0.20763211346881047\n",
      "  (0, 4531)\t0.08671624087955354\n",
      "  (0, 4161)\t0.18746612963796122\n",
      "  (0, 3387)\t0.3086188222683411\n",
      "  (0, 3043)\t0.2233953446781101\n",
      "  (0, 2809)\t0.22865092628677172\n",
      "  (0, 2432)\t0.11981679118086062\n",
      "  (0, 2427)\t0.12068394874592436\n",
      "  (0, 2314)\t0.29561117077545607\n",
      "  (0, 2158)\t0.22277715355242933\n",
      "  (0, 1982)\t0.2315120239113502\n",
      "  (0, 1829)\t0.1562076631086733\n",
      "  (0, 1013)\t0.39829526887338346\n",
      "  (0, 647)\t0.2233953446781101\n",
      "  (1, 4861)\t0.6340416987777308\n",
      "  (1, 1993)\t0.3364192842689825\n",
      "  (1, 1603)\t0.47072204948062\n",
      "  (1, 713)\t0.513063291919973\n",
      "  (2, 4531)\t0.1955703921972776\n",
      "  (2, 2449)\t0.8233779731740677\n",
      "  (2, 2023)\t0.3996123298170515\n",
      "  :\t:\n",
      "  (2996, 3122)\t0.1800014535837048\n",
      "  (2996, 2700)\t0.329320374927111\n",
      "  (2996, 2314)\t0.15154775237713103\n",
      "  (2996, 1742)\t0.19405472443716265\n",
      "  (2996, 243)\t0.24739908124803336\n",
      "  (2997, 5089)\t0.6134751015345533\n",
      "  (2997, 2432)\t0.22531103984976358\n",
      "  (2997, 2427)\t0.22694169754617255\n",
      "  (2997, 2314)\t0.2779429311292696\n",
      "  (2997, 1505)\t0.6664296122390716\n",
      "  (2998, 1608)\t0.8796167145567719\n",
      "  (2998, 373)\t0.47568312506578425\n",
      "  (2999, 4973)\t0.28423927011950234\n",
      "  (2999, 4609)\t0.13801679869640382\n",
      "  (2999, 3124)\t0.21158158352391807\n",
      "  (2999, 3097)\t0.1406292704317757\n",
      "  (2999, 2918)\t0.287383581831477\n",
      "  (2999, 2436)\t0.27452949500227414\n",
      "  (2999, 2386)\t0.38366095787342175\n",
      "  (2999, 2379)\t0.38366095787342175\n",
      "  (2999, 2314)\t0.16001067364477806\n",
      "  (2999, 2246)\t0.33825454506866176\n",
      "  (2999, 216)\t0.11196130487391114\n",
      "  (2999, 214)\t0.22725945923279875\n",
      "  (2999, 179)\t0.42316316704783613\n"
     ]
    }
   ],
   "source": [
    "print(tfidf)"
   ]
  },
  {
   "cell_type": "markdown",
   "metadata": {},
   "source": [
    "## Compute The Similarity "
   ]
  },
  {
   "cell_type": "code",
   "execution_count": null,
   "metadata": {},
   "outputs": [],
   "source": []
  },
  {
   "cell_type": "code",
   "execution_count": 393,
   "metadata": {},
   "outputs": [
    {
     "data": {
      "text/plain": [
       "'So there is no way for me to plug it in here in the US unless I go by a converter.'"
      ]
     },
     "execution_count": 393,
     "metadata": {},
     "output_type": "execute_result"
    }
   ],
   "source": [
    "X_data.text[0]"
   ]
  },
  {
   "cell_type": "code",
   "execution_count": 394,
   "metadata": {},
   "outputs": [
    {
     "data": {
      "text/plain": [
       "\"All in all its an insult to one's intelligence and a huge waste of money.  \""
      ]
     },
     "execution_count": 394,
     "metadata": {},
     "output_type": "execute_result"
    }
   ],
   "source": [
    "X_data.text[2999]"
   ]
  },
  {
   "cell_type": "code",
   "execution_count": 383,
   "metadata": {},
   "outputs": [
    {
     "data": {
      "text/plain": [
       "<1x5155 sparse matrix of type '<class 'numpy.float64'>'\n",
       "\twith 18 stored elements in Compressed Sparse Row format>"
      ]
     },
     "execution_count": 383,
     "metadata": {},
     "output_type": "execute_result"
    }
   ],
   "source": [
    "tfidf[0:1]"
   ]
  },
  {
   "cell_type": "code",
   "execution_count": 384,
   "metadata": {},
   "outputs": [],
   "source": [
    "from sklearn.metrics.pairwise import cosine_similarity"
   ]
  },
  {
   "cell_type": "code",
   "execution_count": 391,
   "metadata": {},
   "outputs": [
    {
     "data": {
      "text/plain": [
       "array([[0.06489661]])"
      ]
     },
     "execution_count": 391,
     "metadata": {},
     "output_type": "execute_result"
    }
   ],
   "source": [
    "cosine_similarity(tfidf[0:1], tfidf[2999])"
   ]
  },
  {
   "cell_type": "markdown",
   "metadata": {},
   "source": [
    " the first sentence and the final sentence's cosine similarity use tf-idf is 0.06489661"
   ]
  },
  {
   "cell_type": "code",
   "execution_count": 404,
   "metadata": {},
   "outputs": [
    {
     "data": {
      "text/plain": [
       "<1x5155 sparse matrix of type '<class 'numpy.int64'>'\n",
       "\twith 18 stored elements in Compressed Sparse Row format>"
      ]
     },
     "execution_count": 404,
     "metadata": {},
     "output_type": "execute_result"
    }
   ],
   "source": [
    "Xcounts[0]\n"
   ]
  },
  {
   "cell_type": "code",
   "execution_count": 406,
   "metadata": {},
   "outputs": [
    {
     "data": {
      "text/plain": [
       "array([[0.16366342]])"
      ]
     },
     "execution_count": 406,
     "metadata": {},
     "output_type": "execute_result"
    }
   ],
   "source": [
    "cosine_similarity(Xcounts[0], Xcounts[2999])"
   ]
  },
  {
   "cell_type": "markdown",
   "metadata": {},
   "source": [
    "the first sentence and the final sentence's cosine similarity use term frequencies is 0.16366342"
   ]
  },
  {
   "cell_type": "markdown",
   "metadata": {},
   "source": [
    "## Implement a simple Naive Bayes classifier"
   ]
  },
  {
   "cell_type": "code",
   "execution_count": 408,
   "metadata": {},
   "outputs": [],
   "source": [
    "from sklearn.model_selection import train_test_split"
   ]
  },
  {
   "cell_type": "code",
   "execution_count": 469,
   "metadata": {},
   "outputs": [],
   "source": [
    "X_train,X_test,y_train,y_test = train_test_split(X_data.text,X_data.senti,test_size=0.25,random_state=42)\n",
    "X_train = trans.fit_transform(Xcount_vect.fit_transform(X_train))\n",
    "X_test = trans.transform(Xcount_vect.transform(X_test))\n",
    "\n"
   ]
  },
  {
   "cell_type": "code",
   "execution_count": 470,
   "metadata": {},
   "outputs": [
    {
     "name": "stdout",
     "output_type": "stream",
     "text": [
      "0.7911111111111111\n"
     ]
    }
   ],
   "source": [
    "from sklearn.naive_bayes import MultinomialNB\n",
    " \n",
    "mnb = MultinomialNB()\n",
    " \n",
    "mnb.fit(X_train, y_train)\n",
    "y_predict = mnb.predict(X_test)\n",
    "count=0\n",
    "for i in y_test:\n",
    "    a=0\n",
    "    if y_predict[a]==i:\n",
    "        count=count+1\n",
    "        \n",
    "    a=a+1   \n",
    "accuracy = count/450\n",
    "print(accuracy)"
   ]
  },
  {
   "cell_type": "markdown",
   "metadata": {},
   "source": []
  },
  {
   "cell_type": "code",
   "execution_count": null,
   "metadata": {},
   "outputs": [],
   "source": []
  },
  {
   "cell_type": "code",
   "execution_count": null,
   "metadata": {},
   "outputs": [],
   "source": []
  }
 ],
 "metadata": {
  "kernelspec": {
   "display_name": "Python 3",
   "language": "python",
   "name": "python3"
  },
  "language_info": {
   "codemirror_mode": {
    "name": "ipython",
    "version": 3
   },
   "file_extension": ".py",
   "mimetype": "text/x-python",
   "name": "python",
   "nbconvert_exporter": "python",
   "pygments_lexer": "ipython3",
   "version": "3.7.0"
  }
 },
 "nbformat": 4,
 "nbformat_minor": 2
}
